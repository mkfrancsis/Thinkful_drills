{
 "cells": [
  {
   "cell_type": "markdown",
   "metadata": {},
   "source": [
    "# Naive Bayes Model for Amazon Reviews\n",
    "\n",
    "This is a Naive Bayes model built to parse good and bad reviews left on Amazon for a variety of products.  The data are from the [UC-Irvine Machine Learning Repository](https://archive.ics.uci.edu/ml/datasets/Sentiment+Labelled+Sentences).  There are total of 1000 reviews - 500 positive and 500 negative."
   ]
  },
  {
   "cell_type": "code",
   "execution_count": 1,
   "metadata": {},
   "outputs": [],
   "source": [
    "import pandas as pd\n",
    "import numpy as np\n",
    "import matplotlib.pyplot as plt\n",
    "import seaborn as sns\n",
    "import scipy\n",
    "import sklearn\n",
    "import string\n",
    "from collections import Counter\n",
    "%matplotlib inline"
   ]
  },
  {
   "cell_type": "code",
   "execution_count": 2,
   "metadata": {},
   "outputs": [],
   "source": [
    "reviews = pd.read_csv('sentiment labelled sentences/amazon_cells_labelled.txt', \n",
    "                      delimiter='\\t',\n",
    "                      header=None)"
   ]
  },
  {
   "cell_type": "code",
   "execution_count": 3,
   "metadata": {},
   "outputs": [
    {
     "data": {
      "text/html": [
       "<div>\n",
       "<style scoped>\n",
       "    .dataframe tbody tr th:only-of-type {\n",
       "        vertical-align: middle;\n",
       "    }\n",
       "\n",
       "    .dataframe tbody tr th {\n",
       "        vertical-align: top;\n",
       "    }\n",
       "\n",
       "    .dataframe thead th {\n",
       "        text-align: right;\n",
       "    }\n",
       "</style>\n",
       "<table border=\"1\" class=\"dataframe\">\n",
       "  <thead>\n",
       "    <tr style=\"text-align: right;\">\n",
       "      <th></th>\n",
       "      <th>0</th>\n",
       "      <th>1</th>\n",
       "    </tr>\n",
       "  </thead>\n",
       "  <tbody>\n",
       "    <tr>\n",
       "      <th>0</th>\n",
       "      <td>So there is no way for me to plug it in here i...</td>\n",
       "      <td>0</td>\n",
       "    </tr>\n",
       "    <tr>\n",
       "      <th>1</th>\n",
       "      <td>Good case, Excellent value.</td>\n",
       "      <td>1</td>\n",
       "    </tr>\n",
       "    <tr>\n",
       "      <th>2</th>\n",
       "      <td>Great for the jawbone.</td>\n",
       "      <td>1</td>\n",
       "    </tr>\n",
       "    <tr>\n",
       "      <th>3</th>\n",
       "      <td>Tied to charger for conversations lasting more...</td>\n",
       "      <td>0</td>\n",
       "    </tr>\n",
       "    <tr>\n",
       "      <th>4</th>\n",
       "      <td>The mic is great.</td>\n",
       "      <td>1</td>\n",
       "    </tr>\n",
       "  </tbody>\n",
       "</table>\n",
       "</div>"
      ],
      "text/plain": [
       "                                                   0  1\n",
       "0  So there is no way for me to plug it in here i...  0\n",
       "1                        Good case, Excellent value.  1\n",
       "2                             Great for the jawbone.  1\n",
       "3  Tied to charger for conversations lasting more...  0\n",
       "4                                  The mic is great.  1"
      ]
     },
     "execution_count": 3,
     "metadata": {},
     "output_type": "execute_result"
    }
   ],
   "source": [
    "reviews.head()"
   ]
  },
  {
   "cell_type": "code",
   "execution_count": 4,
   "metadata": {},
   "outputs": [],
   "source": [
    "pd.set_option('display.max_colwidth', -1)\n",
    "reviews.columns = ['review', 'sentiment']"
   ]
  },
  {
   "cell_type": "code",
   "execution_count": 5,
   "metadata": {},
   "outputs": [
    {
     "data": {
      "text/html": [
       "<div>\n",
       "<style scoped>\n",
       "    .dataframe tbody tr th:only-of-type {\n",
       "        vertical-align: middle;\n",
       "    }\n",
       "\n",
       "    .dataframe tbody tr th {\n",
       "        vertical-align: top;\n",
       "    }\n",
       "\n",
       "    .dataframe thead th {\n",
       "        text-align: right;\n",
       "    }\n",
       "</style>\n",
       "<table border=\"1\" class=\"dataframe\">\n",
       "  <thead>\n",
       "    <tr style=\"text-align: right;\">\n",
       "      <th></th>\n",
       "      <th>sentiment</th>\n",
       "    </tr>\n",
       "  </thead>\n",
       "  <tbody>\n",
       "    <tr>\n",
       "      <th>count</th>\n",
       "      <td>1000.00000</td>\n",
       "    </tr>\n",
       "    <tr>\n",
       "      <th>mean</th>\n",
       "      <td>0.50000</td>\n",
       "    </tr>\n",
       "    <tr>\n",
       "      <th>std</th>\n",
       "      <td>0.50025</td>\n",
       "    </tr>\n",
       "    <tr>\n",
       "      <th>min</th>\n",
       "      <td>0.00000</td>\n",
       "    </tr>\n",
       "    <tr>\n",
       "      <th>25%</th>\n",
       "      <td>0.00000</td>\n",
       "    </tr>\n",
       "    <tr>\n",
       "      <th>50%</th>\n",
       "      <td>0.50000</td>\n",
       "    </tr>\n",
       "    <tr>\n",
       "      <th>75%</th>\n",
       "      <td>1.00000</td>\n",
       "    </tr>\n",
       "    <tr>\n",
       "      <th>max</th>\n",
       "      <td>1.00000</td>\n",
       "    </tr>\n",
       "  </tbody>\n",
       "</table>\n",
       "</div>"
      ],
      "text/plain": [
       "        sentiment\n",
       "count  1000.00000\n",
       "mean   0.50000   \n",
       "std    0.50025   \n",
       "min    0.00000   \n",
       "25%    0.00000   \n",
       "50%    0.50000   \n",
       "75%    1.00000   \n",
       "max    1.00000   "
      ]
     },
     "execution_count": 5,
     "metadata": {},
     "output_type": "execute_result"
    }
   ],
   "source": [
    "reviews.describe()"
   ]
  },
  {
   "cell_type": "code",
   "execution_count": 6,
   "metadata": {},
   "outputs": [],
   "source": [
    "good = reviews.loc[reviews['sentiment'] == 1]\n",
    "bad = reviews.loc[reviews['sentiment'] == 0]"
   ]
  },
  {
   "cell_type": "code",
   "execution_count": 28,
   "metadata": {},
   "outputs": [
    {
     "data": {
      "text/plain": [
       "112    its a little geeky but i think thats its sex on toast and it rocks and oozes sex right down to its battery embedded sleek stylish leather case.\n",
       "877    Excellent!.                                                                                                                                    \n",
       "284    I got it because it was so small and adorable.                                                                                                 \n",
       "301    Now I know that I made a wise decision.                                                                                                        \n",
       "673    It is well made, easy to access the phone and has a handy, detachable belt clip.                                                               \n",
       "918    Works for me.                                                                                                                                  \n",
       "811    #1 It Works - #2 It is Comfortable.                                                                                                            \n",
       "720    Good value, works fine - power via USB, car, or wall outlet.                                                                                   \n",
       "312    Also its slim enough to fit into my alarm clock docking station without removing the case.                                                     \n",
       "911    So I bought about 10 of these and saved alot of money.                                                                                         \n",
       "Name: review, dtype: object"
      ]
     },
     "execution_count": 28,
     "metadata": {},
     "output_type": "execute_result"
    }
   ],
   "source": [
    "# Rerun this cell to cycle through good or bad reviews\n",
    "good['review'].sample(10)"
   ]
  },
  {
   "cell_type": "code",
   "execution_count": 26,
   "metadata": {},
   "outputs": [],
   "source": [
    "def words(review):\n",
    "    translator = str.maketrans('', '', string.punctuation)\n",
    "    words = review.translate(translator).lower().split()\n",
    "    return words\n",
    "\n",
    "def words_as_string(review):\n",
    "    translator = str.maketrans('', '', string.punctuation)\n",
    "    words = review.translate(translator).lower().split()\n",
    "    words = ' '.join(words)\n",
    "    return words"
   ]
  },
  {
   "cell_type": "code",
   "execution_count": 9,
   "metadata": {},
   "outputs": [
    {
     "name": "stderr",
     "output_type": "stream",
     "text": [
      "/Users/mkfrancsis/anaconda3/lib/python3.7/site-packages/ipykernel_launcher.py:1: SettingWithCopyWarning: \n",
      "A value is trying to be set on a copy of a slice from a DataFrame.\n",
      "Try using .loc[row_indexer,col_indexer] = value instead\n",
      "\n",
      "See the caveats in the documentation: http://pandas.pydata.org/pandas-docs/stable/indexing.html#indexing-view-versus-copy\n",
      "  \"\"\"Entry point for launching an IPython kernel.\n",
      "/Users/mkfrancsis/anaconda3/lib/python3.7/site-packages/ipykernel_launcher.py:2: SettingWithCopyWarning: \n",
      "A value is trying to be set on a copy of a slice from a DataFrame.\n",
      "Try using .loc[row_indexer,col_indexer] = value instead\n",
      "\n",
      "See the caveats in the documentation: http://pandas.pydata.org/pandas-docs/stable/indexing.html#indexing-view-versus-copy\n",
      "  \n"
     ]
    }
   ],
   "source": [
    "good['review_stripped'] = good['review'].apply(words)\n",
    "bad['review_stripped'] = bad['review'].apply(words)"
   ]
  },
  {
   "cell_type": "code",
   "execution_count": 10,
   "metadata": {},
   "outputs": [],
   "source": [
    "full_list_good_review_words = []\n",
    "\n",
    "for r in good['review_stripped']:\n",
    "    for w in r:\n",
    "        full_list_good_review_words.append(w)\n",
    "\n",
    "        \n",
    "full_list_bad_review_words = []\n",
    "\n",
    "for r in bad['review_stripped']:\n",
    "    for w in r:\n",
    "        full_list_bad_review_words.append(w)"
   ]
  },
  {
   "cell_type": "code",
   "execution_count": 11,
   "metadata": {},
   "outputs": [
    {
     "data": {
      "text/plain": [
       "[('the', 237),\n",
       " ('and', 188),\n",
       " ('i', 154),\n",
       " ('is', 141),\n",
       " ('it', 128),\n",
       " ('this', 105),\n",
       " ('a', 105),\n",
       " ('great', 92),\n",
       " ('to', 86),\n",
       " ('phone', 86),\n",
       " ('my', 72),\n",
       " ('very', 69),\n",
       " ('for', 66),\n",
       " ('with', 65),\n",
       " ('good', 62),\n",
       " ('of', 49),\n",
       " ('works', 46),\n",
       " ('on', 44),\n",
       " ('have', 38),\n",
       " ('was', 36),\n",
       " ('in', 34),\n",
       " ('product', 33),\n",
       " ('that', 32),\n",
       " ('quality', 31),\n",
       " ('well', 31),\n",
       " ('headset', 31),\n",
       " ('sound', 27),\n",
       " ('excellent', 26),\n",
       " ('so', 26),\n",
       " ('price', 25),\n",
       " ('has', 24),\n",
       " ('its', 24),\n",
       " ('one', 23),\n",
       " ('are', 22),\n",
       " ('battery', 22),\n",
       " ('nice', 22),\n",
       " ('you', 21),\n",
       " ('use', 21),\n",
       " ('best', 21),\n",
       " ('had', 21),\n",
       " ('but', 21),\n",
       " ('recommend', 20),\n",
       " ('as', 20),\n",
       " ('all', 20),\n",
       " ('love', 20),\n",
       " ('ive', 19),\n",
       " ('than', 19),\n",
       " ('case', 18),\n",
       " ('like', 18),\n",
       " ('would', 17),\n",
       " ('from', 16),\n",
       " ('ear', 16),\n",
       " ('any', 15),\n",
       " ('not', 15),\n",
       " ('really', 15),\n",
       " ('comfortable', 14),\n",
       " ('easy', 14),\n",
       " ('your', 14),\n",
       " ('happy', 13),\n",
       " ('these', 13),\n",
       " ('new', 12),\n",
       " ('up', 12),\n",
       " ('fine', 12),\n",
       " ('bluetooth', 12),\n",
       " ('just', 12),\n",
       " ('been', 12),\n",
       " ('no', 12),\n",
       " ('better', 12),\n",
       " ('im', 12),\n",
       " ('am', 12),\n",
       " ('can', 11),\n",
       " ('car', 11),\n",
       " ('even', 11),\n",
       " ('time', 11),\n",
       " ('also', 11)]"
      ]
     },
     "execution_count": 11,
     "metadata": {},
     "output_type": "execute_result"
    }
   ],
   "source": [
    "# Using Counter to programatically identify high usage words\n",
    "Counter(full_list_good_review_words).most_common(75)"
   ]
  },
  {
   "cell_type": "code",
   "execution_count": 12,
   "metadata": {},
   "outputs": [],
   "source": [
    "# Manual review of the Counter list\n",
    "list_of_good_words = ['great', 'good', 'works', 'quality', 'well', 'excellent', \n",
    "                      'best', 'recommend', 'love', 'like', 'really', 'comfortable', \n",
    "                      'easy', 'happy', 'new', 'fine', 'better']"
   ]
  },
  {
   "cell_type": "code",
   "execution_count": 13,
   "metadata": {},
   "outputs": [
    {
     "data": {
      "text/plain": [
       "[('the', 276),\n",
       " ('i', 162),\n",
       " ('it', 153),\n",
       " ('and', 122),\n",
       " ('a', 113),\n",
       " ('to', 110),\n",
       " ('is', 102),\n",
       " ('not', 102),\n",
       " ('this', 101),\n",
       " ('phone', 76),\n",
       " ('my', 71),\n",
       " ('of', 70),\n",
       " ('for', 55),\n",
       " ('in', 54),\n",
       " ('was', 54),\n",
       " ('that', 48),\n",
       " ('you', 47),\n",
       " ('with', 47),\n",
       " ('on', 45),\n",
       " ('have', 35),\n",
       " ('very', 34),\n",
       " ('had', 27),\n",
       " ('dont', 26),\n",
       " ('as', 25),\n",
       " ('but', 25),\n",
       " ('work', 25),\n",
       " ('if', 24),\n",
       " ('battery', 23),\n",
       " ('product', 22),\n",
       " ('all', 21),\n",
       " ('after', 21),\n",
       " ('me', 20),\n",
       " ('are', 20),\n",
       " ('use', 20),\n",
       " ('ear', 19),\n",
       " ('does', 19),\n",
       " ('its', 19),\n",
       " ('money', 18),\n",
       " ('your', 18),\n",
       " ('quality', 18),\n",
       " ('one', 17),\n",
       " ('from', 17),\n",
       " ('would', 17),\n",
       " ('out', 17),\n",
       " ('only', 17),\n",
       " ('so', 16),\n",
       " ('time', 16),\n",
       " ('headset', 16),\n",
       " ('at', 16),\n",
       " ('be', 16),\n",
       " ('or', 15),\n",
       " ('then', 15),\n",
       " ('do', 15),\n",
       " ('first', 15),\n",
       " ('poor', 15),\n",
       " ('service', 15),\n",
       " ('when', 15),\n",
       " ('no', 14),\n",
       " ('get', 14),\n",
       " ('up', 14),\n",
       " ('what', 14),\n",
       " ('waste', 14),\n",
       " ('sound', 14),\n",
       " ('doesnt', 14),\n",
       " ('buy', 14),\n",
       " ('bad', 14),\n",
       " ('worst', 14),\n",
       " ('could', 13),\n",
       " ('good', 13),\n",
       " ('too', 13),\n",
       " ('ever', 13),\n",
       " ('charger', 12),\n",
       " ('like', 12),\n",
       " ('off', 12),\n",
       " ('im', 12)]"
      ]
     },
     "execution_count": 13,
     "metadata": {},
     "output_type": "execute_result"
    }
   ],
   "source": [
    "Counter(full_list_bad_review_words).most_common(75)"
   ]
  },
  {
   "cell_type": "code",
   "execution_count": 14,
   "metadata": {},
   "outputs": [],
   "source": [
    "list_of_bad_words = ['not', \"dont\", 'work', 'out', 'poor', 'no', \"doesnt\", 'bad', 'worst']"
   ]
  },
  {
   "cell_type": "code",
   "execution_count": 15,
   "metadata": {},
   "outputs": [],
   "source": [
    "# Remove upper case and punctuation from reviews\n",
    "reviews['review_stripped'] = reviews['review'].apply(words_as_string)"
   ]
  },
  {
   "cell_type": "code",
   "execution_count": 16,
   "metadata": {},
   "outputs": [],
   "source": [
    "# Turing sentiment from 1/0 to boolean\n",
    "reviews['sentiment'] = (reviews['sentiment'] == 1)"
   ]
  },
  {
   "cell_type": "code",
   "execution_count": 17,
   "metadata": {},
   "outputs": [],
   "source": [
    "for gw in list_of_good_words:\n",
    "    # Adding spaces around each word to eliminate pattern matching inside other words.\n",
    "    reviews[str(gw)] = reviews['review_stripped'].str.contains(' ' + str(gw) + ' ')\n",
    "    \n",
    "    \n",
    "    \n",
    "# Found model had poor performance when the list of bad words was included\n",
    "#\n",
    "# for bw in list_of_bad_words:\n",
    "#     reviews[str(bw)] = reviews['review_stripped'].str.contains(' ' + str(bw) + ' ')"
   ]
  },
  {
   "cell_type": "code",
   "execution_count": 18,
   "metadata": {},
   "outputs": [
    {
     "data": {
      "text/html": [
       "<div>\n",
       "<style scoped>\n",
       "    .dataframe tbody tr th:only-of-type {\n",
       "        vertical-align: middle;\n",
       "    }\n",
       "\n",
       "    .dataframe tbody tr th {\n",
       "        vertical-align: top;\n",
       "    }\n",
       "\n",
       "    .dataframe thead th {\n",
       "        text-align: right;\n",
       "    }\n",
       "</style>\n",
       "<table border=\"1\" class=\"dataframe\">\n",
       "  <thead>\n",
       "    <tr style=\"text-align: right;\">\n",
       "      <th></th>\n",
       "      <th>review</th>\n",
       "      <th>sentiment</th>\n",
       "      <th>review_stripped</th>\n",
       "      <th>great</th>\n",
       "      <th>good</th>\n",
       "      <th>works</th>\n",
       "      <th>quality</th>\n",
       "      <th>well</th>\n",
       "      <th>excellent</th>\n",
       "      <th>best</th>\n",
       "      <th>recommend</th>\n",
       "      <th>love</th>\n",
       "      <th>like</th>\n",
       "      <th>really</th>\n",
       "      <th>comfortable</th>\n",
       "      <th>easy</th>\n",
       "      <th>happy</th>\n",
       "      <th>new</th>\n",
       "      <th>fine</th>\n",
       "      <th>better</th>\n",
       "    </tr>\n",
       "  </thead>\n",
       "  <tbody>\n",
       "    <tr>\n",
       "      <th>0</th>\n",
       "      <td>So there is no way for me to plug it in here in the US unless I go by a converter.</td>\n",
       "      <td>False</td>\n",
       "      <td>so there is no way for me to plug it in here in the us unless i go by a converter</td>\n",
       "      <td>False</td>\n",
       "      <td>False</td>\n",
       "      <td>False</td>\n",
       "      <td>False</td>\n",
       "      <td>False</td>\n",
       "      <td>False</td>\n",
       "      <td>False</td>\n",
       "      <td>False</td>\n",
       "      <td>False</td>\n",
       "      <td>False</td>\n",
       "      <td>False</td>\n",
       "      <td>False</td>\n",
       "      <td>False</td>\n",
       "      <td>False</td>\n",
       "      <td>False</td>\n",
       "      <td>False</td>\n",
       "      <td>False</td>\n",
       "    </tr>\n",
       "    <tr>\n",
       "      <th>1</th>\n",
       "      <td>Good case, Excellent value.</td>\n",
       "      <td>True</td>\n",
       "      <td>good case excellent value</td>\n",
       "      <td>False</td>\n",
       "      <td>False</td>\n",
       "      <td>False</td>\n",
       "      <td>False</td>\n",
       "      <td>False</td>\n",
       "      <td>True</td>\n",
       "      <td>False</td>\n",
       "      <td>False</td>\n",
       "      <td>False</td>\n",
       "      <td>False</td>\n",
       "      <td>False</td>\n",
       "      <td>False</td>\n",
       "      <td>False</td>\n",
       "      <td>False</td>\n",
       "      <td>False</td>\n",
       "      <td>False</td>\n",
       "      <td>False</td>\n",
       "    </tr>\n",
       "    <tr>\n",
       "      <th>2</th>\n",
       "      <td>Great for the jawbone.</td>\n",
       "      <td>True</td>\n",
       "      <td>great for the jawbone</td>\n",
       "      <td>False</td>\n",
       "      <td>False</td>\n",
       "      <td>False</td>\n",
       "      <td>False</td>\n",
       "      <td>False</td>\n",
       "      <td>False</td>\n",
       "      <td>False</td>\n",
       "      <td>False</td>\n",
       "      <td>False</td>\n",
       "      <td>False</td>\n",
       "      <td>False</td>\n",
       "      <td>False</td>\n",
       "      <td>False</td>\n",
       "      <td>False</td>\n",
       "      <td>False</td>\n",
       "      <td>False</td>\n",
       "      <td>False</td>\n",
       "    </tr>\n",
       "    <tr>\n",
       "      <th>3</th>\n",
       "      <td>Tied to charger for conversations lasting more than 45 minutes.MAJOR PROBLEMS!!</td>\n",
       "      <td>False</td>\n",
       "      <td>tied to charger for conversations lasting more than 45 minutesmajor problems</td>\n",
       "      <td>False</td>\n",
       "      <td>False</td>\n",
       "      <td>False</td>\n",
       "      <td>False</td>\n",
       "      <td>False</td>\n",
       "      <td>False</td>\n",
       "      <td>False</td>\n",
       "      <td>False</td>\n",
       "      <td>False</td>\n",
       "      <td>False</td>\n",
       "      <td>False</td>\n",
       "      <td>False</td>\n",
       "      <td>False</td>\n",
       "      <td>False</td>\n",
       "      <td>False</td>\n",
       "      <td>False</td>\n",
       "      <td>False</td>\n",
       "    </tr>\n",
       "    <tr>\n",
       "      <th>4</th>\n",
       "      <td>The mic is great.</td>\n",
       "      <td>True</td>\n",
       "      <td>the mic is great</td>\n",
       "      <td>False</td>\n",
       "      <td>False</td>\n",
       "      <td>False</td>\n",
       "      <td>False</td>\n",
       "      <td>False</td>\n",
       "      <td>False</td>\n",
       "      <td>False</td>\n",
       "      <td>False</td>\n",
       "      <td>False</td>\n",
       "      <td>False</td>\n",
       "      <td>False</td>\n",
       "      <td>False</td>\n",
       "      <td>False</td>\n",
       "      <td>False</td>\n",
       "      <td>False</td>\n",
       "      <td>False</td>\n",
       "      <td>False</td>\n",
       "    </tr>\n",
       "  </tbody>\n",
       "</table>\n",
       "</div>"
      ],
      "text/plain": [
       "                                                                               review  \\\n",
       "0  So there is no way for me to plug it in here in the US unless I go by a converter.   \n",
       "1  Good case, Excellent value.                                                          \n",
       "2  Great for the jawbone.                                                               \n",
       "3  Tied to charger for conversations lasting more than 45 minutes.MAJOR PROBLEMS!!      \n",
       "4  The mic is great.                                                                    \n",
       "\n",
       "   sentiment  \\\n",
       "0  False       \n",
       "1  True        \n",
       "2  True        \n",
       "3  False       \n",
       "4  True        \n",
       "\n",
       "                                                                     review_stripped  \\\n",
       "0  so there is no way for me to plug it in here in the us unless i go by a converter   \n",
       "1  good case excellent value                                                           \n",
       "2  great for the jawbone                                                               \n",
       "3  tied to charger for conversations lasting more than 45 minutesmajor problems        \n",
       "4  the mic is great                                                                    \n",
       "\n",
       "   great   good  works  quality   well  excellent   best  recommend   love  \\\n",
       "0  False  False  False  False    False  False      False  False      False   \n",
       "1  False  False  False  False    False  True       False  False      False   \n",
       "2  False  False  False  False    False  False      False  False      False   \n",
       "3  False  False  False  False    False  False      False  False      False   \n",
       "4  False  False  False  False    False  False      False  False      False   \n",
       "\n",
       "    like  really  comfortable   easy  happy    new   fine  better  \n",
       "0  False  False   False        False  False  False  False  False   \n",
       "1  False  False   False        False  False  False  False  False   \n",
       "2  False  False   False        False  False  False  False  False   \n",
       "3  False  False   False        False  False  False  False  False   \n",
       "4  False  False   False        False  False  False  False  False   "
      ]
     },
     "execution_count": 18,
     "metadata": {},
     "output_type": "execute_result"
    }
   ],
   "source": [
    "reviews.head()"
   ]
  },
  {
   "cell_type": "code",
   "execution_count": 19,
   "metadata": {},
   "outputs": [
    {
     "name": "stdout",
     "output_type": "stream",
     "text": [
      "Number of mislabeled points out of 1000 points: 344\n"
     ]
    }
   ],
   "source": [
    "# Setting up the Bernoulli Naive Bayes model\n",
    "from sklearn.naive_bayes import BernoulliNB\n",
    "\n",
    "data = reviews.iloc[:, 3:]\n",
    "target = reviews.iloc[:, 1]\n",
    "\n",
    "bnb = BernoulliNB()\n",
    "\n",
    "bnb.fit(data, target)\n",
    "\n",
    "y_pred = bnb.predict(data)\n",
    "\n",
    "print(\"Number of mislabeled points out of {} points: {}\".format(\n",
    "    data.shape[0],\n",
    "    (target != y_pred).sum()\n",
    "))"
   ]
  },
  {
   "cell_type": "code",
   "execution_count": 30,
   "metadata": {},
   "outputs": [],
   "source": [
    "# Adding more good words to try to increase model performance\n",
    "more_good_words = ['extended battery', 'capacity', 'must have', 'exceptional', 'perfectly',\n",
    "                   'satisfied', 'it works']\n",
    "\n",
    "for mgw in more_good_words:\n",
    "    reviews[str(mgw)] = reviews['review_stripped'].str.contains(' ' + str(mgw) + ' ')"
   ]
  },
  {
   "cell_type": "code",
   "execution_count": 31,
   "metadata": {},
   "outputs": [
    {
     "name": "stdout",
     "output_type": "stream",
     "text": [
      "Number of mislabeled points out of 1000 points: 338\n"
     ]
    }
   ],
   "source": [
    "data2 = reviews.iloc[:, 3:]\n",
    "target2 = reviews.iloc[:, 1]\n",
    "\n",
    "bnb2 = BernoulliNB()\n",
    "\n",
    "bnb2.fit(data2, target2)\n",
    "y_pred2 = bnb2.predict(data2)\n",
    "\n",
    "print(\"Number of mislabeled points out of {} points: {}\".format(\n",
    "    data2.shape[0],\n",
    "    (target2 != y_pred2).sum()\n",
    "))"
   ]
  },
  {
   "cell_type": "markdown",
   "metadata": {},
   "source": [
    "# Model Performance\n",
    "The model is not performing very well at only 66% accuracy."
   ]
  },
  {
   "cell_type": "code",
   "execution_count": null,
   "metadata": {},
   "outputs": [],
   "source": []
  }
 ],
 "metadata": {
  "kernelspec": {
   "display_name": "Python 3",
   "language": "python",
   "name": "python3"
  },
  "language_info": {
   "codemirror_mode": {
    "name": "ipython",
    "version": 3
   },
   "file_extension": ".py",
   "mimetype": "text/x-python",
   "name": "python",
   "nbconvert_exporter": "python",
   "pygments_lexer": "ipython3",
   "version": "3.7.1"
  }
 },
 "nbformat": 4,
 "nbformat_minor": 2
}
