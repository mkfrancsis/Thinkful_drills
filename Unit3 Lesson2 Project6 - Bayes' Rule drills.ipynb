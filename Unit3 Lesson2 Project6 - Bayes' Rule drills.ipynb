{
 "cells": [
  {
   "cell_type": "markdown",
   "metadata": {},
   "source": [
    ">A diagnostic test has a 98% probability of giving a positive result when applied to a person suffering from Thripshaw's Disease, and 10% probability of giving a (false) positive when applied to a non-sufferer. It is estimated that 0.5 % of the population are sufferers. Suppose that the test is now administered to a person whose disease status is unknown. Calculate the probability that the test will:\n",
    "\n",
    ">1. Be positive\n",
    ">2. Correctly diagnose a sufferer of Thripshaw's\n",
    ">3. Correctly identify a non-sufferer of Thripshaw's\n",
    ">4. Misclassify the person"
   ]
  },
  {
   "cell_type": "markdown",
   "metadata": {},
   "source": [
    "#### Intuition answers\n",
    "\n",
    "**1. ~10.5%**\n",
    "\n",
    "**2. 98%**\n",
    "\n",
    "**3. 90%**\n",
    "\n",
    "**4. ~10%**"
   ]
  },
  {
   "cell_type": "markdown",
   "metadata": {},
   "source": [
    "#### Calculated answers\n",
    "\n",
    "**1. P(positive) = P(true positive) + P(false positive) = (0.98)(0.005) + (0.10)(0.995) = 0.1044**\n",
    "\n",
    "**2. P(true positive) = 0.98**\n",
    "\n",
    "**3. P(true negative) = 1 - P(false positive) = 1 - 0.1 = 0.9**\n",
    "\n",
    "**4. P(misclassify) = 1 - ((0.98)(0.005) + (0.9)(.995)) = 0.0996**\n"
   ]
  },
  {
   "cell_type": "code",
   "execution_count": null,
   "metadata": {},
   "outputs": [],
   "source": []
  }
 ],
 "metadata": {
  "kernelspec": {
   "display_name": "Python 3",
   "language": "python",
   "name": "python3"
  },
  "language_info": {
   "codemirror_mode": {
    "name": "ipython",
    "version": 3
   },
   "file_extension": ".py",
   "mimetype": "text/x-python",
   "name": "python",
   "nbconvert_exporter": "python",
   "pygments_lexer": "ipython3",
   "version": "3.7.0"
  }
 },
 "nbformat": 4,
 "nbformat_minor": 2
}
