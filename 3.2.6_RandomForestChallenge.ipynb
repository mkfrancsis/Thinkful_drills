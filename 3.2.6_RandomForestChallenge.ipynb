{
 "cells": [
  {
   "cell_type": "markdown",
   "metadata": {},
   "source": [
    "# Random Forest Challenge\n",
    "\n",
    "We will be comparing the accuracy and speed of a single decision tree vs. a random forest. The challenge here is to make the most accurate decision tree possible and compare it to the simplest random forest possible.\n",
    "\n",
    "For this exercise we will be using the popular [Wisconsin Breast Cancer dataset](https://archive.ics.uci.edu/ml/datasets/Breast+Cancer+Wisconsin+%28Original%29).  Our goal will be to predict malignant tumors."
   ]
  },
  {
   "cell_type": "code",
   "execution_count": 1,
   "metadata": {},
   "outputs": [],
   "source": [
    "import pandas as pd\n",
    "import numpy as np\n",
    "import matplotlib.pyplot as plt\n",
    "import seaborn as sns\n",
    "%matplotlib inline\n",
    "\n",
    "from sklearn import tree\n",
    "from sklearn.ensemble import RandomForestClassifier\n",
    "from sklearn.model_selection import train_test_split\n",
    "from sklearn.model_selection import cross_val_score\n",
    "\n",
    "import time"
   ]
  },
  {
   "cell_type": "code",
   "execution_count": 2,
   "metadata": {},
   "outputs": [],
   "source": [
    "cancer = pd.read_csv('breast-cancer-wisconsin.data.txt', na_values='?')\n",
    "cancer.columns = ['sample', \n",
    "                  'clump_thickness', \n",
    "                  'cell_size_uni', \n",
    "                  'cell_shape_uni', \n",
    "                  'marginal_adhesion',\n",
    "                  'single_epi_cell_size',\n",
    "                  'bare_nuclei',\n",
    "                  'bland_chromatin',\n",
    "                  'normal_nucleoli',\n",
    "                  'mitoses',\n",
    "                  'class']\n",
    "cancer.dropna(inplace=True)"
   ]
  },
  {
   "cell_type": "code",
   "execution_count": 3,
   "metadata": {},
   "outputs": [
    {
     "data": {
      "text/html": [
       "<div>\n",
       "<style scoped>\n",
       "    .dataframe tbody tr th:only-of-type {\n",
       "        vertical-align: middle;\n",
       "    }\n",
       "\n",
       "    .dataframe tbody tr th {\n",
       "        vertical-align: top;\n",
       "    }\n",
       "\n",
       "    .dataframe thead th {\n",
       "        text-align: right;\n",
       "    }\n",
       "</style>\n",
       "<table border=\"1\" class=\"dataframe\">\n",
       "  <thead>\n",
       "    <tr style=\"text-align: right;\">\n",
       "      <th></th>\n",
       "      <th>sample</th>\n",
       "      <th>clump_thickness</th>\n",
       "      <th>cell_size_uni</th>\n",
       "      <th>cell_shape_uni</th>\n",
       "      <th>marginal_adhesion</th>\n",
       "      <th>single_epi_cell_size</th>\n",
       "      <th>bare_nuclei</th>\n",
       "      <th>bland_chromatin</th>\n",
       "      <th>normal_nucleoli</th>\n",
       "      <th>mitoses</th>\n",
       "      <th>class</th>\n",
       "    </tr>\n",
       "  </thead>\n",
       "  <tbody>\n",
       "    <tr>\n",
       "      <th>0</th>\n",
       "      <td>1002945</td>\n",
       "      <td>5</td>\n",
       "      <td>4</td>\n",
       "      <td>4</td>\n",
       "      <td>5</td>\n",
       "      <td>7</td>\n",
       "      <td>10.0</td>\n",
       "      <td>3</td>\n",
       "      <td>2</td>\n",
       "      <td>1</td>\n",
       "      <td>2</td>\n",
       "    </tr>\n",
       "    <tr>\n",
       "      <th>1</th>\n",
       "      <td>1015425</td>\n",
       "      <td>3</td>\n",
       "      <td>1</td>\n",
       "      <td>1</td>\n",
       "      <td>1</td>\n",
       "      <td>2</td>\n",
       "      <td>2.0</td>\n",
       "      <td>3</td>\n",
       "      <td>1</td>\n",
       "      <td>1</td>\n",
       "      <td>2</td>\n",
       "    </tr>\n",
       "    <tr>\n",
       "      <th>2</th>\n",
       "      <td>1016277</td>\n",
       "      <td>6</td>\n",
       "      <td>8</td>\n",
       "      <td>8</td>\n",
       "      <td>1</td>\n",
       "      <td>3</td>\n",
       "      <td>4.0</td>\n",
       "      <td>3</td>\n",
       "      <td>7</td>\n",
       "      <td>1</td>\n",
       "      <td>2</td>\n",
       "    </tr>\n",
       "    <tr>\n",
       "      <th>3</th>\n",
       "      <td>1017023</td>\n",
       "      <td>4</td>\n",
       "      <td>1</td>\n",
       "      <td>1</td>\n",
       "      <td>3</td>\n",
       "      <td>2</td>\n",
       "      <td>1.0</td>\n",
       "      <td>3</td>\n",
       "      <td>1</td>\n",
       "      <td>1</td>\n",
       "      <td>2</td>\n",
       "    </tr>\n",
       "    <tr>\n",
       "      <th>4</th>\n",
       "      <td>1017122</td>\n",
       "      <td>8</td>\n",
       "      <td>10</td>\n",
       "      <td>10</td>\n",
       "      <td>8</td>\n",
       "      <td>7</td>\n",
       "      <td>10.0</td>\n",
       "      <td>9</td>\n",
       "      <td>7</td>\n",
       "      <td>1</td>\n",
       "      <td>4</td>\n",
       "    </tr>\n",
       "  </tbody>\n",
       "</table>\n",
       "</div>"
      ],
      "text/plain": [
       "    sample  clump_thickness  cell_size_uni  cell_shape_uni  marginal_adhesion  \\\n",
       "0  1002945                5              4               4                  5   \n",
       "1  1015425                3              1               1                  1   \n",
       "2  1016277                6              8               8                  1   \n",
       "3  1017023                4              1               1                  3   \n",
       "4  1017122                8             10              10                  8   \n",
       "\n",
       "   single_epi_cell_size  bare_nuclei  bland_chromatin  normal_nucleoli  \\\n",
       "0                     7         10.0                3                2   \n",
       "1                     2          2.0                3                1   \n",
       "2                     3          4.0                3                7   \n",
       "3                     2          1.0                3                1   \n",
       "4                     7         10.0                9                7   \n",
       "\n",
       "   mitoses  class  \n",
       "0        1      2  \n",
       "1        1      2  \n",
       "2        1      2  \n",
       "3        1      2  \n",
       "4        1      4  "
      ]
     },
     "execution_count": 3,
     "metadata": {},
     "output_type": "execute_result"
    }
   ],
   "source": [
    "cancer.head()"
   ]
  },
  {
   "cell_type": "code",
   "execution_count": 4,
   "metadata": {},
   "outputs": [
    {
     "data": {
      "text/html": [
       "<div>\n",
       "<style scoped>\n",
       "    .dataframe tbody tr th:only-of-type {\n",
       "        vertical-align: middle;\n",
       "    }\n",
       "\n",
       "    .dataframe tbody tr th {\n",
       "        vertical-align: top;\n",
       "    }\n",
       "\n",
       "    .dataframe thead th {\n",
       "        text-align: right;\n",
       "    }\n",
       "</style>\n",
       "<table border=\"1\" class=\"dataframe\">\n",
       "  <thead>\n",
       "    <tr style=\"text-align: right;\">\n",
       "      <th></th>\n",
       "      <th>sample</th>\n",
       "      <th>clump_thickness</th>\n",
       "      <th>cell_size_uni</th>\n",
       "      <th>cell_shape_uni</th>\n",
       "      <th>marginal_adhesion</th>\n",
       "      <th>single_epi_cell_size</th>\n",
       "      <th>bare_nuclei</th>\n",
       "      <th>bland_chromatin</th>\n",
       "      <th>normal_nucleoli</th>\n",
       "      <th>mitoses</th>\n",
       "      <th>class</th>\n",
       "    </tr>\n",
       "  </thead>\n",
       "  <tbody>\n",
       "    <tr>\n",
       "      <th>count</th>\n",
       "      <td>6.820000e+02</td>\n",
       "      <td>682.000000</td>\n",
       "      <td>682.000000</td>\n",
       "      <td>682.000000</td>\n",
       "      <td>682.000000</td>\n",
       "      <td>682.000000</td>\n",
       "      <td>682.000000</td>\n",
       "      <td>682.000000</td>\n",
       "      <td>682.000000</td>\n",
       "      <td>682.000000</td>\n",
       "      <td>682.000000</td>\n",
       "    </tr>\n",
       "    <tr>\n",
       "      <th>mean</th>\n",
       "      <td>1.076833e+06</td>\n",
       "      <td>4.441349</td>\n",
       "      <td>3.153959</td>\n",
       "      <td>3.218475</td>\n",
       "      <td>2.832845</td>\n",
       "      <td>3.236070</td>\n",
       "      <td>3.548387</td>\n",
       "      <td>3.445748</td>\n",
       "      <td>2.872434</td>\n",
       "      <td>1.604106</td>\n",
       "      <td>2.700880</td>\n",
       "    </tr>\n",
       "    <tr>\n",
       "      <th>std</th>\n",
       "      <td>6.210926e+05</td>\n",
       "      <td>2.822751</td>\n",
       "      <td>3.066285</td>\n",
       "      <td>2.989568</td>\n",
       "      <td>2.865805</td>\n",
       "      <td>2.224214</td>\n",
       "      <td>3.645226</td>\n",
       "      <td>2.451435</td>\n",
       "      <td>3.054065</td>\n",
       "      <td>1.733792</td>\n",
       "      <td>0.954916</td>\n",
       "    </tr>\n",
       "    <tr>\n",
       "      <th>min</th>\n",
       "      <td>6.337500e+04</td>\n",
       "      <td>1.000000</td>\n",
       "      <td>1.000000</td>\n",
       "      <td>1.000000</td>\n",
       "      <td>1.000000</td>\n",
       "      <td>1.000000</td>\n",
       "      <td>1.000000</td>\n",
       "      <td>1.000000</td>\n",
       "      <td>1.000000</td>\n",
       "      <td>1.000000</td>\n",
       "      <td>2.000000</td>\n",
       "    </tr>\n",
       "    <tr>\n",
       "      <th>25%</th>\n",
       "      <td>8.774540e+05</td>\n",
       "      <td>2.000000</td>\n",
       "      <td>1.000000</td>\n",
       "      <td>1.000000</td>\n",
       "      <td>1.000000</td>\n",
       "      <td>2.000000</td>\n",
       "      <td>1.000000</td>\n",
       "      <td>2.000000</td>\n",
       "      <td>1.000000</td>\n",
       "      <td>1.000000</td>\n",
       "      <td>2.000000</td>\n",
       "    </tr>\n",
       "    <tr>\n",
       "      <th>50%</th>\n",
       "      <td>1.171820e+06</td>\n",
       "      <td>4.000000</td>\n",
       "      <td>1.000000</td>\n",
       "      <td>1.000000</td>\n",
       "      <td>1.000000</td>\n",
       "      <td>2.000000</td>\n",
       "      <td>1.000000</td>\n",
       "      <td>3.000000</td>\n",
       "      <td>1.000000</td>\n",
       "      <td>1.000000</td>\n",
       "      <td>2.000000</td>\n",
       "    </tr>\n",
       "    <tr>\n",
       "      <th>75%</th>\n",
       "      <td>1.238741e+06</td>\n",
       "      <td>6.000000</td>\n",
       "      <td>5.000000</td>\n",
       "      <td>5.000000</td>\n",
       "      <td>4.000000</td>\n",
       "      <td>4.000000</td>\n",
       "      <td>6.000000</td>\n",
       "      <td>5.000000</td>\n",
       "      <td>4.000000</td>\n",
       "      <td>1.000000</td>\n",
       "      <td>4.000000</td>\n",
       "    </tr>\n",
       "    <tr>\n",
       "      <th>max</th>\n",
       "      <td>1.345435e+07</td>\n",
       "      <td>10.000000</td>\n",
       "      <td>10.000000</td>\n",
       "      <td>10.000000</td>\n",
       "      <td>10.000000</td>\n",
       "      <td>10.000000</td>\n",
       "      <td>10.000000</td>\n",
       "      <td>10.000000</td>\n",
       "      <td>10.000000</td>\n",
       "      <td>10.000000</td>\n",
       "      <td>4.000000</td>\n",
       "    </tr>\n",
       "  </tbody>\n",
       "</table>\n",
       "</div>"
      ],
      "text/plain": [
       "             sample  clump_thickness  cell_size_uni  cell_shape_uni  \\\n",
       "count  6.820000e+02       682.000000     682.000000      682.000000   \n",
       "mean   1.076833e+06         4.441349       3.153959        3.218475   \n",
       "std    6.210926e+05         2.822751       3.066285        2.989568   \n",
       "min    6.337500e+04         1.000000       1.000000        1.000000   \n",
       "25%    8.774540e+05         2.000000       1.000000        1.000000   \n",
       "50%    1.171820e+06         4.000000       1.000000        1.000000   \n",
       "75%    1.238741e+06         6.000000       5.000000        5.000000   \n",
       "max    1.345435e+07        10.000000      10.000000       10.000000   \n",
       "\n",
       "       marginal_adhesion  single_epi_cell_size  bare_nuclei  bland_chromatin  \\\n",
       "count         682.000000            682.000000   682.000000       682.000000   \n",
       "mean            2.832845              3.236070     3.548387         3.445748   \n",
       "std             2.865805              2.224214     3.645226         2.451435   \n",
       "min             1.000000              1.000000     1.000000         1.000000   \n",
       "25%             1.000000              2.000000     1.000000         2.000000   \n",
       "50%             1.000000              2.000000     1.000000         3.000000   \n",
       "75%             4.000000              4.000000     6.000000         5.000000   \n",
       "max            10.000000             10.000000    10.000000        10.000000   \n",
       "\n",
       "       normal_nucleoli     mitoses       class  \n",
       "count       682.000000  682.000000  682.000000  \n",
       "mean          2.872434    1.604106    2.700880  \n",
       "std           3.054065    1.733792    0.954916  \n",
       "min           1.000000    1.000000    2.000000  \n",
       "25%           1.000000    1.000000    2.000000  \n",
       "50%           1.000000    1.000000    2.000000  \n",
       "75%           4.000000    1.000000    4.000000  \n",
       "max          10.000000   10.000000    4.000000  "
      ]
     },
     "execution_count": 4,
     "metadata": {},
     "output_type": "execute_result"
    }
   ],
   "source": [
    "cancer.describe()"
   ]
  },
  {
   "cell_type": "code",
   "execution_count": 5,
   "metadata": {},
   "outputs": [
    {
     "data": {
      "text/plain": [
       "2    443\n",
       "4    239\n",
       "Name: class, dtype: int64"
      ]
     },
     "execution_count": 5,
     "metadata": {},
     "output_type": "execute_result"
    }
   ],
   "source": [
    "cancer['class'].value_counts()"
   ]
  },
  {
   "cell_type": "code",
   "execution_count": 6,
   "metadata": {},
   "outputs": [
    {
     "data": {
      "image/png": "[encoded data removed]",
      "text/plain": [
       "<Figure size 864x576 with 8 Axes>"
      ]
     },
     "metadata": {
      "needs_background": "light"
     },
     "output_type": "display_data"
    }
   ],
   "source": [
    "plt.figure(figsize=(12,8))\n",
    "plt.suptitle('Feature Comparison between Classes')\n",
    "\n",
    "plt.subplot(241)\n",
    "sns.boxplot(data=cancer, y='clump_thickness', x='class')\n",
    "\n",
    "plt.subplot(242)\n",
    "sns.boxplot(data=cancer, y='cell_size_uni', x='class')\n",
    "\n",
    "plt.subplot(243)\n",
    "sns.boxplot(data=cancer, y='cell_shape_uni', x='class')\n",
    "\n",
    "plt.subplot(244)\n",
    "sns.boxplot(data=cancer, y='marginal_adhesion', x='class')\n",
    "\n",
    "plt.subplot(245)\n",
    "sns.boxplot(data=cancer, y='single_epi_cell_size', x='class')\n",
    "\n",
    "plt.subplot(246)\n",
    "sns.boxplot(data=cancer, y='bland_chromatin', x='class')\n",
    "\n",
    "plt.subplot(247)\n",
    "sns.boxplot(data=cancer, y='normal_nucleoli', x='class')\n",
    "\n",
    "plt.subplot(248)\n",
    "sns.boxplot(data=cancer, y='mitoses', x='class')\n",
    "\n",
    "plt.tight_layout()\n",
    "plt.subplots_adjust(top=0.95)\n",
    "plt.show()"
   ]
  },
  {
   "cell_type": "markdown",
   "metadata": {},
   "source": [
    "### Data description\n",
    "\n",
    "We have 698 samples here and no missing data. The target variable is `class` where 2 == benign tumor and 4 == malignant tumor.  There is a class imbalance present, with malignant tumors only representing 34% of the total dataset.\n",
    "\n",
    "\n",
    "### Decision Tree Model\n",
    "\n",
    "The most accurate decision tree is likely to include all of the data.  So we will test that first."
   ]
  },
  {
   "cell_type": "code",
   "execution_count": 7,
   "metadata": {},
   "outputs": [],
   "source": [
    "X_variables = cancer.iloc[:, 1:10]\n",
    "\n",
    "# One hot encoding the variables\n",
    "def onehot(df, cols):\n",
    "    for c in cols:\n",
    "        dummies = pd.get_dummies(df[c], prefix=c, drop_first=False)\n",
    "        df = pd.concat([df, dummies], axis=1)\n",
    "    return df\n",
    "\n",
    "X_col = X_variables.columns\n",
    "X_dt = onehot(X_variables, X_col)\n",
    "X_dt = X_dt.iloc[:,9:]\n",
    "Y = cancer['class'].replace(to_replace={4:1, 2:0})\n"
   ]
  },
  {
   "cell_type": "code",
   "execution_count": 8,
   "metadata": {},
   "outputs": [
    {
     "name": "stdout",
     "output_type": "stream",
     "text": [
      "(682, 89)\n"
     ]
    },
    {
     "data": {
      "text/html": [
       "<div>\n",
       "<style scoped>\n",
       "    .dataframe tbody tr th:only-of-type {\n",
       "        vertical-align: middle;\n",
       "    }\n",
       "\n",
       "    .dataframe tbody tr th {\n",
       "        vertical-align: top;\n",
       "    }\n",
       "\n",
       "    .dataframe thead th {\n",
       "        text-align: right;\n",
       "    }\n",
       "</style>\n",
       "<table border=\"1\" class=\"dataframe\">\n",
       "  <thead>\n",
       "    <tr style=\"text-align: right;\">\n",
       "      <th></th>\n",
       "      <th>clump_thickness_1</th>\n",
       "      <th>clump_thickness_2</th>\n",
       "      <th>clump_thickness_3</th>\n",
       "      <th>clump_thickness_4</th>\n",
       "      <th>clump_thickness_5</th>\n",
       "      <th>clump_thickness_6</th>\n",
       "      <th>clump_thickness_7</th>\n",
       "      <th>clump_thickness_8</th>\n",
       "      <th>clump_thickness_9</th>\n",
       "      <th>clump_thickness_10</th>\n",
       "      <th>...</th>\n",
       "      <th>normal_nucleoli_10</th>\n",
       "      <th>mitoses_1</th>\n",
       "      <th>mitoses_2</th>\n",
       "      <th>mitoses_3</th>\n",
       "      <th>mitoses_4</th>\n",
       "      <th>mitoses_5</th>\n",
       "      <th>mitoses_6</th>\n",
       "      <th>mitoses_7</th>\n",
       "      <th>mitoses_8</th>\n",
       "      <th>mitoses_10</th>\n",
       "    </tr>\n",
       "  </thead>\n",
       "  <tbody>\n",
       "    <tr>\n",
       "      <th>0</th>\n",
       "      <td>0</td>\n",
       "      <td>0</td>\n",
       "      <td>0</td>\n",
       "      <td>0</td>\n",
       "      <td>1</td>\n",
       "      <td>0</td>\n",
       "      <td>0</td>\n",
       "      <td>0</td>\n",
       "      <td>0</td>\n",
       "      <td>0</td>\n",
       "      <td>...</td>\n",
       "      <td>0</td>\n",
       "      <td>1</td>\n",
       "      <td>0</td>\n",
       "      <td>0</td>\n",
       "      <td>0</td>\n",
       "      <td>0</td>\n",
       "      <td>0</td>\n",
       "      <td>0</td>\n",
       "      <td>0</td>\n",
       "      <td>0</td>\n",
       "    </tr>\n",
       "    <tr>\n",
       "      <th>1</th>\n",
       "      <td>0</td>\n",
       "      <td>0</td>\n",
       "      <td>1</td>\n",
       "      <td>0</td>\n",
       "      <td>0</td>\n",
       "      <td>0</td>\n",
       "      <td>0</td>\n",
       "      <td>0</td>\n",
       "      <td>0</td>\n",
       "      <td>0</td>\n",
       "      <td>...</td>\n",
       "      <td>0</td>\n",
       "      <td>1</td>\n",
       "      <td>0</td>\n",
       "      <td>0</td>\n",
       "      <td>0</td>\n",
       "      <td>0</td>\n",
       "      <td>0</td>\n",
       "      <td>0</td>\n",
       "      <td>0</td>\n",
       "      <td>0</td>\n",
       "    </tr>\n",
       "    <tr>\n",
       "      <th>2</th>\n",
       "      <td>0</td>\n",
       "      <td>0</td>\n",
       "      <td>0</td>\n",
       "      <td>0</td>\n",
       "      <td>0</td>\n",
       "      <td>1</td>\n",
       "      <td>0</td>\n",
       "      <td>0</td>\n",
       "      <td>0</td>\n",
       "      <td>0</td>\n",
       "      <td>...</td>\n",
       "      <td>0</td>\n",
       "      <td>1</td>\n",
       "      <td>0</td>\n",
       "      <td>0</td>\n",
       "      <td>0</td>\n",
       "      <td>0</td>\n",
       "      <td>0</td>\n",
       "      <td>0</td>\n",
       "      <td>0</td>\n",
       "      <td>0</td>\n",
       "    </tr>\n",
       "    <tr>\n",
       "      <th>3</th>\n",
       "      <td>0</td>\n",
       "      <td>0</td>\n",
       "      <td>0</td>\n",
       "      <td>1</td>\n",
       "      <td>0</td>\n",
       "      <td>0</td>\n",
       "      <td>0</td>\n",
       "      <td>0</td>\n",
       "      <td>0</td>\n",
       "      <td>0</td>\n",
       "      <td>...</td>\n",
       "      <td>0</td>\n",
       "      <td>1</td>\n",
       "      <td>0</td>\n",
       "      <td>0</td>\n",
       "      <td>0</td>\n",
       "      <td>0</td>\n",
       "      <td>0</td>\n",
       "      <td>0</td>\n",
       "      <td>0</td>\n",
       "      <td>0</td>\n",
       "    </tr>\n",
       "    <tr>\n",
       "      <th>4</th>\n",
       "      <td>0</td>\n",
       "      <td>0</td>\n",
       "      <td>0</td>\n",
       "      <td>0</td>\n",
       "      <td>0</td>\n",
       "      <td>0</td>\n",
       "      <td>0</td>\n",
       "      <td>1</td>\n",
       "      <td>0</td>\n",
       "      <td>0</td>\n",
       "      <td>...</td>\n",
       "      <td>0</td>\n",
       "      <td>1</td>\n",
       "      <td>0</td>\n",
       "      <td>0</td>\n",
       "      <td>0</td>\n",
       "      <td>0</td>\n",
       "      <td>0</td>\n",
       "      <td>0</td>\n",
       "      <td>0</td>\n",
       "      <td>0</td>\n",
       "    </tr>\n",
       "  </tbody>\n",
       "</table>\n",
       "<p>5 rows × 89 columns</p>\n",
       "</div>"
      ],
      "text/plain": [
       "   clump_thickness_1  clump_thickness_2  clump_thickness_3  clump_thickness_4  \\\n",
       "0                  0                  0                  0                  0   \n",
       "1                  0                  0                  1                  0   \n",
       "2                  0                  0                  0                  0   \n",
       "3                  0                  0                  0                  1   \n",
       "4                  0                  0                  0                  0   \n",
       "\n",
       "   clump_thickness_5  clump_thickness_6  clump_thickness_7  clump_thickness_8  \\\n",
       "0                  1                  0                  0                  0   \n",
       "1                  0                  0                  0                  0   \n",
       "2                  0                  1                  0                  0   \n",
       "3                  0                  0                  0                  0   \n",
       "4                  0                  0                  0                  1   \n",
       "\n",
       "   clump_thickness_9  clump_thickness_10     ...      normal_nucleoli_10  \\\n",
       "0                  0                   0     ...                       0   \n",
       "1                  0                   0     ...                       0   \n",
       "2                  0                   0     ...                       0   \n",
       "3                  0                   0     ...                       0   \n",
       "4                  0                   0     ...                       0   \n",
       "\n",
       "   mitoses_1  mitoses_2  mitoses_3  mitoses_4  mitoses_5  mitoses_6  \\\n",
       "0          1          0          0          0          0          0   \n",
       "1          1          0          0          0          0          0   \n",
       "2          1          0          0          0          0          0   \n",
       "3          1          0          0          0          0          0   \n",
       "4          1          0          0          0          0          0   \n",
       "\n",
       "   mitoses_7  mitoses_8  mitoses_10  \n",
       "0          0          0           0  \n",
       "1          0          0           0  \n",
       "2          0          0           0  \n",
       "3          0          0           0  \n",
       "4          0          0           0  \n",
       "\n",
       "[5 rows x 89 columns]"
      ]
     },
     "execution_count": 8,
     "metadata": {},
     "output_type": "execute_result"
    }
   ],
   "source": [
    "print(X_dt.shape)\n",
    "X_dt.head()"
   ]
  },
  {
   "cell_type": "code",
   "execution_count": 9,
   "metadata": {},
   "outputs": [
    {
     "data": {
      "text/plain": [
       "array([0.91304348, 0.89855072, 0.89855072, 0.92647059, 0.94117647,\n",
       "       0.88235294, 0.95588235, 0.94117647, 0.91176471, 0.95522388])"
      ]
     },
     "execution_count": 9,
     "metadata": {},
     "output_type": "execute_result"
    }
   ],
   "source": [
    "dt = tree.DecisionTreeClassifier(\n",
    "    criterion='gini',\n",
    "    max_features=89\n",
    ")\n",
    "\n",
    "cross_val_score(dt, X_dt, Y, cv=10)"
   ]
  },
  {
   "cell_type": "markdown",
   "metadata": {},
   "source": [
    "While the cross validation scores are high, the variance between scores is obviously sub-optimal.  I'm not quite sure why this would be occurring.\n",
    "\n",
    "\n",
    "### Random Forest Model\n",
    "\n",
    "To make the simplest random forest model possible, we will first run a random forest with all of the features and output the feature importance of each. Afterwards, we'll use only the one or two most important features in the *real* model.  From the box plots above, it looks the top features should be either `clump_thickness`, `cell_size_uni`, or `cell_shape_uni`."
   ]
  },
  {
   "cell_type": "code",
   "execution_count": 10,
   "metadata": {},
   "outputs": [
    {
     "data": {
      "text/plain": [
       "RandomForestClassifier(bootstrap=True, class_weight=None, criterion='gini',\n",
       "            max_depth=None, max_features='auto', max_leaf_nodes=None,\n",
       "            min_impurity_decrease=0.0, min_impurity_split=None,\n",
       "            min_samples_leaf=1, min_samples_split=2,\n",
       "            min_weight_fraction_leaf=0.0, n_estimators=100, n_jobs=None,\n",
       "            oob_score=False, random_state=None, verbose=0,\n",
       "            warm_start=False)"
      ]
     },
     "execution_count": 10,
     "metadata": {},
     "output_type": "execute_result"
    }
   ],
   "source": [
    "rfc_test = RandomForestClassifier(n_estimators=100)\n",
    "rfc_test.fit(X_dt, Y)\n",
    "\n",
    "# cross_val_score(rfc_test, X_dt, Y, cv=10)"
   ]
  },
  {
   "cell_type": "code",
   "execution_count": 11,
   "metadata": {},
   "outputs": [
    {
     "name": "stdout",
     "output_type": "stream",
     "text": [
      "10.   bland_chromatin_1 0.02061511948257322\n",
      "9.   clump_thickness_10 0.020796203644233572\n",
      "8.   mitoses_1 0.03035715474491179\n",
      "7.   bare_nuclei_10.0 0.05698005871248431\n",
      "6.   single_epi_cell_size_2 0.06529615679016625\n",
      "5.   normal_nucleoli_1 0.06599799205784192\n",
      "4.   cell_shape_uni_1 0.08814973941958254\n",
      "3.   marginal_adhesion_1 0.09509595520519042\n",
      "2.   cell_size_uni_1 0.13047975522807292\n",
      "1.   bare_nuclei_1.0 0.1318710397162905\n"
     ]
    }
   ],
   "source": [
    "# Accessing, storing, and printing 10 most important features\n",
    "feat_names = X_dt.columns\n",
    "feat_importance = rfc_test.feature_importances_\n",
    "indicies = np.argsort(feat_importance)\n",
    "\n",
    "c = 1\n",
    "for i in indicies[-10:]:\n",
    "    print(f'{11-c}.  ', feat_names[i], feat_importance[i])\n",
    "    c += 1\n"
   ]
  },
  {
   "cell_type": "markdown",
   "metadata": {},
   "source": [
    "Now that we have the 10 most important features, we'll work from 1 feature to **n** features until we have a decent model."
   ]
  },
  {
   "cell_type": "code",
   "execution_count": 12,
   "metadata": {},
   "outputs": [
    {
     "data": {
      "text/plain": [
       "array([0.85507246, 0.89855072, 0.88405797, 0.88235294, 0.75      ,\n",
       "       0.76470588, 0.91176471, 0.83823529, 0.83823529, 0.88059701])"
      ]
     },
     "execution_count": 12,
     "metadata": {},
     "output_type": "execute_result"
    }
   ],
   "source": [
    "# Instantiating the model with just the top feature\n",
    "X_rfc1 = np.array(X_dt.loc[:, 'cell_shape_uni_1']).reshape(-1,1)\n",
    "\n",
    "rfc1 = RandomForestClassifier(n_estimators=10) # 10 estimators to keep compute time small\n",
    "rfc1.fit(X_rfc1, Y)\n",
    "\n",
    "cross_val_score(rfc1, X_rfc1, Y, cv=10)"
   ]
  },
  {
   "cell_type": "markdown",
   "metadata": {},
   "source": [
    "Some good scores in there but also with some pretty mediocre scores too.  Let's add another feature."
   ]
  },
  {
   "cell_type": "code",
   "execution_count": 13,
   "metadata": {},
   "outputs": [
    {
     "data": {
      "text/plain": [
       "array([0.89855072, 0.94202899, 0.94202899, 0.92647059, 0.95588235,\n",
       "       0.89705882, 0.95588235, 0.97058824, 0.94117647, 0.95522388])"
      ]
     },
     "execution_count": 13,
     "metadata": {},
     "output_type": "execute_result"
    }
   ],
   "source": [
    "# Adding the second best feature\n",
    "X_rfc2 = np.array(X_dt.loc[:, ['bare_nuclei_1.0', 'cell_shape_uni_1']]).reshape(-1,2)\n",
    "\n",
    "rfc2 = RandomForestClassifier(n_estimators=10)\n",
    "rfc2.fit(X_rfc2, Y)\n",
    "\n",
    "cross_val_score(rfc2, X_rfc2, Y, cv=10)"
   ]
  },
  {
   "cell_type": "markdown",
   "metadata": {},
   "source": [
    "The model definitely improved.  Let's see if adding one more feature will bump up all the cross validation scores above 0.9."
   ]
  },
  {
   "cell_type": "code",
   "execution_count": 14,
   "metadata": {},
   "outputs": [
    {
     "data": {
      "text/plain": [
       "array([0.91304348, 0.94202899, 0.95652174, 0.92647059, 0.95588235,\n",
       "       0.86764706, 0.97058824, 0.97058824, 0.95588235, 0.95522388])"
      ]
     },
     "execution_count": 14,
     "metadata": {},
     "output_type": "execute_result"
    }
   ],
   "source": [
    "# Adding the third best feature\n",
    "X_rfc3 = np.array(X_dt.loc[:, ['bare_nuclei_1.0', 'cell_size_uni_1', 'cell_shape_uni_1']]).reshape(-1,3)\n",
    "\n",
    "rfc3 = RandomForestClassifier(n_estimators=10)\n",
    "rfc3.fit(X_rfc3, Y)\n",
    "\n",
    "cross_val_score(rfc3, X_rfc3, Y, cv=10)"
   ]
  },
  {
   "cell_type": "markdown",
   "metadata": {},
   "source": [
    "Not quite there, add one more!"
   ]
  },
  {
   "cell_type": "code",
   "execution_count": 15,
   "metadata": {},
   "outputs": [
    {
     "data": {
      "text/plain": [
       "array([0.91304348, 0.97101449, 0.94202899, 0.92647059, 0.89705882,\n",
       "       0.88235294, 0.97058824, 0.97058824, 0.94117647, 0.97014925])"
      ]
     },
     "execution_count": 15,
     "metadata": {},
     "output_type": "execute_result"
    }
   ],
   "source": [
    "# Adding the fifth best feature, skipping the fourth best feature\n",
    "# because it is from the same base feature as 'bare_nuclei_1.0' and didn't add any information\n",
    "\n",
    "X_rfc4 = X_dt.loc[:, ['bare_nuclei_1.0', 'cell_size_uni_1', 'cell_shape_uni_1', 'single_epi_cell_size_2']]\n",
    "X_rfc4 = np.array(X_rfc4).reshape(-1,4)\n",
    "\n",
    "rfc4 = RandomForestClassifier(n_estimators=10)\n",
    "rfc4.fit(X_rfc4, Y)\n",
    "\n",
    "cross_val_score(rfc4, X_rfc4, Y, cv=10)"
   ]
  },
  {
   "cell_type": "markdown",
   "metadata": {},
   "source": [
    "While we didn't get all the CV scores above 0.90, I'm going to call this good enough.\n",
    "\n",
    "\n",
    "\n",
    "### Final Models - Runtime Test\n",
    "\n",
    "Now that we have tuned the models to a sufficient degree, let's see how their runtimes compare as a measure of accuracy versus compute power."
   ]
  },
  {
   "cell_type": "code",
   "execution_count": 16,
   "metadata": {},
   "outputs": [],
   "source": [
    "# Setting up test/train splits for each model\n",
    "\n",
    "x_dt_train, x_dt_test, y_dt_train, y_dt_test = train_test_split(X_dt, Y)\n",
    "x_rf_train, x_rf_test, y_rf_train, y_rf_test = train_test_split(X_rfc4, Y)"
   ]
  },
  {
   "cell_type": "code",
   "execution_count": 17,
   "metadata": {},
   "outputs": [
    {
     "name": "stdout",
     "output_type": "stream",
     "text": [
      "158 out of 171 correct\n",
      "Time:  0.0032482147216796875\n"
     ]
    }
   ],
   "source": [
    "# Decision Tree Model\n",
    "\n",
    "dt_start_time = time.time()\n",
    "\n",
    "dt = tree.DecisionTreeClassifier(\n",
    "    criterion='gini',\n",
    "    max_features=89\n",
    ")\n",
    "\n",
    "dt.fit(x_dt_train, y_dt_train)\n",
    "y_dt_ = dt.predict(x_dt_test)\n",
    "\n",
    "dt_test_result = y_dt_ + np.array(y_dt_test)\n",
    "dt_misclass = np.unique(dt_test_result, return_counts=True)[1][1]\n",
    "\n",
    "print('{} out of {} correct'.format((len(y_dt_) - dt_misclass), len(y_dt_)))\n",
    "print('Time: ', (time.time() - dt_start_time))"
   ]
  },
  {
   "cell_type": "code",
   "execution_count": 18,
   "metadata": {},
   "outputs": [
    {
     "name": "stdout",
     "output_type": "stream",
     "text": [
      "163 out of 171 correct\n",
      "Time:  0.010724067687988281\n"
     ]
    }
   ],
   "source": [
    "# Random Forest Model\n",
    "\n",
    "rf_start_time = time.time()\n",
    "\n",
    "rfc4 = RandomForestClassifier(n_estimators=10)\n",
    "rfc4.fit(x_rf_train, y_rf_train)\n",
    "\n",
    "y_rf_ = rfc4.predict(x_rf_test)\n",
    "\n",
    "rf_test_result = y_rf_ + np.array(y_rf_test)\n",
    "rf_misclass = np.unique(rf_test_result, return_counts=True)[1][1]\n",
    "\n",
    "print('{} out of {} correct'.format((len(y_rf_) - rf_misclass), len(y_rf_)))\n",
    "print('Time: ', (time.time() - rf_start_time))"
   ]
  },
  {
   "cell_type": "code",
   "execution_count": 19,
   "metadata": {},
   "outputs": [
    {
     "name": "stdout",
     "output_type": "stream",
     "text": [
      "Time ratio:  2.487763713080169\n",
      "Decision Tree Accuracy : 0.9064327485380117\n",
      "Random Forest Accuracy : 0.9473684210526315\n"
     ]
    }
   ],
   "source": [
    "print('Time ratio: ', 0.010542869567871094/0.0042378902435302734)\n",
    "print('Decision Tree Accuracy :', 155/171)\n",
    "print('Random Forest Accuracy :', 162/171)"
   ]
  },
  {
   "cell_type": "markdown",
   "metadata": {},
   "source": [
    "# Test Results\n",
    "\n",
    "The Random Forest was obviously a more accurate model, however it took 2.5 times as long to run as the Decision Tree.  While that performance difference does not matter with such a small data set, it would obviously matter given a large data set."
   ]
  },
  {
   "cell_type": "code",
   "execution_count": null,
   "metadata": {},
   "outputs": [],
   "source": []
  }
 ],
 "metadata": {
  "kernelspec": {
   "display_name": "Python 3",
   "language": "python",
   "name": "python3"
  },
  "language_info": {
   "codemirror_mode": {
    "name": "ipython",
    "version": 3
   },
   "file_extension": ".py",
   "mimetype": "text/x-python",
   "name": "python",
   "nbconvert_exporter": "python",
   "pygments_lexer": "ipython3",
   "version": "3.7.1"
  }
 },
 "nbformat": 4,
 "nbformat_minor": 2
}
