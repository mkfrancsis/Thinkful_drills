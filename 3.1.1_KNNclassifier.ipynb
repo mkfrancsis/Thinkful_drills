{
 "cells": [
  {
   "cell_type": "markdown",
   "metadata": {},
   "source": [
    "# K-Nearest Neighbors Classifiers\n",
    "\n",
    "This is an introduction to learning via similarity using the Nearest Neighbor technique.\n",
    "\n",
    "The KNN model calculates the *Euclidean distance* from a point to all the known samples.  In the simplest case, Nearest Neighbor (k=1), the test point is labeled the same as the closest known sample point.  The number of sample points to use (k) is customizeable for a model.  When k > 1, then the test point is labeled the same as a majority of it's k-nearest neighbors.\n",
    "\n",
    "**Euclidean distance:**\n",
    "$$\\sqrt{(x_1 - w_1)^2 + ... + (x_n - w_n)^2}$$\n",
    "\n",
    "\n",
    "## Lesson goals\n",
    "In this lesson, we will implement a couple KNN models in SKLearn, then visualize the model space, and finally build a KNN model from scratch."
   ]
  },
  {
   "cell_type": "code",
   "execution_count": 55,
   "metadata": {},
   "outputs": [],
   "source": [
    "import numpy as np\n",
    "import pandas as pd\n",
    "import matplotlib.pyplot as plt\n",
    "import scipy\n",
    "from sklearn.neighbors import KNeighborsClassifier\n",
    "import math\n",
    "\n",
    "%matplotlib inline"
   ]
  },
  {
   "cell_type": "code",
   "execution_count": 10,
   "metadata": {},
   "outputs": [
    {
     "data": {
      "image/png": "[encoded data removed]",
      "text/plain": [
       "<Figure size 432x288 with 1 Axes>"
      ]
     },
     "metadata": {
      "needs_background": "light"
     },
     "output_type": "display_data"
    }
   ],
   "source": [
    "# Creating fictional music data to model - jazz and rock songs\n",
    "\n",
    "music = pd.DataFrame()\n",
    "\n",
    "music['duration'] = [184, 134, 243, 186, 122, 197, 294, 382, 102, 264, \n",
    "                     205, 110, 307, 110, 397, 153, 190, 192, 210, 403,\n",
    "                     164, 198, 204, 253, 234, 190, 182, 401, 376, 102]\n",
    "\n",
    "music['loudness'] = [18, 34, 43, 36, 22, 9, 29, 22, 10, 24, \n",
    "                     20, 10, 17, 51, 7, 13, 19, 12, 21, 22,\n",
    "                     16, 18, 4, 23, 34, 19, 14, 11, 37, 42]\n",
    "\n",
    "# Labeling songs as jazz or not\n",
    "music['jazz'] = [1, 0, 0, 0, 1, 1, 0, 1, 1, 0,\n",
    "                 0, 1, 1, 0, 1, 1, 0, 1, 1, 1,\n",
    "                 1, 1, 1, 1, 0, 0, 1, 1, 0, 0]\n",
    "\n",
    "plt.scatter(\n",
    "    music[music['jazz'] == 1].duration,\n",
    "    music[music['jazz'] == 1].loudness,\n",
    "    color = 'red'\n",
    ")\n",
    "plt.scatter(\n",
    "    music[music['jazz'] == 0].duration,\n",
    "    music[music['jazz'] == 0].loudness,\n",
    "    color = 'blue'\n",
    ")\n",
    "plt.legend(['Jazz', 'Rock'])\n",
    "plt.title('Jazz & Rock Characteristics')\n",
    "plt.xlabel('Duration')\n",
    "plt.ylabel('Loudness')\n",
    "plt.show()\n"
   ]
  },
  {
   "cell_type": "code",
   "execution_count": 12,
   "metadata": {},
   "outputs": [
    {
     "data": {
      "text/plain": [
       "array([0])"
      ]
     },
     "execution_count": 12,
     "metadata": {},
     "output_type": "execute_result"
    }
   ],
   "source": [
    "# Instantiating the KNN model (k=1)\n",
    "neighbors = KNeighborsClassifier(n_neighbors=1)\n",
    "X = music[['loudness', 'duration']]\n",
    "Y = music['jazz']\n",
    "neighbors.fit(X, Y)\n",
    "\n",
    "# Predicting a single point as an example\n",
    "neighbors.predict([[24, 190]])"
   ]
  },
  {
   "cell_type": "markdown",
   "metadata": {},
   "source": [
    "The model (k=1) predicts that the point ('loudness': 24, 'duration': 190) is a rock song, because the closest known sample to that point is a rock song.\n",
    "\n",
    "Now we'll increase k to 5.  The model will implicitly assign probabilities for each label_class and use the most probable label_class as it prediction for a given point."
   ]
  },
  {
   "cell_type": "code",
   "execution_count": 15,
   "metadata": {},
   "outputs": [
    {
     "name": "stdout",
     "output_type": "stream",
     "text": [
      "Predicted class:  [1]\n",
      "Class probabilities: Rock = 0.4, Jazz = 0.6\n"
     ]
    }
   ],
   "source": [
    "# Instantiating the KNN model (k=5)\n",
    "neighbors_k5 = KNeighborsClassifier(n_neighbors=5)\n",
    "neighbors_k5.fit(X, Y)\n",
    "\n",
    "# Predicting the same point as the k=1 model\n",
    "print('Predicted class: ', neighbors_k5.predict([[24, 190]]))\n",
    "print('Class probabilities: Rock = {}, Jazz = {}'.format(\n",
    "    neighbors_k5.predict_proba([[24, 190]])[0][0],\n",
    "    neighbors_k5.predict_proba([[24, 190]])[0][1]\n",
    "))"
   ]
  },
  {
   "cell_type": "markdown",
   "metadata": {},
   "source": [
    "If we predicted a grid of points across our sample space, we could create a map of the model -- that's what we'll do now."
   ]
  },
  {
   "cell_type": "code",
   "execution_count": 26,
   "metadata": {},
   "outputs": [
    {
     "data": {
      "image/png": "[encoded data removed]",
      "text/plain": [
       "<Figure size 432x288 with 1 Axes>"
      ]
     },
     "metadata": {
      "needs_background": "light"
     },
     "output_type": "display_data"
    }
   ],
   "source": [
    "# Converting data to np arrays for np functionality\n",
    "X = np.array(X)\n",
    "Y = np.array(Y)\n",
    "\n",
    "# Mesh size\n",
    "h = 0.5\n",
    "\n",
    "# Creating the bounding box for the gridpoints\n",
    "x_min = X[:, 0].min() - 0.5\n",
    "x_max = X[:, 0].max() + 0.5\n",
    "y_min = X[:, 1].min() - 0.5\n",
    "y_max = X[:, 1].max() + 0.5\n",
    "\n",
    "# Creating the gridpoints\n",
    "xx, yy = np.meshgrid(\n",
    "    np.arange(x_min, x_max, h),\n",
    "    np.arange(y_min, y_max, h)\n",
    ")\n",
    "Z = neighbors_k5.predict(np.c_[xx.ravel(), yy.ravel()])\n",
    "\n",
    "# Plotting the results\n",
    "Z = Z.reshape(xx.shape)\n",
    "plt.figure(1, figsize=(6, 4))\n",
    "plt.set_cmap(plt.cm.Paired)\n",
    "plt.pcolormesh(xx, yy, Z) # change shading='gouraud' to feather the edges\n",
    "\n",
    "# Add the training points to the plot\n",
    "plt.scatter(X[:, 0], X[:, 1], c=Y)\n",
    "plt.xlabel('Loudness')\n",
    "plt.ylabel('Duration')\n",
    "plt.title('Mesh visualization')\n",
    "plt.xlim(xx.min(), xx.max())\n",
    "plt.ylim(yy.min(), yy.max())\n",
    "\n",
    "plt.show()\n"
   ]
  },
  {
   "cell_type": "markdown",
   "metadata": {},
   "source": [
    "This plot highlights the outlier points - those which fall into areas of the opposite label.\n",
    "\n",
    "\n",
    "\n",
    "## KNN algorithm from scratch\n",
    "\n",
    "Now I'll code an KNN algorithm from scratch and use the music data from above to test it's performance."
   ]
  },
  {
   "cell_type": "code",
   "execution_count": 82,
   "metadata": {},
   "outputs": [],
   "source": [
    "def KNN(data,k,xy_test):\n",
    "    '''K-Nearest Neighbors classifier, where the input data is 2 dimensional and in a\n",
    "    DataFrame with X,Y,Z as columns 0,1,2. k can be any integer less than the length \n",
    "    of the training set. xy_test is a tuple containing the individual test point \n",
    "    in (x,y) format.\n",
    "    '''\n",
    "    x = data.iloc[:, 1]\n",
    "    y = data.iloc[:, 0]\n",
    "    x_test = xy_test[1]\n",
    "    y_test = xy_test[0]\n",
    "    \n",
    "    data['eu_dist'] = np.sqrt((x-x_test) ** 2 + (y-y_test) ** 2)\n",
    "    data_sorted = data.sort_values('eu_dist')[:k]\n",
    "    votes = data_sorted.iloc[:, 2].sum() / k\n",
    "    \n",
    "    if votes > 0.5:\n",
    "        return 1, votes\n",
    "    else:\n",
    "        return 0, votes"
   ]
  },
  {
   "cell_type": "code",
   "execution_count": 83,
   "metadata": {},
   "outputs": [
    {
     "data": {
      "text/plain": [
       "(1, 0.6)"
      ]
     },
     "execution_count": 83,
     "metadata": {},
     "output_type": "execute_result"
    }
   ],
   "source": [
    "KNN(music, 5, (190,24))"
   ]
  },
  {
   "cell_type": "code",
   "execution_count": null,
   "metadata": {},
   "outputs": [],
   "source": []
  },
  {
   "cell_type": "code",
   "execution_count": null,
   "metadata": {},
   "outputs": [],
   "source": []
  },
  {
   "cell_type": "code",
   "execution_count": null,
   "metadata": {},
   "outputs": [],
   "source": []
  },
  {
   "cell_type": "code",
   "execution_count": null,
   "metadata": {},
   "outputs": [],
   "source": []
  }
 ],
 "metadata": {
  "kernelspec": {
   "display_name": "Python 3",
   "language": "python",
   "name": "python3"
  },
  "language_info": {
   "codemirror_mode": {
    "name": "ipython",
    "version": 3
   },
   "file_extension": ".py",
   "mimetype": "text/x-python",
   "name": "python",
   "nbconvert_exporter": "python",
   "pygments_lexer": "ipython3",
   "version": "3.7.1"
  }
 },
 "nbformat": 4,
 "nbformat_minor": 2
}
