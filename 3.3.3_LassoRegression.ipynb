{
 "cells": [
  {
   "cell_type": "markdown",
   "metadata": {},
   "source": [
    "# Lasso regression\n",
    "\n",
    "LASSO (Least Absolute Shrinkage & Selection Operator) regression works by dropping weak and ineffective features from the model.  It is useful when the input data contains a large amount of predictors (1k - 100k+) and need to optimize processor time or when simpler, more interpretable solutions are required.  The model effectively acts as a feature selection mechanism, which can prevent overfitting.\n",
    "\n",
    "In ridge regression, parameter estimates are shrunk but they never quite reach 0.  Lasso forces the smallest parameters to be equal to zero, effectively dropping them from the model.  The cost function is very similar to ridge:\n",
    "\n",
    "$$ \\sum_{i=1}^n(y_i - (\\alpha + \\beta x_i))^2 + \\lambda\\sum_{j=1}^p|{\\beta_j}| $$\n",
    "\n",
    "Instead of penalizing the sum of squared coeffiecient, as in ridge, lasso penalizes by the sum of the absolute values of the coefficients (called **L1 regularization**).  The penalty doesn't increase as swiftly in this case.  \n",
    "\n",
    "Because lasso regression forces features to zero, the derivatives of these features will be undefined. Thus, the gradient descent algorithm will be unable to handle the multi-dimensional surface created by lasso.  Instead, lasso regression models are optimized using a coordinate descent algorithm.\n",
    "\n",
    "\n",
    "### Coordinate Descent Algorithm\n",
    "\n",
    "Coordinate descent algorithms work as follows:\n",
    "\n",
    "Pick some starting values for $\\beta$, often 0.  Then for each feature $j$ in $\\beta$:\n",
    "- Predict the outcome using all features besides $j$.\n",
    "- See how the residuals of $\\beta_{-j}$ correlate with $j$ (this correlation is defined as $\\rho_j$.\n",
    "- If $\\rho_j$ falls within $|\\lambda|$ of 0, set $\\beta_j = 0$\n",
    "- If $\\rho_j < \\frac{\\lambda}2$ set $\\beta_j == \\rho_j + \\frac{\\lambda}2$\n",
    "- If $\\rho_j > \\frac{\\lambda}2$ set $\\beta_j == \\rho_j - \\frac{\\lambda}2$\n",
    "\n",
    "The algorith will iterate through all parameters and cycle through this process until the maximum difference between parameter estimates for the current cycle and previous cycle is less than a pre-determined threshold $tol$.  In SKlearn, $tol$ defaults to 0.0001.  During the course of this algorithm each feature will shrink a bit from the previous iteration, unless it has already been set to 0.\n",
    "\n",
    "In summary, lasso fits a model using all parameters but one and sees if that fit is \"good enough\" (e.g. less than $|\\lambda|$). If it is, indeed, good enough, the model drops that feature by setting it's coefficient to 0.  If it isn't, then it shrinks the coefficient a bit.  This continues until the change in model residuals is less than a predetermined threshold.  Effectively lasso models protect against overfitting by shrinkage and creating sparsity -- many parameters are set to 0.\n",
    "\n",
    "\n",
    "\n",
    "### Lasso Model Example\n",
    "\n",
    "We'll now run through a lasso model using the same dataset from the ridge models."
   ]
  },
  {
   "cell_type": "code",
   "execution_count": 1,
   "metadata": {},
   "outputs": [],
   "source": [
    "import pandas as pd\n",
    "import numpy as np\n",
    "import matplotlib.pyplot as plt\n",
    "import math\n",
    "import seaborn as sns\n",
    "from sklearn import linear_model\n",
    "from sklearn import preprocessing\n",
    "\n",
    "%matplotlib inline\n",
    "sns.set_style('whitegrid')"
   ]
  },
  {
   "cell_type": "code",
   "execution_count": 2,
   "metadata": {},
   "outputs": [
    {
     "name": "stderr",
     "output_type": "stream",
     "text": [
      "/Users/mkfrancsis/anaconda3/lib/python3.7/site-packages/ipykernel_launcher.py:10: DataConversionWarning: Data with input dtype int64, float64 were all converted to float64 by the scale function.\n",
      "  # Remove the CWD from sys.path while we load stuff.\n"
     ]
    }
   ],
   "source": [
    "# Load the data & drop the index column\n",
    "df = pd.read_csv(\n",
    "    'https://tf-assets-prod.s3.amazonaws.com/tf-curric/data-science/credit-card-defaults.csv'\n",
    ").iloc[:,1:].dropna()\n",
    "\n",
    "# Recode strings to numeric.\n",
    "df['default'] = np.where(df['default']=='Yes', 1, 0)\n",
    "df['student'] = np.where(df['student']=='Yes', 1, 0)\n",
    "names = df.columns\n",
    "df = pd.DataFrame(preprocessing.scale(df), columns=names)\n",
    "# scaledbalance = preprocessing.scale(df['balance'])\n",
    "# df['balance'] = scaledbalance\n",
    "# scaledincome = preprocessing.scale(df['income'])\n",
    "# df['income'] = scaledincome\n",
    "\n",
    "# Define the training and test sizes.\n",
    "trainsize = df.shape[0] // 2\n",
    "df_test = df.iloc[trainsize:, :].copy()\n",
    "df_train = df.iloc[:trainsize, :].copy()\n",
    "\n",
    "Y_train = df_train['income'].values.reshape(-1, 1)\n",
    "X_train = df_train.loc[:, ~(df_train.columns).isin(['income'])]\n",
    "\n",
    "# Make some new features to capture potential quadratic and cubic\n",
    "# relationships between solar radiation and day or temperature.\n",
    "df_train['balance_student'] = df_train['balance'] * df_train['student']\n",
    "df_train['balance_default'] = df_train['balance'] * df_train['default']\n",
    "df_train['student_default'] = df_train['student'] * df_train['default']\n",
    "df_train['balance_sqrt'] = (df_train['balance'] + 100) ** .5\n",
    "df_train['balance2'] = (df_train['balance'] + 100) ** 2\n",
    "df_train['balance3'] = (df_train['balance'] + 100) ** 3\n",
    "\n",
    "X_train2 = df_train.loc[:, ~(df_train.columns).isin(['income'])]\n",
    "\n",
    "# Test the simpler model with smaller coefficients.\n",
    "Y_test = df_test['income'].values.reshape(-1, 1)\n",
    "X_test = df_test.loc[:, ~(df_test.columns).isin(['income'])]\n",
    "\n",
    "# Test the more complex model with larger coefficients.\n",
    "df_test['balance_student'] = df_test['balance'] * df_test['student']\n",
    "df_test['balance_default'] = df_test['balance'] * df_test['default']\n",
    "df_test['student_default'] = df_test['student'] * df_test['default']\n",
    "df_test['balance_sqrt'] = (df_test['balance'] + 100) ** .5\n",
    "df_test['balance2'] = (df_test['balance'] + 100) ** 2\n",
    "df_test['balance3'] = (df_test['balance'] + 100) ** 3\n",
    "X_test2 = df_test.loc[:, ~(df_test.columns).isin(['income'])]\n"
   ]
  },
  {
   "cell_type": "code",
   "execution_count": 3,
   "metadata": {},
   "outputs": [
    {
     "name": "stdout",
     "output_type": "stream",
     "text": [
      "R^2 simple model: \n",
      " 0.450062579301185 \n",
      "\n",
      "Simple model parameter estimates: \n",
      " [-0.         -0.40657726 -0.          0.00114596]\n",
      "\n",
      "\n",
      "R^2 complex model: \n",
      " 0.44363376712897096 \n",
      "\n",
      "Complex model parameter estimates: \n",
      " [ 0.00000000e+00 -3.89351238e-01  0.00000000e+00 -0.00000000e+00\n",
      "  0.00000000e+00 -0.00000000e+00  0.00000000e+00 -2.77688887e-04\n",
      " -7.09158792e-07  3.48711577e+00]\n"
     ]
    }
   ],
   "source": [
    "# Instantiate a lasso model for the simple training set\n",
    "lass = linear_model.Lasso(alpha=0.35)\n",
    "lassfit = lass.fit(X_train, Y_train)\n",
    "simpleparams = np.append(lassfit.coef_, lassfit.intercept_)\n",
    "\n",
    "print('R^2 simple model: \\n', lass.score(X_train, Y_train), '\\n')\n",
    "print('Simple model parameter estimates: \\n', simpleparams)\n",
    "print('\\n')\n",
    "\n",
    "# Instantiate a lasso model for the complex training set\n",
    "lassBig = linear_model.Lasso(alpha=0.35)\n",
    "lassBig.fit(X_train2, Y_train)\n",
    "bigparams = np.append(lassBig.coef_, lassBig.intercept_)\n",
    "\n",
    "print('R^2 complex model: \\n', lassBig.score(X_train2, Y_train), '\\n')\n",
    "print('Complex model parameter estimates: \\n', bigparams)"
   ]
  },
  {
   "cell_type": "markdown",
   "metadata": {},
   "source": [
    "Both models get approximately the same answer.  The complex model ended up dropping 60% of the input features."
   ]
  },
  {
   "cell_type": "code",
   "execution_count": 4,
   "metadata": {},
   "outputs": [
    {
     "name": "stdout",
     "output_type": "stream",
     "text": [
      "0.44553225151184195\n",
      "0.4380466345914476\n"
     ]
    }
   ],
   "source": [
    "print(lass.score(X_test, Y_test))\n",
    "print(lassBig.score(X_test2, Y_test))"
   ]
  },
  {
   "cell_type": "markdown",
   "metadata": {},
   "source": [
    "Each model shows similar performance on the test data set which suggests that they are not overfit to the training data."
   ]
  },
  {
   "cell_type": "code",
   "execution_count": 5,
   "metadata": {},
   "outputs": [
    {
     "name": "stderr",
     "output_type": "stream",
     "text": [
      "/Users/mkfrancsis/anaconda3/lib/python3.7/site-packages/sklearn/linear_model/ridge.py:125: LinAlgWarning: scipy.linalg.solve\n",
      "Ill-conditioned matrix detected. Result is not guaranteed to be accurate.\n",
      "Reciprocal condition number1.828186e-17\n",
      "  overwrite_a=True).T\n",
      "/Users/mkfrancsis/anaconda3/lib/python3.7/site-packages/sklearn/linear_model/ridge.py:125: LinAlgWarning: scipy.linalg.solve\n",
      "Ill-conditioned matrix detected. Result is not guaranteed to be accurate.\n",
      "Reciprocal condition number3.155867e-17\n",
      "  overwrite_a=True).T\n",
      "/Users/mkfrancsis/anaconda3/lib/python3.7/site-packages/sklearn/linear_model/ridge.py:125: LinAlgWarning: scipy.linalg.solve\n",
      "Ill-conditioned matrix detected. Result is not guaranteed to be accurate.\n",
      "Reciprocal condition number4.489076e-17\n",
      "  overwrite_a=True).T\n",
      "/Users/mkfrancsis/anaconda3/lib/python3.7/site-packages/sklearn/linear_model/ridge.py:125: LinAlgWarning: scipy.linalg.solve\n",
      "Ill-conditioned matrix detected. Result is not guaranteed to be accurate.\n",
      "Reciprocal condition number5.827330e-17\n",
      "  overwrite_a=True).T\n",
      "/Users/mkfrancsis/anaconda3/lib/python3.7/site-packages/sklearn/linear_model/ridge.py:125: LinAlgWarning: scipy.linalg.solve\n",
      "Ill-conditioned matrix detected. Result is not guaranteed to be accurate.\n",
      "Reciprocal condition number7.170204e-17\n",
      "  overwrite_a=True).T\n",
      "/Users/mkfrancsis/anaconda3/lib/python3.7/site-packages/sklearn/linear_model/ridge.py:125: LinAlgWarning: scipy.linalg.solve\n",
      "Ill-conditioned matrix detected. Result is not guaranteed to be accurate.\n",
      "Reciprocal condition number8.517319e-17\n",
      "  overwrite_a=True).T\n",
      "/Users/mkfrancsis/anaconda3/lib/python3.7/site-packages/sklearn/linear_model/ridge.py:125: LinAlgWarning: scipy.linalg.solve\n",
      "Ill-conditioned matrix detected. Result is not guaranteed to be accurate.\n",
      "Reciprocal condition number9.868334e-17\n",
      "  overwrite_a=True).T\n"
     ]
    },
    {
     "data": {
      "image/png": "[encoded data removed]",
      "text/plain": [
       "<Figure size 720x504 with 1 Axes>"
      ]
     },
     "metadata": {
      "needs_background": "light"
     },
     "output_type": "display_data"
    }
   ],
   "source": [
    "# Evaluating a range of lambda values\n",
    "l_scores = []\n",
    "r_scores = []\n",
    "lamb = []\n",
    "lambrange = np.linspace(0.1,.75,10)\n",
    "\n",
    "for lambd in lambrange:\n",
    "    lasso = linear_model.Lasso(alpha=lambd)\n",
    "    lasso.fit(X_train2, Y_train)\n",
    "    l_scores.append(lasso.score(X_train2, Y_train))\n",
    "    \n",
    "    ridge = linear_model.Ridge(alpha=lambd, fit_intercept=False)\n",
    "    ridge.fit(X_train2, Y_train)\n",
    "    r_scores.append(ridge.score(X_train2, Y_train))\n",
    "    \n",
    "    lamb.append(lambd)\n",
    "\n",
    "model_eval = pd.DataFrame({\n",
    "    'lambda': lamb,\n",
    "    'lasso': l_scores,\n",
    "    'ridge': r_scores\n",
    "})\n",
    "model_eval.sort_values('lambda')\n",
    "\n",
    "linregr = linear_model.LinearRegression().fit(X_train2, Y_train)\n",
    "\n",
    "plt.figure(figsize=(10,7))\n",
    "plt.plot(model_eval['ridge'], model_eval['lambda'])\n",
    "plt.plot(model_eval['lasso'], model_eval['lambda'])\n",
    "plt.plot(linregr.score(X_train2, Y_train), 0, 'kX', markersize=20)\n",
    "plt.title('Lambda comparison across models', size=18)\n",
    "plt.xlabel('Model Score', size=18)\n",
    "plt.ylabel('Lambda', size=18)\n",
    "plt.legend(['Ridge', 'Lasso', 'Linear'], fontsize=18)\n",
    "plt.show()"
   ]
  },
  {
   "cell_type": "code",
   "execution_count": null,
   "metadata": {},
   "outputs": [],
   "source": []
  }
 ],
 "metadata": {
  "kernelspec": {
   "display_name": "Python 3",
   "language": "python",
   "name": "python3"
  },
  "language_info": {
   "codemirror_mode": {
    "name": "ipython",
    "version": 3
   },
   "file_extension": ".py",
   "mimetype": "text/x-python",
   "name": "python",
   "nbconvert_exporter": "python",
   "pygments_lexer": "ipython3",
   "version": "3.7.1"
  }
 },
 "nbformat": 4,
 "nbformat_minor": 2
}
