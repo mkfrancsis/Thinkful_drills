{
 "cells": [
  {
   "cell_type": "markdown",
   "metadata": {},
   "source": [
    ">In each of the scenarios, find possible shortcomings of the theoretical or actual data sources to answer the given question. What could be done to either adjust the analysis or reframe the question so that you can answer it accurately?"
   ]
  },
  {
   "cell_type": "markdown",
   "metadata": {},
   "source": [
    "##### Data Source: Amsterdam availability data scraped from AirBnB on December 24th. Question: What are the popular neighborhoods in Amsterdam?\n",
    "\n",
    "Christmas eve date probably heavily biases the analysis.  Likely very limited availabily, so potentially the sample size is too small.  Unsure if the proposed analysis was planning on taking the most-availability to mean popular or unpopular neighborhoods.  \n",
    "\n",
    "**The question probably needs to be reframed to make it related to the Christmas holiday in some fashion.**"
   ]
  },
  {
   "cell_type": "markdown",
   "metadata": {},
   "source": [
    "##### Data Source: Mental health services use on September 12, 2001 in San Francisco, CA and New York City, NY. Question: How do patterns of mental health service use vary between cities?\n",
    "\n",
    "Obviously the day after 9/11 is going to heavily bias a potential analysis, especially for anything regarding New York City.  Most services in NYC were likely closed that day or might be otherwise compromised. The San Francisco data won't have those potential closures, but given that it was a highly traumatic time, the data won't be useful for a baseline.\n",
    "\n",
    "**The question definitely needs to be reframed around the September 11th attack and potentially disregard any city to city comparison.**"
   ]
  },
  {
   "cell_type": "markdown",
   "metadata": {},
   "source": [
    "##### Data Source: Armenian Pub Survey (Kaggle). Question: What are the most common reasons Armenians visit local pubs.\n",
    "\n",
    "The data was collected from an online survey of unknown origin and methodology. Overwhelmingly respondents are young, students with (?)limited income. There are limited responses to an apparently open-ended question regarding the reason they go to the pubs most of the time.\n",
    "\n",
    "**This dataset lends itself better to a much more focused question centered around what drives Armenian students to a particular pub, what keeps them there, and what drives them to spend more money.**\n"
   ]
  },
  {
   "cell_type": "code",
   "execution_count": null,
   "metadata": {},
   "outputs": [],
   "source": []
  }
 ],
 "metadata": {
  "kernelspec": {
   "display_name": "Python 3",
   "language": "python",
   "name": "python3"
  },
  "language_info": {
   "codemirror_mode": {
    "name": "ipython",
    "version": 3
   },
   "file_extension": ".py",
   "mimetype": "text/x-python",
   "name": "python",
   "nbconvert_exporter": "python",
   "pygments_lexer": "ipython3",
   "version": "3.7.0"
  }
 },
 "nbformat": 4,
 "nbformat_minor": 2
}
