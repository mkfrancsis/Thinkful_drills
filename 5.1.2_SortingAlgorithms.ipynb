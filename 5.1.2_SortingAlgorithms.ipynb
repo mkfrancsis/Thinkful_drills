{
 "cells": [
  {
   "cell_type": "code",
   "execution_count": 54,
   "metadata": {},
   "outputs": [],
   "source": [
    "import time \n",
    "import random\n",
    "\n",
    "random.seed(a=100)\n",
    "\n",
    "# Creating two test lists\n",
    "short_list = list(random.sample(range(1000000), 10))\n",
    "long_list = list(random.sample(range(1000000), 10000))"
   ]
  },
  {
   "cell_type": "markdown",
   "metadata": {},
   "source": [
    "# Sort\n",
    "\n",
    "Sorting is a basic and common operation to perform on lists.  There are many different potential methodologies, each with it's own benefits.  We'll work through several here.\n",
    "\n",
    "To test each sort implementation, we'll have two different lists, a short and long list.  Our goal is to sort these lists as efficiently as possible.  This will be measured in runtime, but also discussed in terms of steps.\n",
    "\n",
    "\n",
    "## Insertion Sort\n",
    "\n",
    "The insertion sort is one of the simplest.  We maintain two lists, our original list and the new, sorted list.  We sequentially move through the original list, copying a value, and then sequentially move through the sorted list, inserting the value at the appropriate place.  Let's code it up."
   ]
  },
  {
   "cell_type": "code",
   "execution_count": 44,
   "metadata": {},
   "outputs": [],
   "source": [
    "def insert_sort(input_list):\n",
    "    # Copy the list so not to modify the original\n",
    "    new_list = input_list\n",
    "    \n",
    "    for i, v in enumerate(new_list):\n",
    "        # Move through the new list until the previous value is not\n",
    "        # larger than v\n",
    "        while i > 0 and new_list[i - 1] > v: \n",
    "            # Swap places\n",
    "            new_list[i - 1], new_list[i] = v, new_list[i - 1]\n",
    "            i = i - 1\n",
    "    return new_list"
   ]
  },
  {
   "cell_type": "code",
   "execution_count": 45,
   "metadata": {},
   "outputs": [
    {
     "name": "stdout",
     "output_type": "stream",
     "text": [
      "7.295608520507812e-05 seconds\n",
      "[152745, 183236, 366725, 412125, 477025, 481850, 739784, 767514, 808225, 997948]\n"
     ]
    }
   ],
   "source": [
    "start = time.time()\n",
    "short_insert = insert_sort(short_list)\n",
    "\n",
    "print(f'{time.time() - start} seconds')\n",
    "print(short_insert)"
   ]
  },
  {
   "cell_type": "code",
   "execution_count": 46,
   "metadata": {},
   "outputs": [
    {
     "name": "stdout",
     "output_type": "stream",
     "text": [
      "5.936413764953613 seconds\n"
     ]
    }
   ],
   "source": [
    "start = time.time()\n",
    "insert_sort(long_list)\n",
    "\n",
    "print(f'{time.time() - start} seconds')"
   ]
  },
  {
   "cell_type": "markdown",
   "metadata": {},
   "source": [
    "Cool, so we successfully sorted these lists.  However, the inefficiency of the insertion sort became very apparent with the `long_list`.  If the list were perfectly out of order, this would have taken $O(n^2)$ steps.\n",
    "\n",
    "\n",
    "## Merge sort\n",
    "\n",
    "The merge sort is a more efficient sort algorithm.  It works by breaking the sorting down into very small increments.  It starts by breaking the big list into paired single element sublists then orders these pairs.\n",
    "\n",
    "For example, consider the list `[7, 3, 4, 2]`.  This would be split up into the individual elements and paired: `[7, 3], [4, 2]`.  Sorting those pairs would result in: `[3, 7], [2, 4]`.  Then this would be combined.  The elements of the second sublist `[2, 4]` would only be tested against the first element of the first sublist `3` to be sorted into the correct place, returning a fully sorted list.\n",
    "\n",
    "This divide and conquer strategy is much more efficient at scale."
   ]
  },
  {
   "cell_type": "code",
   "execution_count": 47,
   "metadata": {},
   "outputs": [],
   "source": [
    "def merge(a, b):\n",
    "    # Check for empty list.\n",
    "    if len(a) == 0 or len(b) == 0:\n",
    "        return a or b\n",
    "    \n",
    "    result = []\n",
    "    \n",
    "    # Track two indices.\n",
    "    i, j = 0, 0\n",
    "    \n",
    "    while (len(result) < len(a) + len(b)):\n",
    "        if a[i] < b[j]:\n",
    "            result.append(a[i])\n",
    "            i += 1\n",
    "        else:\n",
    "            result.append(b[j])\n",
    "            j += 1 \n",
    "\n",
    "        # When one list is empty, append rest of other list\n",
    "        if i == len(a) or j == len(b):\n",
    "            result.extend(a[i:] or b[j:])\n",
    "            break \n",
    "    \n",
    "    return result\n",
    "\n",
    "def merge_sort(lst):\n",
    "    if len(lst) < 2: \n",
    "        return lst\n",
    "    \n",
    "    mid = len(lst) // 2\n",
    "    \n",
    "    # Recursively split the list\n",
    "    a = merge_sort(lst[:mid])\n",
    "    b = merge_sort(lst[mid:])\n",
    "\n",
    "    return merge(a, b)"
   ]
  },
  {
   "cell_type": "code",
   "execution_count": 48,
   "metadata": {},
   "outputs": [
    {
     "name": "stdout",
     "output_type": "stream",
     "text": [
      "6.198883056640625e-05 seconds\n",
      "[152745, 183236, 366725, 412125, 477025, 481850, 739784, 767514, 808225, 997948]\n"
     ]
    }
   ],
   "source": [
    "start = time.time()\n",
    "\n",
    "merge_short = merge_sort(short_list)\n",
    "\n",
    "print(f'{time.time() - start} seconds')\n",
    "print(merge_short)"
   ]
  },
  {
   "cell_type": "code",
   "execution_count": 49,
   "metadata": {},
   "outputs": [
    {
     "name": "stdout",
     "output_type": "stream",
     "text": [
      "0.05042099952697754 seconds\n"
     ]
    }
   ],
   "source": [
    "start = time.time()\n",
    "\n",
    "merge_long = merge_sort(long_list)\n",
    "\n",
    "print(f'{time.time() - start} seconds')"
   ]
  },
  {
   "cell_type": "markdown",
   "metadata": {},
   "source": [
    "This sorting method is much faster, especially on the long list because it is more efficient -- $O(n \\log n)$ instead of $O(n^2)$.  That is, it's quasi-linear instead of quadratic.\n",
    "\n",
    "\n",
    "## Default Sort Method\n",
    "\n",
    "Python has two different ways to sort a list.  The list method `.sort()` and the built-in `sorted()` function.  Let's test how these do."
   ]
  },
  {
   "cell_type": "code",
   "execution_count": 50,
   "metadata": {},
   "outputs": [
    {
     "name": "stdout",
     "output_type": "stream",
     "text": [
      "5.698204040527344e-05 seconds\n"
     ]
    },
    {
     "data": {
      "text/plain": [
       "[152745,\n",
       " 183236,\n",
       " 366725,\n",
       " 412125,\n",
       " 477025,\n",
       " 481850,\n",
       " 739784,\n",
       " 767514,\n",
       " 808225,\n",
       " 997948]"
      ]
     },
     "execution_count": 50,
     "metadata": {},
     "output_type": "execute_result"
    }
   ],
   "source": [
    "start = time.time()\n",
    "sorted(short_list)\n",
    "print(f'{time.time() - start} seconds')\n",
    "sorted(short_list)"
   ]
  },
  {
   "cell_type": "code",
   "execution_count": 56,
   "metadata": {},
   "outputs": [
    {
     "name": "stdout",
     "output_type": "stream",
     "text": [
      "0.0020847320556640625 seconds\n"
     ]
    }
   ],
   "source": [
    "start = time.time()\n",
    "# `.sort()` will sort in-place and modify the original list so we avoid it here\n",
    "sorted(long_list)\n",
    "print(f'{time.time() - start} seconds')"
   ]
  },
  {
   "cell_type": "markdown",
   "metadata": {},
   "source": [
    "The default methods are much faster because they are actually written in C which is inherently faster."
   ]
  },
  {
   "cell_type": "markdown",
   "metadata": {},
   "source": [
    "## Heap Sort\n",
    "\n",
    "Heap sort works by determining the largest (or smallest) element of the list, placing it at the end (or beginning) or the list, and continuing through the rest of the list.  It accomplishes this task efficiently by using a data structure called a heap -- a special type of binary tree.  In the worst case this is $O(n \\log n)$ complexity.\n",
    "\n",
    "Once the data has been made into a heap, the root node is guaranteed to be the largest (or smallest) element."
   ]
  },
  {
   "cell_type": "code",
   "execution_count": 59,
   "metadata": {},
   "outputs": [],
   "source": [
    "def heapify(lst, n, i):\n",
    "    '''\n",
    "    lst is the input list, n is it's length, i is the index\n",
    "    '''\n",
    "    # Initialize largest as root\n",
    "    largest = i \n",
    "    # Left and right children\n",
    "    l = 2 * i + 1\n",
    "    r = 2 * i + 2\n",
    "    \n",
    "    # See if left child exists and is greater than root\n",
    "    if l < n and lst[i] < lst[l]:\n",
    "        largest = l\n",
    "    # Same but with right child\n",
    "    if r < n and lst[i] < lst[r]:\n",
    "        largest = r \n",
    "        \n",
    "    # Change root\n",
    "    if largest != i:\n",
    "        lst[i], lst[largest] = lst[largest], lst[i]\n",
    "        \n",
    "        # Recursively loop through the tree\n",
    "        heapify(lst, n, largest)\n",
    "        \n",
    "def heapsort(lst):\n",
    "    n = len(lst)\n",
    "    \n",
    "    # Build a maxheap\n",
    "    for i in range(n, -1, -1):\n",
    "        heapify(lst, n, i)\n",
    "        \n",
    "    # Iteratively extract elements\n",
    "    for i in range(n-1, 0, -1):\n",
    "        lst[i], lst[0] = lst[0], lst[i]\n",
    "        heapify(lst, i, 0)"
   ]
  },
  {
   "cell_type": "code",
   "execution_count": 60,
   "metadata": {},
   "outputs": [
    {
     "name": "stdout",
     "output_type": "stream",
     "text": [
      "9.012222290039062e-05 seconds\n"
     ]
    },
    {
     "data": {
      "text/plain": [
       "[152745,\n",
       " 183236,\n",
       " 366725,\n",
       " 412125,\n",
       " 477025,\n",
       " 481850,\n",
       " 739784,\n",
       " 767514,\n",
       " 808225,\n",
       " 997948]"
      ]
     },
     "execution_count": 60,
     "metadata": {},
     "output_type": "execute_result"
    }
   ],
   "source": [
    "start = time.time()\n",
    "heapsort(short_list)\n",
    "print(f'{time.time() - start} seconds')\n",
    "sorted(short_list)"
   ]
  },
  {
   "cell_type": "code",
   "execution_count": 61,
   "metadata": {},
   "outputs": [
    {
     "name": "stdout",
     "output_type": "stream",
     "text": [
      "0.025140047073364258 seconds\n"
     ]
    }
   ],
   "source": [
    "start = time.time()\n",
    "heapsort(long_list)\n",
    "print(f'{time.time() - start} seconds')"
   ]
  },
  {
   "cell_type": "markdown",
   "metadata": {},
   "source": [
    "The heap sort takes only 10 times as long as the default sort.  It is also twice as fast as the merge sort.\n"
   ]
  },
  {
   "cell_type": "code",
   "execution_count": null,
   "metadata": {},
   "outputs": [],
   "source": []
  }
 ],
 "metadata": {
  "kernelspec": {
   "display_name": "Python 3",
   "language": "python",
   "name": "python3"
  },
  "language_info": {
   "codemirror_mode": {
    "name": "ipython",
    "version": 3
   },
   "file_extension": ".py",
   "mimetype": "text/x-python",
   "name": "python",
   "nbconvert_exporter": "python",
   "pygments_lexer": "ipython3",
   "version": "3.7.1"
  },
  "toc": {
   "base_numbering": 1,
   "nav_menu": {},
   "number_sections": true,
   "sideBar": true,
   "skip_h1_title": false,
   "title_cell": "Table of Contents",
   "title_sidebar": "Contents",
   "toc_cell": false,
   "toc_position": {},
   "toc_section_display": true,
   "toc_window_display": false
  }
 },
 "nbformat": 4,
 "nbformat_minor": 2
}
