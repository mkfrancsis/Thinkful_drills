{
 "cells": [
  {
   "cell_type": "code",
   "execution_count": 1,
   "metadata": {},
   "outputs": [],
   "source": [
    "import numpy as np\n",
    "import pandas as pd\n",
    "import statistics\n",
    "\n",
    "bunch = pd.DataFrame()\n",
    "bunch['names'] = ['Greg',\n",
    "                 'Marcia',\n",
    "                 'Peter',\n",
    "                 'Jan',\n",
    "                 'Bobby',\n",
    "                 'Cindy',\n",
    "                 'Cousin Oliver']\n",
    "bunch['ages'] = [14, 12, 11, 10, 8, 6, 8]"
   ]
  },
  {
   "cell_type": "code",
   "execution_count": 2,
   "metadata": {},
   "outputs": [
    {
     "name": "stdout",
     "output_type": "stream",
     "text": [
      "Mean - 9.857142857142858\n",
      "Median - 10.0\n",
      "Mode - 8\n",
      "Var - 6.408163265306122\n",
      "Std - 2.531435020952764\n",
      "SE - 0.9567925036515135\n"
     ]
    }
   ],
   "source": [
    "print('Mean - {}'.format(np.mean(bunch['ages'])))\n",
    "print('Median - {}'.format(np.median(bunch['ages'])))\n",
    "print('Mode - {}'.format(statistics.mode(bunch['ages'])))\n",
    "print('Var - {}'.format(np.var(bunch['ages'])))\n",
    "print('Std - {}'.format(np.std(bunch['ages'])))\n",
    "print('SE - {}'.format(np.std(bunch['ages']/np.sqrt(len(bunch['ages'])))))"
   ]
  },
  {
   "cell_type": "markdown",
   "metadata": {},
   "source": [
    "The data is well distributed so I prefer to use the mean and std as my main measures of central tendency and variance."
   ]
  },
  {
   "cell_type": "code",
   "execution_count": 3,
   "metadata": {},
   "outputs": [],
   "source": [
    "#Cindy had a birthday\n",
    "bunch['ages'] = [14, 12, 11, 10, 8, 7, 8]"
   ]
  },
  {
   "cell_type": "code",
   "execution_count": 4,
   "metadata": {},
   "outputs": [
    {
     "name": "stdout",
     "output_type": "stream",
     "text": [
      "Mean - 10.0\n",
      "Median - 10.0\n",
      "Mode - 8\n",
      "Var - 5.428571428571429\n",
      "Std - 2.32992949004287\n",
      "SE - 0.8806305718527109\n"
     ]
    }
   ],
   "source": [
    "print('Mean - {}'.format(np.mean(bunch['ages'])))\n",
    "print('Median - {}'.format(np.median(bunch['ages'])))\n",
    "print('Mode - {}'.format(statistics.mode(bunch['ages'])))\n",
    "print('Var - {}'.format(np.var(bunch['ages'])))\n",
    "print('Std - {}'.format(np.std(bunch['ages'])))\n",
    "print('SE - {}'.format(np.std(bunch['ages']/np.sqrt(len(bunch['ages'])))))"
   ]
  },
  {
   "cell_type": "markdown",
   "metadata": {},
   "source": [
    "The mean increased and now is equivalent to the median.  All measures of variance decreased slightly."
   ]
  },
  {
   "cell_type": "code",
   "execution_count": 5,
   "metadata": {},
   "outputs": [],
   "source": [
    "#Cousin Oliver is replaced by the network\n",
    "bunch['ages'] = [14, 12, 11, 10, 8, 7, 1]"
   ]
  },
  {
   "cell_type": "code",
   "execution_count": 6,
   "metadata": {},
   "outputs": [
    {
     "name": "stdout",
     "output_type": "stream",
     "text": [
      "Mean - 9.0\n",
      "Median - 10.0\n",
      "There is no mode for this data.\n",
      "Var - 15.428571428571429\n",
      "Std - 3.927922024247863\n",
      "SE - 1.4846149779161804\n"
     ]
    }
   ],
   "source": [
    "print('Mean - {}'.format(np.mean(bunch['ages'])))\n",
    "print('Median - {}'.format(np.median(bunch['ages'])))\n",
    "\n",
    "try:\n",
    "    print('Mode - {}'.format(statistics.mode(bunch['ages'])))\n",
    "except statistics.StatisticsError:\n",
    "    print('There is no mode for this data.')\n",
    "    \n",
    "print('Var - {}'.format(np.var(bunch['ages'])))\n",
    "print('Std - {}'.format(np.std(bunch['ages'])))\n",
    "print('SE - {}'.format(np.std(bunch['ages']/np.sqrt(len(bunch['ages'])))))"
   ]
  },
  {
   "cell_type": "markdown",
   "metadata": {},
   "source": [
    "The mean decreased and the variance measures have all increased quite a bit.  Introduction of the low minimum has skewed the data.  I would probably use the median in this case, but might still choose the std for a variance measure."
   ]
  },
  {
   "cell_type": "markdown",
   "metadata": {},
   "source": [
    "## Question 5:\n",
    "\n",
    "> On the 50th anniversary of The Brady Bunch, four different magazines asked their readers whether they were fans of the show. The answers were: TV Guide, 20% fans; Entertainment Weekly, 23% fans; Pop Culture Today 17% fans; SciPhi Phanatic, 5% fans. Based on these numbers, what percentage of adult Americans would you estimate were Brady Bunch fans on the 50th anniversary of the show?\n",
    "\n",
    "#### Matt responses:\n",
    "This is essentially asking if the collective readerships of the four magazines are a representative sample of US adults at the time of The Brady Bunch 50th anniversary.  To answer this, one must ask some questions of these sample sets before arriving at a conclusion.\n",
    "\n",
    "1. When was the 50th anniversary?\n",
    "    - The show debuted in September 1969, so the 50th anniversary is September 2019.\n",
    "2. What is the current total readership of each magazine, and if possible, what are the demographic breakdowns of each?\n",
    "    - TV Guide has 1.25 million readers in 2018.\n",
    "    - Entertainment Weekly has 25.8 million readers in 2018.\n",
    "        - Median age = 42\n",
    "        - Ages 25-54 = 57% of readers\n",
    "        - Ages 55+ = 29% of readers\n",
    "    - There were no readership numbers (or websites) available for Pop Culture Today and SciPhi Phanatic.\n",
    "3. What were the poll methodologies and response rates?\n",
    "    - Obviously, we don't have this information.  But each methodology (paper, phone, text, web) probably biases the result in some fashion.  And becasue we don't know how many responses came from each publication, it's impossible to say if the polls themselves are representative samples of there readerships.\n",
    "4. Do the readerships overlap?\n",
    "    - We don't have data to answer this, but it's probably likely that a small portion of the TV Guide and Entertainment Weekly readers overlap.  Perhaps a small subset of readers of EW and Pop Culture Today also overlap.  My guess is that the readership of SciPhi Phanatic is relatively small and probably isolated from the others.\n",
    "5. What is the current population of US adults?\n",
    "    - There are currently 240 million adults in the US.\n",
    "6. Do the magazines make up a representative sample of US adults?\n",
    "    - Entertainment Weekly accounts for nearly 10% of US adults and TV Guide accounts for 0.5%.  Without readership numbers for the other two magazines, it's very difficult to say if they account for an appreciable number of US adults and we will disclude them from the remaining discussion.  Both TV Guide and Entertainment Weekly are likely to be heavily biased towards TV viewing adults which means their 20% and 23% affirmative response rate are probably overestimated.\n",
    "\n",
    "\n",
    "**Based on this quick semi-qualitative analysis, I would estimate that somewhere between 10-15% of US adults are fans of The Brady Bunch.**\n",
    "\n"
   ]
  },
  {
   "cell_type": "code",
   "execution_count": null,
   "metadata": {},
   "outputs": [],
   "source": []
  }
 ],
 "metadata": {
  "kernelspec": {
   "display_name": "Python 3",
   "language": "python",
   "name": "python3"
  },
  "language_info": {
   "codemirror_mode": {
    "name": "ipython",
    "version": 3
   },
   "file_extension": ".py",
   "mimetype": "text/x-python",
   "name": "python",
   "nbconvert_exporter": "python",
   "pygments_lexer": "ipython3",
   "version": "3.7.0"
  }
 },
 "nbformat": 4,
 "nbformat_minor": 2
}
