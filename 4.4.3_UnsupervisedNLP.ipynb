{
 "cells": [
  {
   "cell_type": "markdown",
   "metadata": {},
   "source": [
    "# Unsupervised NLP\n",
    "\n",
    "While supervised NLP allows us to transform text to digits and quantify the text, it does not allow us to gain an understanding of the text meaning.  We have the ability to count word frequency, sentence length, and the like, however, we can't tell that 'queen' is more similar to 'lady' than 'car'.  Also, we wouldn't be able to tell that synonyms are related instead of completely separate words.  \n",
    "\n",
    "Enter unsupervised NLP. The main goal of unsupervised NLP is to train a model to understand, at a semantic level, the corpus it has been trained on.  Instead of explicitly coding the rules of a language or corpus, we allow the model to learn the semantic rules of that text. The main method is **term frequency - inverse document frequency**, or **_tf-idf_** for short."
   ]
  },
  {
   "cell_type": "markdown",
   "metadata": {},
   "source": [
    "# TF-IDF\n",
    "\n",
    "Term frequency - inverse document frequency is a method which weights the value of a particular lemma based on how frequently it appears in sentence and document.  Effectively, it will measure how important a word is to a sentence and the document as a whole.  Let's construct it's building blocks _term frequency_ and _inverse document frequency_.\n",
    "\n",
    "\n",
    "## Sentences to vectors\n",
    "We first need to parse text into a numerical vector form, similar to what we did in the supervised NLP exercise.  Consider the following sentences: \n",
    "\n",
    "1. \"The best Monty Python sketch is the one about the dead parrot,  I laughed so hard.\"\n",
    "2. \"I laugh when I think about Python's Ministry of Silly Walks sketch, it is funny, funny, funny, the best!\"\n",
    "3. \"Chocolate is the best ice cream dessert topping, with a great taste.\"\n",
    "4. \"The Lumberjack Song is the funniest Monty Python bit: I can't think of it without laughing.\"\n",
    "5. \"I would rather put strawberries on my ice cream for dessert, they have the best taste.\"\n",
    "6. \"The taste of caramel is a fantastic accompaniment to tasty mint ice cream.\"\n",
    "\n",
    "Obviously, there are two main themes, comedy and ice cream.  How will we quantify these?\n",
    "\n",
    "If we parse these, removing stop words, reduce to lemmas, and discard words that only appear once, we can create the following term-document matrix.  Where by the columns represent each sentence in the \"document\" (loosely, the block of text evaluated, here a single sentence) and each row represents a term which passes through our decision gate.\n",
    "\n",
    "|    term   | 1 | 2 | 3 | 4 | 5 | 6 |\n",
    "|-----------|---|---|---|---|---|---|\n",
    "| Monty     | 1 | 0 | 0 | 1 | 0 | 0 |\n",
    "| Python    | 1 | 1 | 0 | 1 | 0 | 0 |\n",
    "| sketch    | 1 | 1 | 0 | 0 | 0 | 0 |\n",
    "| laugh     | 1 | 1 | 0 | 1 | 0 | 0 |\n",
    "| funny     | 0 | 3 | 0 | 1 | 0 | 0 |\n",
    "| best      | 1 | 1 | 1 | 0 | 1 | 0 |\n",
    "| ice cream | 0 | 0 | 1 | 0 | 1 | 1 |\n",
    "| dessert   | 0 | 0 | 1 | 0 | 1 | 0 |\n",
    "| taste     | 0 | 0 | 1 | 0 | 1 | 2 |\n",
    "\n",
    "The main take-aways from this table are that we have identified and quantified words that are important to each them; \"funny\" for comedy, \"taste\" for ice cream.  We also note that \"best\" is used indescriminantly across both each theme and the corpus.  We can reduce the dimensionality of this matrix by aggregating across each document and the collection (corpus) as a whole.\n",
    "\n",
    "\n",
    "## Document and collection frequency\n",
    "'Document frequency' counts how many documents (sentences, in this case) a word appears in.  'Collection frequency' counts how often a word appears, total, over the full collection (all sentences).  Let's calculate the df and cf for our sentence set:\n",
    "\n",
    "|     term  |df | cf| \n",
    "|-----------|---|---|\n",
    "| Monty     | 2 | 2 | \n",
    "| Python    | 3 | 3 | \n",
    "| sketch    | 2 | 2 | \n",
    "| laugh     | 3 | 3 | \n",
    "| funny     | 2 | 4 | \n",
    "| best      | 4 | 4 | \n",
    "| ice cream | 3 | 3 | \n",
    "| dessert   | 2 | 2 | \n",
    "| taste     | 3 | 4 | \n",
    "\n",
    "We have two different counts for each \"important\" lemma.  However, recall that high total occurances, such as \"best\", actually provide less information than words with fewer occurances, like \"funny\" or \"taste\".  These less common words have more specific context and will be more useful, so let's create a metric which follows this logic.\n",
    "\n",
    "\n",
    "## Inverse Document Frequency\n",
    "\n",
    "We will calculate the inverse document frequency (idf) as:\n",
    "\n",
    "$$ idf_t = \\log \\dfrac N{df_t} $$\n",
    "\n",
    "That is the log (base 2) of the ratio between the total number of documents (N) and the document frequency of each term ($df_t$).  The $idf_t$ weights represent which terms are most important across the entire collection of documents.\n",
    "\n",
    "|  term    |df | N | idf |\n",
    "|-----------|---|---|---|\n",
    "| Monty     | 2 | 6 | 1.585 |\n",
    "| Python    | 3 | 6 | 1 |\n",
    "| sketch    | 2 | 6 | 1.585 |\n",
    "| laugh     | 3 | 6 | 1 |\n",
    "| funny     | 2 | 6 | 1.585 |\n",
    "| best      | 4 | 6 | .585 |\n",
    "| ice cream | 3 | 6 | 1 |\n",
    "| dessert   | 2 | 6 | 1.585 |\n",
    "| taste     | 3 | 6 | 1 |\n",
    "\n",
    "\n",
    "## TF-IDF\n",
    "\n",
    "We can then multiply $idf_t$ by $tf_t,d$, the term frequency for each document (sentence, in this case) to arrive at the $tf-idf$.\n",
    "\n",
    "$$ tf-idf_t,d = (tf_t,d)(idf_t) $$\n",
    "\n",
    "|   term    | 1 | 2 | 3 | 4 | 5 | 6 |\n",
    "|-----------|---|---|---|---|---|---|\n",
    "| Monty     | 1.585 | 0 | 0 | 1.585 | 0 | 0 |\n",
    "| Python    | 1 | 1 | 0 | 1 | 0 | 0 |\n",
    "| sketch    | 1.585| 1.585 | 0 | 0 | 0 | 0 |\n",
    "| laugh     | 1 | 1 | 0 |  1 | 0 | 0 |\n",
    "| funny     | 0 | 4.755 | 0 | 1.585 | 0 | 0 |\n",
    "| best      | .585 | .585 | .585 | 0 | .585 | 0 |\n",
    "| ice cream | 0 | 0 | 1 | 0 | 1 | 1 |\n",
    "| dessert   | 0 | 0 | 1.585 | 0 | 1.585 | 0 |\n",
    "| taste     | 0 | 0 | 1 | 0 | 1 | 2 |\n",
    "\n",
    "Now we have a feature which incorporates both sentence-level and whole text-level information. From the table above, we note that, in sentence 2, \"funny\" has the highest $tf-idf$ score of the entire text.  We also see that while \"best\" is present in many sentences, it has a relatively low $tf-idf$ score because it is not very specific.\n",
    "\n",
    "\n",
    "## Considerations for $tf-idf$ Models\n",
    "\n",
    "* Which stop words to include or exclude\n",
    "* Should we use phrases ('Monty Python' instead of 'Monty' and 'Python') as terms\n",
    "* The threshold for infrequent words: Here, we excluded words that only occurred once.  In longer documents, it may be a good idea to set a higher threshold.\n",
    "* How many terms to keep.  We kept all the terms that fit our criteria (not a stop word, occurred more than once), but for bigger document collections or longer documents, this may create unfeasibly long vectors.  We may want to decide to only keep the 10,000 words with the highest collection frequency scores, for example."
   ]
  },
  {
   "cell_type": "markdown",
   "metadata": {},
   "source": [
    "# Vector Space Model\n",
    "\n",
    "This vector represenation of the text is called a Vector Space Model.  We can use this representation to compute the similarity between the trained sentences (or blocks of text) and a new sentence -- this is often used by search engines to match a query to possible results.\n",
    "\n",
    "To compute similarity, one has to first transform the new text into the trained vector space.  Then you calculated the cosine of the angle between the trained vectors and the new vector.  If the vectors are identical, then the angle is 0° and the cosine is 1.  Conversely, if the vectors are completely unrelated, the angle between them will be 90° and the cosine will be 0.  The cosine of the angle between the vectors represents a similarity score.\n",
    "\n",
    "\n",
    "# Latent Semantic Analysis\n",
    "\n",
    "While VSM is cool and useful, it struggles with synonyms and polysemy (\"I need a break\" vs \"I break things\").  It also has trouble with very large documents.  \n",
    "\n",
    "The solution is to reduce the dimensionality of the VSM with **Latent Semantic Analysis**, a form of PCA.  Specifically, the dimension reduction technique is called Singular Value Decomposition (SVD).  This differs from PCA in that the variables are not mean-centered and thus preserves the sparsity present within the VSM.  The output of SVD on the $tf-idf$ matrix is a cluster of terms that presumably reflect a topic.  Each sentence would then recieve a score for each topic, with higher scores indicating that it is more relevant to the topic.\n",
    "\n",
    "\n",
    "# Exercise\n",
    "\n",
    "Ok, now let's try performing the $tf-idf$ and LSA on *Emma* by Jane Austen."
   ]
  },
  {
   "cell_type": "code",
   "execution_count": 14,
   "metadata": {},
   "outputs": [
    {
     "name": "stderr",
     "output_type": "stream",
     "text": [
      "[nltk_data] Downloading package punkt to\n",
      "[nltk_data]     /Users/mkfrancsis/nltk_data...\n",
      "[nltk_data]   Package punkt is already up-to-date!\n"
     ]
    }
   ],
   "source": [
    "import pandas as pd\n",
    "import numpy as np\n",
    "import matplotlib.pyplot as plt\n",
    "import seaborn as sns\n",
    "\n",
    "import nltk\n",
    "nltk.download('punkt')  # Need this to process the data\n",
    "from nltk.corpus import gutenberg\n",
    "import re\n",
    "\n",
    "import scipy\n",
    "\n",
    "from sklearn.preprocessing import Normalizer\n",
    "from sklearn.pipeline import make_pipeline\n",
    "from sklearn.model_selection import train_test_split\n",
    "from sklearn.feature_extraction.text import TfidfVectorizer\n",
    "from sklearn.decomposition import TruncatedSVD\n",
    "\n",
    "%matplotlib inline"
   ]
  },
  {
   "cell_type": "code",
   "execution_count": 9,
   "metadata": {},
   "outputs": [
    {
     "name": "stdout",
     "output_type": "stream",
     "text": [
      "['[ Emma by Jane Austen 1816 ]', 'VOLUME I', 'CHAPTER I', 'Emma Woodhouse , handsome , clever , and rich , with a comfortable home and happy disposition , seemed to unite some of the best blessings of existence ; and had lived nearly twenty - one years in the world with very little to distress or vex her .']\n"
     ]
    }
   ],
   "source": [
    "# Reading the data in by paragraphs, thus our \"document\" will be \n",
    "# full paragraphs, not just single sentences\n",
    "emma = gutenberg.paras('austen-emma.txt')\n",
    "\n",
    "emma_paras = []\n",
    "for paragraph in emma:\n",
    "    para = paragraph[0]\n",
    "    \n",
    "    # Cleaning the double dashes from the text\n",
    "    para = [re.sub(r'--', '', word) for word in para]\n",
    "    emma_paras.append(' '.join(para))\n",
    "    \n",
    "print(emma_paras[:4])"
   ]
  },
  {
   "cell_type": "markdown",
   "metadata": {},
   "source": [
    "## tf-idf in sklearn\n",
    "\n",
    "SKlearn has a $tf-idf$ method available to use, along with a lengthy list of stop words."
   ]
  },
  {
   "cell_type": "code",
   "execution_count": 11,
   "metadata": {},
   "outputs": [
    {
     "name": "stdout",
     "output_type": "stream",
     "text": [
      "Number of features 1948\n"
     ]
    }
   ],
   "source": [
    "# Need this for future comparisons to vectorized data\n",
    "X_train, X_test = train_test_split(emma_paras, \n",
    "                                   test_size=0.4, \n",
    "                                   random_state=0)\n",
    "\n",
    "# Hyperparameter decisions\n",
    "# max_df = 0.5, drops words that appear in more than half of all documents\n",
    "# min_df = 2, drops words that appear less than twice\n",
    "# use_idf = True, uses inverse document weighting\n",
    "# norm = u'l2', correction factor for document length\n",
    "# smooth_idf = True, Adds 1 to all document frequencies, eliminates div0 errors\n",
    "vectorizer = TfidfVectorizer(max_df = 0.5, \n",
    "                             min_df = 2, \n",
    "                             stop_words = 'english', \n",
    "                             lowercase = True, \n",
    "                             use_idf = True, \n",
    "                             norm = u'l2', \n",
    "                             smooth_idf = True)\n",
    "\n",
    "emma_paras_tfidf = vectorizer.fit_transform(emma_paras)\n",
    "print(f'Number of features {emma_paras_tfidf.get_shape()[1]}')"
   ]
  },
  {
   "cell_type": "code",
   "execution_count": 16,
   "metadata": {},
   "outputs": [
    {
     "name": "stdout",
     "output_type": "stream",
     "text": [
      "Original sentence:  A very few minutes more , however , completed the present trial .\n",
      "\n",
      "tf-idf vector:  {'minutes': 0.7127450310382584, 'present': 0.701423210857947}\n"
     ]
    }
   ],
   "source": [
    "X_train_tfidf, X_test_tfidf = train_test_split(emma_paras_tfidf, \n",
    "                                               test_size = 0.4, \n",
    "                                               random_state = 0)\n",
    "\n",
    "# Reshape the output to human readable format\n",
    "X_train_tfidf_csr = X_train_tfidf.tocsr()\n",
    "\n",
    "# Number of paragraphs\n",
    "n = X_train_tfidf_csr.shape[0]\n",
    "\n",
    "# Creating a list of dictionaries to store the paragraphs in\n",
    "tfidf_bypara = [{} for _ in range(0,n)]\n",
    "\n",
    "# List of features\n",
    "terms = vectorizer.get_feature_names()\n",
    "\n",
    "for i, j in zip(*X_train_tfidf_csr.nonzero()):\n",
    "    tfidf_bypara[i][terms[j]] = X_train_tfidf_csr[i, j]\n",
    "    \n",
    "print('Original sentence: ', X_train[5])\n",
    "print('\\ntf-idf vector: ', tfidf_bypara[5])"
   ]
  },
  {
   "cell_type": "markdown",
   "metadata": {},
   "source": [
    "Note, that because tf-idf is log base 2, and the $\\log_2(1) = 0$, that a score of 0 indicates that the word was present once in that sentence."
   ]
  },
  {
   "cell_type": "markdown",
   "metadata": {},
   "source": [
    "# SVD dimensionality reduction\n",
    "\n",
    "Our model has as shape of (2371, 1948).  We should definitely do some dimensionality reduction using SVD.  Remember that performing SVD on the tf-idf vectors is called Latent Semantic Analysis (LSA)."
   ]
  },
  {
   "cell_type": "code",
   "execution_count": 20,
   "metadata": {},
   "outputs": [
    {
     "name": "stdout",
     "output_type": "stream",
     "text": [
      "Percent of variance captured by all components:  45.21\n"
     ]
    }
   ],
   "source": [
    "# Instantiating the SVD to create a reduced sample space of (n, 130)\n",
    "svd = TruncatedSVD(n_components = 130)\n",
    "lsa = make_pipeline(svd, Normalizer(copy=False))\n",
    "\n",
    "# Run the SVD on the training data\n",
    "X_train_lsa = lsa.fit_transform(X_train_tfidf)\n",
    "\n",
    "explained_var = svd.explained_variance_ratio_\n",
    "total_var = explained_var.sum()\n",
    "\n",
    "print(\"Percent of variance captured by all components: \", round(total_var * 100, 2))"
   ]
  },
  {
   "cell_type": "code",
   "execution_count": 31,
   "metadata": {},
   "outputs": [
    {
     "name": "stdout",
     "output_type": "stream",
     "text": [
      "\n",
      "Component 0\n",
      "\" Oh !    0.999289\n",
      "\" Oh !    0.999289\n",
      "\" Oh !    0.999289\n",
      "\" Oh !    0.999289\n",
      "\" Oh !    0.999289\n",
      "\" Oh !    0.999289\n",
      "\" Oh !    0.999289\n",
      "\" Oh !    0.999289\n",
      "\" Oh !    0.999289\n",
      "\" Oh !    0.999289\n",
      "Name: 0, dtype: float64\n",
      "\n",
      "Component 1\n",
      "\" You have made her too tall , Emma ,\" said Mr . Knightley .                                                                                                                                                                                                                                                                                                                                                                                                                                                                                                                                                                                                                                                                                                                                                                                                                                                                                     0.633420\n",
      "\" You get upon delicate subjects , Emma ,\" said Mrs . Weston smiling ; \" remember that I am here . Mr .                                                                                                                                                                                                                                                                                                                                                                                                                                                                                                                                                                                                                                                                                                                                                                                                                                          0.582220\n",
      "\" I do not know what your opinion may be , Mrs . Weston ,\" said Mr . Knightley , \" of this great intimacy between Emma and Harriet Smith , but I think it a bad thing .\"                                                                                                                                                                                                                                                                                                                                                                                                                                                                                                                                                                                                                                                                                                                                                                         0.565064\n",
      "\" You are right , Mrs . Weston ,\" said Mr . Knightley warmly , \" Miss Fairfax is as capable as any of us of forming a just opinion of Mrs . Elton .                                                                                                                                                                                                                                                                                                                                                                                                                                                                                                                                                                                                                                                                                                                                                                                              0.560316\n",
      "\" There were misunderstandings between them , Emma ; he said so expressly .                                                                                                                                                                                                                                                                                                                                                                                                                                                                                                                                                                                                                                                                                                                                                                                                                                                                      0.528317\n",
      "Mr . Knightley might quarrel with her , but Emma could not quarrel with herself .                                                                                                                                                                                                                                                                                                                                                                                                                                                                                                                                                                                                                                                                                                                                                                                                                                                                0.523688\n",
      "\" Now ,\" said Emma , when they were fairly beyond the sweep gates , \" now Mr . Weston , do let me know what has happened .\"                                                                                                                                                                                                                                                                                                                                                                                                                                                                                                                                                                                                                                                                                                                                                                                                                      0.513742\n",
      "\" In one respect , perhaps , Mr . Elton ' s manners are superior to Mr . Knightley ' s or Mr . Weston ' s .                                                                                                                                                                                                                                                                                                                                                                                                                                                                                                                                                                                                                                                                                                                                                                                                                                      0.505682\n",
      "Emma found that it was not Mr . Weston ' s fault that the number of privy councillors was not yet larger .                                                                                                                                                                                                                                                                                                                                                                                                                                                                                                                                                                                                                                                                                                                                                                                                                                       0.505581\n",
      "Mrs . Weston was acting no part , feigning no feelings in all that she said to him in favour of the event . She had been extremely surprized , never more so , than when Emma first opened the affair to her ; but she saw in it only increase of happiness to all , and had no scruple in urging him to the utmost . She had such a regard for Mr . Knightley , as to think he deserved even her dearest Emma ; and it was in every respect so proper , suitable , and unexceptionable a connexion , and in one respect , one point of the highest importance , so peculiarly eligible , so singularly fortunate , that now it seemed as if Emma could not safely have attached herself to any other creature , and that she had herself been the stupidest of beings in not having thought of it , and wished it long ago . How very few of those men in a rank of life to address Emma would have renounced their own home for Hartfield !    0.499073\n",
      "Name: 1, dtype: float64\n",
      "\n",
      "Component 2\n",
      "CHAPTER V      0.998642\n",
      "CHAPTER X      0.998642\n",
      "CHAPTER I      0.998642\n",
      "CHAPTER V      0.998642\n",
      "CHAPTER X      0.998642\n",
      "CHAPTER I      0.998642\n",
      "CHAPTER I      0.998642\n",
      "CHAPTER X      0.998642\n",
      "CHAPTER V      0.998642\n",
      "CHAPTER XII    0.997524\n",
      "Name: 2, dtype: float64\n",
      "\n",
      "Component 3\n",
      "\" Ah !      0.992902\n",
      "\" Ah !      0.992902\n",
      "\" Ah !      0.992902\n",
      "\" Ah !      0.992902\n",
      "\" Ah !      0.992902\n",
      "\" Ah !      0.992902\n",
      "\" Ah !      0.992902\n",
      "But ah !    0.992902\n",
      "\" Ah !      0.992902\n",
      "\" Ah !      0.992902\n",
      "Name: 3, dtype: float64\n",
      "\n",
      "Component 4\n",
      "\" There were misunderstandings between them , Emma ; he said so expressly .    0.650547\n",
      "\" Are you well , my Emma ?\"                                                    0.598865\n",
      "Emma demurred .                                                                0.598865\n",
      "Emma was silenced .                                                            0.587727\n",
      "At first it was downright dulness to Emma .                                    0.586806\n",
      "\" Emma , my dear Emma \"                                                        0.576602\n",
      "Emma could not resist .                                                        0.568299\n",
      "\" It is not now worth a regret ,\" said Emma .                                  0.556001\n",
      "\" For shame , Emma !                                                           0.543760\n",
      "\" No great variety of faces for you ,\" said Emma .                             0.491783\n",
      "Name: 4, dtype: float64\n"
     ]
    }
   ],
   "source": [
    "# Looking at the first 5 topics from the SVD\n",
    "para_by_component = pd.DataFrame(X_train_lsa, index=X_train)\n",
    "\n",
    "for i in range(5):\n",
    "    print(f'\\nComponent {i}')\n",
    "    print(para_by_component.loc[:, i].sort_values(ascending=False)[:10])"
   ]
  },
  {
   "cell_type": "markdown",
   "metadata": {},
   "source": [
    "These groupings, or topics, seem to be well defined. Topics 0 and 3 contain exclamation text. Topic 2 is chapter headings. Topic 1 involves seemingly critical dialogue about or directed toward Emma.  Topic 4 involves actions by or related to Emma.\n",
    "\n",
    "\n",
    "# Sentence similarity\n",
    "\n",
    "We can also evaluate how similar sentences are to one another."
   ]
  },
  {
   "cell_type": "code",
   "execution_count": 38,
   "metadata": {},
   "outputs": [
    {
     "data": {
      "image/png": "[encoded data removed]",
      "text/plain": [
       "<Figure size 432x288 with 2 Axes>"
      ]
     },
     "metadata": {
      "needs_background": "light"
     },
     "output_type": "display_data"
    },
    {
     "name": "stdout",
     "output_type": "stream",
     "text": [
      "Sentence Key:\n",
      "0 That is _court_ .\n",
      "1 \" Yes , sir , I did indeed ; and I am very much obliged by your kind solicitude about me .\"\n",
      "2 \" How much his business engrosses him already is very plain from the circumstance of his forgetting to inquire for the book you recommended .\n",
      "3 To restrain him as much as might be , by her own manners , she was immediately preparing to speak with exquisite calmness and gravity of the weather and the night ; but scarcely had she begun , scarcely had they passed the sweep - gate and joined the other carriage , than she found her subject cut up  her hand seized  her attention demanded , and Mr . Elton actually making violent love to her : availing himself of the precious opportunity , declaring sentiments which must be already well known , hoping  fearing  adoring  ready to die if she refused him ; but flattering himself that his ardent attachment and unequalled love and unexampled passion could not fail of having some effect , and in short , very much resolved on being seriously accepted as soon as possible .\n",
      "4 Emma smiled and answered \" My visit was of use to the nervous part of her complaint , I hope ; but not even I can charm away a sore throat ; it is a most severe cold indeed .\n",
      "5 A very few minutes more , however , completed the present trial .\n",
      "6 \" I am delighted to hear you speak so stoutly on the subject ,\" replied Emma , smiling ; \" but you do not mean to deny that there was a time  and not very distant either  when you gave me reason to understand that you did care about him ?\"\n",
      "7 \" Very well ; and if he had intended to give her one , he would have told her so .\"\n",
      "8 Some laughed , and answered good - humouredly .\n",
      "9 \" There appeared such a perfectly good understanding among them all \" he began rather quickly , but checking himself , added , \" however , it is impossible for me to say on what terms they really were  how it might all be behind the scenes .\n"
     ]
    }
   ],
   "source": [
    "# Computing similarity between the LSA components\n",
    "similarity = np.asarray(np.asmatrix(X_train_lsa) * np.asmatrix(X_train_lsa).T)\n",
    "\n",
    "# Only considering the first 10 sentences\n",
    "sim_matrix = pd.DataFrame(similarity, index=X_train).iloc[0:10, 0:10]\n",
    "\n",
    "ax = sns.heatmap(sim_matrix, \n",
    "                 yticklabels=range(10), \n",
    "                 cmap='magma_r')\n",
    "plt.show()\n",
    "\n",
    "# Creating a legend for the plot\n",
    "print('Sentence Key:')\n",
    "for i in range(10):\n",
    "    print(i, sim_matrix.index[i])"
   ]
  },
  {
   "cell_type": "markdown",
   "metadata": {},
   "source": [
    "The first 10 sentences don't have much in common with each other, except sentences 8 and 9 which appear to describe affable relations between people."
   ]
  },
  {
   "cell_type": "markdown",
   "metadata": {},
   "source": [
    "# Drill 1: Test set\n",
    "\n",
    "Transform the test set using the trained LSA model and evaluate."
   ]
  },
  {
   "cell_type": "code",
   "execution_count": 40,
   "metadata": {},
   "outputs": [
    {
     "name": "stdout",
     "output_type": "stream",
     "text": [
      "\n",
      "Component 0\n",
      "\" Oh !\"        0.999289\n",
      "\" Oh !         0.999289\n",
      "\" Me ! oh !    0.999289\n",
      "\" Oh !         0.999289\n",
      "\" Oh no !      0.999289\n",
      "\" Oh !         0.999289\n",
      "\" Oh !         0.999289\n",
      "\" Oh !\"        0.999289\n",
      "\" Oh !         0.999289\n",
      "\" Oh !         0.999289\n",
      "Name: 0, dtype: float64\n",
      "\n",
      "Component 1\n",
      "\" Well , Mrs . Weston ,\" said Emma triumphantly when he left them , \" what do you say now to Mr . Knightley ' s marrying Jane Fairfax ?\"                                                                                                                                                                                                                                                                                                                                                                          0.677289\n",
      "Frank turned instantly to Emma , to claim her former promise ; and boasted himself an engaged man , which his father looked his most perfect approbation of  and it then appeared that Mrs . Weston was wanting _him_ to dance with Mrs . Elton himself , and that their business was to help to persuade him into it , which was done pretty soon . Mr . Weston and Mrs . Elton led the way , Mr . Frank Churchill and Miss Woodhouse followed .                                                                 0.603551\n",
      "In this walk Emma and Mr . Weston found all the others assembled ; and towards this view she immediately perceived Mr . Knightley and Harriet distinct from the rest , quietly leading the way .                                                                                                                                                                                                                                                                                                                  0.566721\n",
      "After tea , Mr . and Mrs . Weston , and Mr . Elton sat down with Mr . Woodhouse to cards .                                                                                                                                                                                                                                                                                                                                                                                                                        0.565105\n",
      "The result of this distress was , that , with a much more voluntary , cheerful consent than his daughter had ever presumed to hope for at the moment , she was able to fix her wedding - day  and Mr . Elton was called on , within a month from the marriage of Mr . and Mrs . Robert Martin , to join the hands of Mr . Knightley and Miss Woodhouse .                                                                                                                                                          0.556927\n",
      "\" Mrs . Weston ' s manners ,\" said Emma , \" were always particularly good .                                                                                                                                                                                                                                                                                                                                                                                                                                       0.549388\n",
      "\" He is a person I never think of from one month ' s end to another ,\" said Mr . Knightley , with a degree of vexation , which made Emma immediately talk of something else , though she could not comprehend why he should be angry .                                                                                                                                                                                                                                                                            0.547330\n",
      "Emma was more than half in hopes of Mr . Elton ' s having dropt a hint .                                                                                                                                                                                                                                                                                                                                                                                                                                          0.540684\n",
      "He had frightened her a little about Mr . Elton ; but when she considered that Mr . Knightley could not have observed him as she had done , neither with the interest , nor ( she must be allowed to tell herself , in spite of Mr . Knightley ' s pretensions ) with the skill of such an observer on such a question as herself , that he had spoken it hastily and in anger , she was able to believe , that he had rather said what he wished resentfully to be true , than what he knew any thing about .    0.534087\n",
      "\" Well ,\" said Emma , \" there is no disputing about taste . At least you admire her except her complexion .\"                                                                                                                                                                                                                                                                                                                                                                                                      0.532502\n",
      "Name: 1, dtype: float64\n",
      "\n",
      "Component 2\n",
      "CHAPTER XIX      0.998642\n",
      "CHAPTER XV       0.998642\n",
      "CHAPTER XV       0.998642\n",
      "CHAPTER XV       0.998642\n",
      "CHAPTER XVIII    0.998642\n",
      "CHAPTER XVIII    0.998642\n",
      "CHAPTER XVIII    0.998642\n",
      "CHAPTER XII      0.997524\n",
      "CHAPTER XII      0.997524\n",
      "CHAPTER XVII     0.997497\n",
      "Name: 2, dtype: float64\n",
      "\n",
      "Component 3\n",
      "\" Ah !\"    0.992902\n",
      "\" Ah !\"    0.992902\n",
      "\" Ah !     0.992902\n",
      "\" Ah !     0.992902\n",
      "\" Ah !     0.992902\n",
      "\" Ah !     0.992902\n",
      "\" Ah !     0.992902\n",
      "\" Ah !     0.992902\n",
      "\" Ah !     0.992902\n",
      "\" Ah !     0.992902\n",
      "Name: 3, dtype: float64\n",
      "\n",
      "Component 4\n",
      "\" No , no ,\" said Emma , \" it will not reckon low .                                                             0.632053\n",
      "Nobody had any information to give ; and , after a few more wonderings , Emma said ,                            0.629507\n",
      "\" Well ,\" said Emma , \" there is no disputing about taste . At least you admire her except her complexion .\"    0.620690\n",
      "Emma had done .                                                                                                 0.598865\n",
      "\" My Emma !\"                                                                                                    0.598865\n",
      "\" Emma !\"                                                                                                       0.598865\n",
      "Emma wondered on what , of all the medley , she would fix .                                                     0.594817\n",
      "\" Emma ,\" said she , \" this paper is worse than I expected .                                                    0.593037\n",
      "\" And I do envy him , Emma .                                                                                    0.592420\n",
      "\" No ,\" said Emma , laughing ; \" but perhaps there might be some made to his coming back again .                0.556238\n",
      "Name: 4, dtype: float64\n"
     ]
    }
   ],
   "source": [
    "# Transforming the test data\n",
    "X_test_lsa = lsa.transform(X_test_tfidf)\n",
    "\n",
    "# Looking at the first 5 topics from the SVD\n",
    "para_by_component = pd.DataFrame(X_test_lsa, index=X_test)\n",
    "\n",
    "for i in range(5):\n",
    "    print(f'\\nComponent {i}')\n",
    "    print(para_by_component.loc[:, i].sort_values(ascending=False)[:10])"
   ]
  },
  {
   "cell_type": "markdown",
   "metadata": {},
   "source": [
    "The test sentences seem to match the same type of sentences we saw from the training data.  That's good news!"
   ]
  },
  {
   "cell_type": "markdown",
   "metadata": {},
   "source": [
    "# Drill 2: Tweaking the tf-idf model\n",
    "\n",
    "Play with the tf-idf model and describe the resulting changes."
   ]
  },
  {
   "cell_type": "code",
   "execution_count": 61,
   "metadata": {},
   "outputs": [
    {
     "name": "stdout",
     "output_type": "stream",
     "text": [
      "Number of features 1575\n"
     ]
    }
   ],
   "source": [
    "# Removing the stop word list\n",
    "# Increasing the max_df to 0.7\n",
    "# Increasing min_df to 3\n",
    "vectorizer2 = TfidfVectorizer(max_df = 0.7,\n",
    "                             min_df = 3, \n",
    "                             stop_words = None, \n",
    "                             lowercase = True, \n",
    "                             use_idf = True, \n",
    "                             norm = u'l2', \n",
    "                             smooth_idf = True)\n",
    "\n",
    "emma_paras_tfidf2 = vectorizer2.fit_transform(emma_paras)\n",
    "print(f'Number of features {emma_paras_tfidf2.get_shape()[1]}')"
   ]
  },
  {
   "cell_type": "markdown",
   "metadata": {},
   "source": [
    "Decreased the number of original features by ~400."
   ]
  },
  {
   "cell_type": "code",
   "execution_count": 62,
   "metadata": {},
   "outputs": [
    {
     "name": "stdout",
     "output_type": "stream",
     "text": [
      "Original sentence:  A very few minutes more , however , completed the present trial .\n",
      "\n",
      "tf-idf vector:  {'ideas': 0.47569934416254367, 'lose': 0.46814294994025785, 'fell': 0.42643765695823255, 'importance': 0.3288719371916576, 'does': 0.4221770789966193, 'respectable': 0.24059697181427692, 'questioned': 0.1686004067729988}\n"
     ]
    }
   ],
   "source": [
    "X_train_tfidf2, X_test_tfidf2 = train_test_split(emma_paras_tfidf2, \n",
    "                                               test_size = 0.4, \n",
    "                                               random_state = 0)\n",
    "\n",
    "# Reshape the output to human readable format\n",
    "X_train_tfidf2_csr = X_train_tfidf2.tocsr()\n",
    "\n",
    "# Number of paragraphs\n",
    "n = X_train_tfidf2_csr.shape[0]\n",
    "\n",
    "# Creating a list of dictionaries to store the paragraphs in\n",
    "tfidf2_bypara = [{} for _ in range(0,n)]\n",
    "\n",
    "# List of features\n",
    "terms = vectorizer.get_feature_names()\n",
    "\n",
    "for i, j in zip(*X_train_tfidf2_csr.nonzero()):\n",
    "    tfidf2_bypara[i][terms[j]] = X_train_tfidf2_csr[i, j]\n",
    "    \n",
    "print('Original sentence: ', X_train[5])\n",
    "print('\\ntf-idf vector: ', tfidf2_bypara[5])"
   ]
  },
  {
   "cell_type": "markdown",
   "metadata": {},
   "source": [
    "Many more words are included as vectors now."
   ]
  },
  {
   "cell_type": "code",
   "execution_count": 72,
   "metadata": {},
   "outputs": [
    {
     "name": "stdout",
     "output_type": "stream",
     "text": [
      "Percent of variance captured by all components:  53.35\n"
     ]
    }
   ],
   "source": [
    "# Instantiating the SVD to create a reduced sample space of (n, 130)\n",
    "svd = TruncatedSVD(n_components = 130)\n",
    "lsa = make_pipeline(svd, Normalizer(copy=False))\n",
    "\n",
    "# Run the SVD on the training data\n",
    "X_train2_lsa = lsa.fit_transform(X_train_tfidf2)\n",
    "\n",
    "explained_var = svd.explained_variance_ratio_\n",
    "total_var = explained_var.sum()\n",
    "\n",
    "print(\"Percent of variance captured by all components: \", round(total_var * 100, 2))\n"
   ]
  },
  {
   "cell_type": "code",
   "execution_count": 73,
   "metadata": {},
   "outputs": [
    {
     "name": "stdout",
     "output_type": "stream",
     "text": [
      "\n",
      "Component 0\n",
      "Mrs . Weston was acting no part , feigning no feelings in all that she said to him in favour of the event . She had been extremely surprized , never more so , than when Emma first opened the affair to her ; but she saw in it only increase of happiness to all , and had no scruple in urging him to the utmost . She had such a regard for Mr . Knightley , as to think he deserved even her dearest Emma ; and it was in every respect so proper , suitable , and unexceptionable a connexion , and in one respect , one point of the highest importance , so peculiarly eligible , so singularly fortunate , that now it seemed as if Emma could not safely have attached herself to any other creature , and that she had herself been the stupidest of beings in not having thought of it , and wished it long ago . How very few of those men in a rank of life to address Emma would have renounced their own home for Hartfield !                                                                                                            0.758706\n",
      "This was the amount of the whole story , of his communication and of Harriet ' s as soon as she had recovered her senses and speech . He dared not stay longer than to see her well ; these several delays left him not another minute to lose ; and Emma engaging to give assurance of her safety to Mrs . Goddard , and notice of there being such a set of people in the neighbourhood to Mr . Knightley , he set off , with all the grateful blessings that she could utter for her friend and herself .                                                                                                                                                                                                                                                                                                                                                                                                                                                                                                                                             0.747522\n",
      "To restrain him as much as might be , by her own manners , she was immediately preparing to speak with exquisite calmness and gravity of the weather and the night ; but scarcely had she begun , scarcely had they passed the sweep - gate and joined the other carriage , than she found her subject cut up  her hand seized  her attention demanded , and Mr . Elton actually making violent love to her : availing himself of the precious opportunity , declaring sentiments which must be already well known , hoping  fearing  adoring  ready to die if she refused him ; but flattering himself that his ardent attachment and unequalled love and unexampled passion could not fail of having some effect , and in short , very much resolved on being seriously accepted as soon as possible .                                                                                                                                                                                                                                                 0.692159\n",
      "The charming Augusta Hawkins , in addition to all the usual advantages of perfect beauty and merit , was in possession of an independent fortune , of so many thousands as would always be called ten ; a point of some dignity , as well as some convenience : the story told well ; he had not thrown himself away  he had gained a woman of 10 , 000 l . or thereabouts ; and he had gained her with such delightful rapidity  the first hour of introduction had been so very soon followed by distinguishing notice ; the history which he had to give Mrs . Cole of the rise and progress of the affair was so glorious  the steps so quick , from the accidental rencontre , to the dinner at Mr . Green ' s , and the party at Mrs . Brown ' s  smiles and blushes rising in importance  with consciousness and agitation richly scattered  the lady had been so easily impressed  so sweetly disposed  had in short , to use a most intelligible phrase , been so very ready to have him , that vanity and prudence were equally contented .    0.686820\n",
      "Mr . Weston meanwhile , perfectly unsuspicious of the indignation he was exciting , happy and cheerful as usual , and with all the right of being principal talker , which a day spent anywhere from home confers , was making himself agreeable among the rest ; and having satisfied the inquiries of his wife as to his dinner , convincing her that none of all her careful directions to the servants had been forgotten , and spread abroad what public news he had heard , was proceeding to a family communication , which , though principally addressed to Mrs . Weston , he had not the smallest doubt of being highly interesting to every body in the room .                                                                                                                                                                                                                                                                                                                                                                                0.675189\n",
      "She felt all the honest pride and complacency which her alliance with the present and future proprietor could fairly warrant , as she viewed the respectable size and style of the building , its suitable , becoming , characteristic situation , low and sheltered  its ample gardens stretching down to meadows washed by a stream , of which the Abbey , with all the old neglect of prospect , had scarcely a sight  and its abundance of timber in rows and avenues , which neither fashion nor extravagance had rooted up . The house was larger than Hartfield , and totally unlike it , covering a good deal of ground , rambling and irregular , with many comfortable , and one or two handsome rooms . It was just what it ought to be , and it looked what it was  and Emma felt an increasing respect for it , as the residence of a family of such true gentility , untainted in blood and understanding . Some faults of temper John Knightley had ; but Isabella had connected herself unexceptionably .                                0.673444\n",
      "This was a pleasure which perhaps the whole day ' s visit might not afford , which certainly did not belong to the present half - hour ; but the very sight of Mrs . Weston , her smile , her touch , her voice was grateful to Emma , and she determined to think as little as possible of Mr . Elton ' s oddities , or of any thing else unpleasant , and enjoy all that was enjoyable to the utmost .                                                                                                                                                                                                                                                                                                                                                                                                                                                                                                                                                                                                                                                 0.670803\n",
      "Emma could not forgive her ; but as neither provocation nor resentment were discerned by Mr . Knightley , who had been of the party , and had seen only proper attention and pleasing behaviour on each side , he was expressing the next morning , being at Hartfield again on business with Mr . Woodhouse , his approbation of the whole ; not so openly as he might have done had her father been out of the room , but speaking plain enough to be very intelligible to Emma .                                                                                                                                                                                                                                                                                                                                                                                                                                                                                                                                                                      0.665374\n",
      "\" Why , to own the truth ,\" cried Miss Bates , who had been trying in vain to be heard the last two minutes , \" if I must speak on this subject , there is no denying that Mr . Frank Churchill might have  I do not mean to say that he did not dream it  I am sure I have sometimes the oddest dreams in the world  but if I am questioned about it , I must acknowledge that there was such an idea last spring ; for Mrs . Perry herself mentioned it to my mother , and the Coles knew of it as well as ourselves  but it was quite a secret , known to nobody else , and only thought of about three days .                                                                                                                                                                                                                                                                                                                                                                                                                                        0.664608\n",
      "Emma saw Mrs . Weston ' s surprize , and felt that it must be great , at an address which , in words and manner , was assuming to himself the right of first interest in her ; and as for herself , she was too much provoked and offended to have the power of directly saying any thing to the purpose .                                                                                                                                                                                                                                                                                                                                                                                                                                                                                                                                                                                                                                                                                                                                               0.661059\n",
      "Name: 0, dtype: float64\n",
      "\n",
      "Component 1\n",
      "\" Oh !     0.999056\n",
      "\" Oh !\"    0.999056\n",
      "\" Oh !     0.999056\n",
      "\" Oh !     0.999056\n",
      "\" Oh !     0.999056\n",
      "\" Oh !\"    0.999056\n",
      "Oh !       0.999056\n",
      "\" Oh !     0.999056\n",
      "\" Oh !     0.999056\n",
      "\" Oh !\"    0.999056\n",
      "Name: 1, dtype: float64\n",
      "\n",
      "Component 2\n",
      "\" Indeed you injure me if you suppose me unconvinced .                                                                                                                                                                        0.510454\n",
      "\" You will not ask me what is the point of envy . You are determined , I see , to have no curiosity . You are wise  but _I_ cannot be wise .                                                                                  0.506550\n",
      "\" He appears rough to you ,\" said Emma , \" because you are so very gentle yourself ; but if you could compare him with other papas , you would not think him rough .                                                          0.489195\n",
      "\" You surprize me !                                                                                                                                                                                                           0.479123\n",
      "\" You have some news to hear , now you are come back , that will rather surprize you .\"                                                                                                                                       0.478501\n",
      "\" Thank you , dear Miss Woodhouse , you are all kindness . It is impossible to say  Yes , indeed , I quite understand  dearest Jane ' s prospects  that is , I do not mean . But she is charmingly recovered . How is Mr .    0.468608\n",
      "\" You would not have encouraged me , then , if you had understood me ?                                                                                                                                                        0.459167\n",
      "\" I am very glad you did , and that you communicated it to me .                                                                                                                                                               0.456025\n",
      "\" You will soon be cooler , if you sit still ,\" said Emma .                                                                                                                                                                   0.434984\n",
      "\" Come ,\" said she , \" I will tell you something , in return for what you have told me .                                                                                                                                      0.433919\n",
      "Name: 2, dtype: float64\n",
      "\n",
      "Component 3\n",
      "CHAPTER I      0.998573\n",
      "CHAPTER V      0.998573\n",
      "CHAPTER X      0.998573\n",
      "CHAPTER I      0.998573\n",
      "CHAPTER X      0.998573\n",
      "CHAPTER V      0.998573\n",
      "CHAPTER V      0.998573\n",
      "CHAPTER X      0.998573\n",
      "CHAPTER I      0.998573\n",
      "CHAPTER XII    0.997410\n",
      "Name: 3, dtype: float64\n",
      "\n",
      "Component 4\n",
      "\" Ah !     0.981653\n",
      "\" Ah !     0.981653\n",
      "\" Ah !     0.981653\n",
      "\" Ah !\"    0.981653\n",
      "\" Ah !     0.981653\n",
      "\" Ah !     0.981653\n",
      "\" Ah !     0.981653\n",
      "\" Ah !     0.981653\n",
      "\" Ah !     0.981653\n",
      "\" Ah !     0.981653\n",
      "Name: 4, dtype: float64\n"
     ]
    }
   ],
   "source": [
    "# Looking at the first 5 topics from the SVD\n",
    "para_by_component = pd.DataFrame(X_train2_lsa, index=X_train)\n",
    "\n",
    "for i in range(5):\n",
    "    print(f'\\nComponent {i}')\n",
    "    print(para_by_component.loc[:, i].sort_values(ascending=False)[:10])"
   ]
  },
  {
   "cell_type": "code",
   "execution_count": 74,
   "metadata": {},
   "outputs": [
    {
     "data": {
      "image/png": "[encoded data removed]",
      "text/plain": [
       "<Figure size 432x288 with 2 Axes>"
      ]
     },
     "metadata": {
      "needs_background": "light"
     },
     "output_type": "display_data"
    },
    {
     "name": "stdout",
     "output_type": "stream",
     "text": [
      "Sentence Key:\n",
      "0 That is _court_ .\n",
      "1 \" Yes , sir , I did indeed ; and I am very much obliged by your kind solicitude about me .\"\n",
      "2 \" How much his business engrosses him already is very plain from the circumstance of his forgetting to inquire for the book you recommended .\n",
      "3 To restrain him as much as might be , by her own manners , she was immediately preparing to speak with exquisite calmness and gravity of the weather and the night ; but scarcely had she begun , scarcely had they passed the sweep - gate and joined the other carriage , than she found her subject cut up  her hand seized  her attention demanded , and Mr . Elton actually making violent love to her : availing himself of the precious opportunity , declaring sentiments which must be already well known , hoping  fearing  adoring  ready to die if she refused him ; but flattering himself that his ardent attachment and unequalled love and unexampled passion could not fail of having some effect , and in short , very much resolved on being seriously accepted as soon as possible .\n",
      "4 Emma smiled and answered \" My visit was of use to the nervous part of her complaint , I hope ; but not even I can charm away a sore throat ; it is a most severe cold indeed .\n",
      "5 A very few minutes more , however , completed the present trial .\n",
      "6 \" I am delighted to hear you speak so stoutly on the subject ,\" replied Emma , smiling ; \" but you do not mean to deny that there was a time  and not very distant either  when you gave me reason to understand that you did care about him ?\"\n",
      "7 \" Very well ; and if he had intended to give her one , he would have told her so .\"\n",
      "8 Some laughed , and answered good - humouredly .\n",
      "9 \" There appeared such a perfectly good understanding among them all \" he began rather quickly , but checking himself , added , \" however , it is impossible for me to say on what terms they really were  how it might all be behind the scenes .\n"
     ]
    }
   ],
   "source": [
    "# Computing similarity between the LSA components\n",
    "similarity = np.asarray(np.asmatrix(X_train2_lsa) * np.asmatrix(X_train2_lsa).T)\n",
    "\n",
    "# Only considering the first 10 sentences\n",
    "sim_matrix = pd.DataFrame(similarity, index=X_train).iloc[0:10, 0:10]\n",
    "\n",
    "ax = sns.heatmap(sim_matrix, \n",
    "                 yticklabels=range(10), \n",
    "                 cmap='magma_r')\n",
    "plt.show()\n",
    "\n",
    "# Creating a legend for the plot\n",
    "print('Sentence Key:')\n",
    "for i in range(10):\n",
    "    print(i, sim_matrix.index[i])"
   ]
  },
  {
   "cell_type": "code",
   "execution_count": null,
   "metadata": {},
   "outputs": [],
   "source": []
  }
 ],
 "metadata": {
  "kernelspec": {
   "display_name": "Python 3",
   "language": "python",
   "name": "python3"
  },
  "language_info": {
   "codemirror_mode": {
    "name": "ipython",
    "version": 3
   },
   "file_extension": ".py",
   "mimetype": "text/x-python",
   "name": "python",
   "nbconvert_exporter": "python",
   "pygments_lexer": "ipython3",
   "version": "3.7.1"
  },
  "toc": {
   "base_numbering": 1,
   "nav_menu": {},
   "number_sections": true,
   "sideBar": true,
   "skip_h1_title": false,
   "title_cell": "Table of Contents",
   "title_sidebar": "Contents",
   "toc_cell": false,
   "toc_position": {},
   "toc_section_display": true,
   "toc_window_display": false
  }
 },
 "nbformat": 4,
 "nbformat_minor": 2
}
