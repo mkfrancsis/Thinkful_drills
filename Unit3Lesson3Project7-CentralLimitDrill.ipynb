{
 "cells": [
  {
   "cell_type": "code",
   "execution_count": 13,
   "metadata": {},
   "outputs": [],
   "source": [
    "import numpy as np\n",
    "import pandas as pd\n",
    "import scipy\n",
    "import matplotlib.pyplot as plt\n",
    "%matplotlib inline"
   ]
  },
  {
   "cell_type": "code",
   "execution_count": 9,
   "metadata": {},
   "outputs": [
    {
     "name": "stdout",
     "output_type": "stream",
     "text": [
      "Sample 1 (100 samples) mean is 1.97\n",
      "Sample 1 (100 samples) std is 1.25\n",
      "Sample 2 (100 samples) mean is 5.22\n",
      "Sample 2 (100 samples) std is 1.67\n"
     ]
    }
   ],
   "source": [
    "# Create two populations with similar binomial distributions\n",
    "pop1 = np.random.binomial(10, 0.2, 10000)\n",
    "pop2 = np.random.binomial(10, 0.5, 10000)\n",
    "\n",
    "# Sampling each population, with 100 samples\n",
    "sample1 = np.random.choice(pop1, 100, replace=True)\n",
    "sample2 = np.random.choice(pop2, 100, replace=True)\n",
    "\n",
    "sample1_mean = sample1.mean()\n",
    "sample1_std = sample1.std()\n",
    "sample2_mean = sample2.mean()\n",
    "sample2_std = sample2.std()\n",
    "\n",
    "print('Sample 1 (100 samples) mean is {}'.format(sample1_mean))\n",
    "print('Sample 1 (100 samples) std is {}'.format(round(sample1_std, 2)))\n",
    "print('Sample 2 (100 samples) mean is {}'.format(sample2_mean))\n",
    "print('Sample 2 (100 samples) std is {}'.format(round(sample2_std, 2)))"
   ]
  },
  {
   "cell_type": "markdown",
   "metadata": {},
   "source": [
    "> For each of the following tasks, first write what you expect will happen, then code the changes and observe what does happen. \n",
    "\n",
    "> 1. Increase the size of your samples from 100 to 1000, then calculate the means and standard deviations for your new samples and create histograms for each.\n",
    "\n",
    "**With a larger sample size, the sample means will vary less and be closer to the population mean after each run (if one were to run the code multiple times).  The standard deviation of each should decrease.**"
   ]
  },
  {
   "cell_type": "code",
   "execution_count": 11,
   "metadata": {},
   "outputs": [
    {
     "name": "stdout",
     "output_type": "stream",
     "text": [
      "Sample 1 (1000 samples) mean is 2.001\n",
      "Sample 1 (1000 samples) std is 1.24\n",
      "Sample 2 (1000 samples) mean is 4.987\n",
      "Sample 2 (1000 samples) std is 1.59\n"
     ]
    }
   ],
   "source": [
    "# Sampling each population, with 1000 samples\n",
    "sample1_1k = np.random.choice(pop1, 1000, replace=True)\n",
    "sample2_1k = np.random.choice(pop2, 1000, replace=True)\n",
    "\n",
    "sample1_1k_mean = sample1_1k.mean()\n",
    "sample1_1k_std = sample1_1k.std()\n",
    "sample2_1k_mean = sample2_1k.mean()\n",
    "sample2_1k_std = sample2_1k.std()\n",
    "\n",
    "print('Sample 1 (1000 samples) mean is {}'.format(sample1_1k_mean))\n",
    "print('Sample 1 (1000 samples) std is {}'.format(round(sample1_1k_std, 2)))\n",
    "print('Sample 2 (1000 samples) mean is {}'.format(sample2_1k_mean))\n",
    "print('Sample 2 (1000 samples) std is {}'.format(round(sample2_1k_std, 2)))"
   ]
  },
  {
   "cell_type": "markdown",
   "metadata": {},
   "source": [
    "As expected the sample means are closer to the population mean than with 100 samples. The standard deviations have also decreased slightly, but not as much as expected.  It seems like 100 samples was probably a large enough sample size to converge on the sample mean.\n",
    "\n",
    "\n",
    "\n",
    "> Decrease the sample size to 20 and discuss the changes.\n",
    "\n",
    "**I expect that the sample means will not have converged close to the population means yet and the standard deviations my be larger than the previous samples**"
   ]
  },
  {
   "cell_type": "code",
   "execution_count": 12,
   "metadata": {},
   "outputs": [
    {
     "name": "stdout",
     "output_type": "stream",
     "text": [
      "Sample 1 (20 samples) mean is 2.1\n",
      "Sample 1 (20 samples) std is 1.09\n",
      "Sample 2 (20 samples) mean is 4.75\n",
      "Sample 2 (20 samples) std is 1.37\n"
     ]
    }
   ],
   "source": [
    "# Sampling each population, with 20 samples\n",
    "sample1_20 = np.random.choice(pop1, 20, replace=True)\n",
    "sample2_20 = np.random.choice(pop2, 20, replace=True)\n",
    "\n",
    "sample1_20_mean = sample1_20.mean()\n",
    "sample1_20_std = sample1_20.std()\n",
    "sample2_20_mean = sample2_20.mean()\n",
    "sample2_20_std = sample2_20.std()\n",
    "\n",
    "print('Sample 1 (20 samples) mean is {}'.format(sample1_20_mean))\n",
    "print('Sample 1 (20 samples) std is {}'.format(round(sample1_20_std, 2)))\n",
    "print('Sample 2 (20 samples) mean is {}'.format(sample2_20_mean))\n",
    "print('Sample 2 (20 samples) std is {}'.format(round(sample2_20_std, 2)))"
   ]
  },
  {
   "cell_type": "markdown",
   "metadata": {},
   "source": [
    "Interestingly, the standard deviations are smaller than previous samples, but that is likely just the luck of this random sample draw. The means are not as close to the population means as previously seen, however, they are closer than I anticipated."
   ]
  },
  {
   "cell_type": "markdown",
   "metadata": {},
   "source": [
    ">2. Change the probability value (p in the NumPy documentation) for pop1 to 0.3, then take new samples and compute the t-statistic and p-value."
   ]
  },
  {
   "cell_type": "code",
   "execution_count": 14,
   "metadata": {},
   "outputs": [
    {
     "name": "stdout",
     "output_type": "stream",
     "text": [
      "Ttest_indResult(statistic=9.42377677756789, pvalue=1.2439282968548267e-17)\n"
     ]
    }
   ],
   "source": [
    "pop1_p3 = np.random.binomial(10, .3, 1000)\n",
    "sample_p3_100 = np.random.choice(pop1_p3, 100, replace=True)\n",
    "\n",
    "from scipy.stats import ttest_ind\n",
    "print(ttest_ind(sample2, sample_p3_100, equal_var=False))"
   ]
  },
  {
   "cell_type": "markdown",
   "metadata": {},
   "source": [
    "> Then change the probability value p for group 1 to 0.4, and do it again. What changes, and why?"
   ]
  },
  {
   "cell_type": "code",
   "execution_count": 16,
   "metadata": {},
   "outputs": [
    {
     "name": "stdout",
     "output_type": "stream",
     "text": [
      "Ttest_indResult(statistic=5.454837424065928, pvalue=1.4524653697494402e-07)\n"
     ]
    }
   ],
   "source": [
    "pop1_p4 = np.random.binomial(10, .4, 1000)\n",
    "sample_p4_100 = np.random.choice(pop1_p4, 100, replace=True)\n",
    "\n",
    "print(ttest_ind(sample2, sample_p4_100, equal_var=False))"
   ]
  },
  {
   "cell_type": "markdown",
   "metadata": {},
   "source": [
    "The t-statistic decreases which says that the population means are closer together.  The p-value increase slightly which means that its a bit less likely that this difference meaningfully represents the populations.\n",
    "\n",
    "\n",
    ">3. Change the distribution of your populations from binomial to a distribution of your choice. Do the sample mean values still accurately represent the population values?"
   ]
  },
  {
   "cell_type": "code",
   "execution_count": 56,
   "metadata": {},
   "outputs": [
    {
     "name": "stdout",
     "output_type": "stream",
     "text": [
      "Pop1 lognormal mean is 2.0\n",
      "Pop2 lognormal mean is 5.0\n",
      "Sample 1 lognormal mean is 1.3\n",
      "Sample 1 lognormal std is 1.39\n",
      "Sample 2 lognormal mean is 4.91\n",
      "Sample 2 lognormal std is 6.42\n"
     ]
    }
   ],
   "source": [
    "# Creating 2 log normal distributions\n",
    "pop1_lognormal = np.random.lognormal(0, 1, 10000) # mean=0, std=1 - of underlying normal dist\n",
    "pop2_lognormal = np.random.lognormal(1, 1, 10000) # mean=1, std=1 - of underlying normal dist\n",
    "\n",
    "# Sampling each population, with 100 samples\n",
    "sample1_lognormal = np.random.choice(pop1_lognormal, 100, replace=True)\n",
    "sample2_lognormal = np.random.choice(pop2_lognormal, 100, replace=True)\n",
    "\n",
    "sample1_lognormal_mean = sample1_lognormal.mean()\n",
    "sample1_lognormal_std = sample1_lognormal.std()\n",
    "sample2_lognormal_mean = sample2_lognormal.mean()\n",
    "sample2_lognormal_std = sample2_lognormal.std()\n",
    "\n",
    "print('Pop1 lognormal mean is {}'.format(round(pop1_lognormal.mean())))\n",
    "print('Pop2 lognormal mean is {}'.format(round(pop2_lognormal.mean())))\n",
    "\n",
    "print('Sample 1 lognormal mean is {}'.format(round(sample1_lognormal_mean, 2)))\n",
    "print('Sample 1 lognormal std is {}'.format(round(sample1_lognormal_std, 2)))\n",
    "print('Sample 2 lognormal mean is {}'.format(round(sample2_lognormal_mean, 2)))\n",
    "print('Sample 2 lognormal std is {}'.format(round(sample2_lognormal_std, 2)))"
   ]
  },
  {
   "cell_type": "code",
   "execution_count": 57,
   "metadata": {},
   "outputs": [
    {
     "name": "stdout",
     "output_type": "stream",
     "text": [
      "Ttest_indResult(statistic=5.467123440719485, pvalue=2.963581089146306e-07)\n"
     ]
    }
   ],
   "source": [
    "print(ttest_ind(sample2_lognormal, sample1_lognormal, equal_var=False))"
   ]
  },
  {
   "cell_type": "markdown",
   "metadata": {},
   "source": [
    "The sample means are moderately close to the population means, however, it seems like a larger sample size is needed with a log normal distribution beacuse it is significantly different than a normal distribution. "
   ]
  },
  {
   "cell_type": "code",
   "execution_count": null,
   "metadata": {},
   "outputs": [],
   "source": []
  }
 ],
 "metadata": {
  "kernelspec": {
   "display_name": "Python 3",
   "language": "python",
   "name": "python3"
  },
  "language_info": {
   "codemirror_mode": {
    "name": "ipython",
    "version": 3
   },
   "file_extension": ".py",
   "mimetype": "text/x-python",
   "name": "python",
   "nbconvert_exporter": "python",
   "pygments_lexer": "ipython3",
   "version": "3.7.0"
  }
 },
 "nbformat": 4,
 "nbformat_minor": 2
}
