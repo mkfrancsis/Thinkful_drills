{
 "cells": [
  {
   "cell_type": "markdown",
   "metadata": {},
   "source": [
    "# Iterating on Previous Naive Bayes Spam Classifier\n",
    "\n",
    "Building a Naive Bayes calssifier for detecting spam SMS messages using this [UC Irvine dataset](https://archive.ics.uci.edu/ml/datasets/SMS+Spam+Collection).\n",
    "\n",
    "This exercise is an addition to the previous spam classifier that was built. New model iterations are at the bottom of the notebook."
   ]
  },
  {
   "cell_type": "code",
   "execution_count": 1,
   "metadata": {},
   "outputs": [],
   "source": [
    "import numpy as np\n",
    "import pandas as pd\n",
    "import matplotlib.pyplot as plt\n",
    "import seaborn as sns\n",
    "import scipy\n",
    "import sklearn\n",
    "%matplotlib inline"
   ]
  },
  {
   "cell_type": "code",
   "execution_count": 2,
   "metadata": {},
   "outputs": [],
   "source": [
    "# Grab data\n",
    "data_path = (\"https://raw.githubusercontent.com/Thinkful-Ed/data-201-resources/\"\n",
    "             \"master/sms_spam_collection/SMSSpamCollection\"\n",
    "            )\n",
    "sms_raw = pd.read_csv(data_path, delimiter='\\t', header=None)\n",
    "sms_raw.columns = ['spam', 'message']"
   ]
  },
  {
   "cell_type": "code",
   "execution_count": 3,
   "metadata": {},
   "outputs": [
    {
     "data": {
      "text/html": [
       "<div>\n",
       "<style scoped>\n",
       "    .dataframe tbody tr th:only-of-type {\n",
       "        vertical-align: middle;\n",
       "    }\n",
       "\n",
       "    .dataframe tbody tr th {\n",
       "        vertical-align: top;\n",
       "    }\n",
       "\n",
       "    .dataframe thead th {\n",
       "        text-align: right;\n",
       "    }\n",
       "</style>\n",
       "<table border=\"1\" class=\"dataframe\">\n",
       "  <thead>\n",
       "    <tr style=\"text-align: right;\">\n",
       "      <th></th>\n",
       "      <th>spam</th>\n",
       "      <th>message</th>\n",
       "    </tr>\n",
       "  </thead>\n",
       "  <tbody>\n",
       "    <tr>\n",
       "      <th>0</th>\n",
       "      <td>ham</td>\n",
       "      <td>Go until jurong point, crazy.. Available only ...</td>\n",
       "    </tr>\n",
       "    <tr>\n",
       "      <th>1</th>\n",
       "      <td>ham</td>\n",
       "      <td>Ok lar... Joking wif u oni...</td>\n",
       "    </tr>\n",
       "    <tr>\n",
       "      <th>2</th>\n",
       "      <td>spam</td>\n",
       "      <td>Free entry in 2 a wkly comp to win FA Cup fina...</td>\n",
       "    </tr>\n",
       "    <tr>\n",
       "      <th>3</th>\n",
       "      <td>ham</td>\n",
       "      <td>U dun say so early hor... U c already then say...</td>\n",
       "    </tr>\n",
       "    <tr>\n",
       "      <th>4</th>\n",
       "      <td>ham</td>\n",
       "      <td>Nah I don't think he goes to usf, he lives aro...</td>\n",
       "    </tr>\n",
       "  </tbody>\n",
       "</table>\n",
       "</div>"
      ],
      "text/plain": [
       "   spam                                            message\n",
       "0   ham  Go until jurong point, crazy.. Available only ...\n",
       "1   ham                      Ok lar... Joking wif u oni...\n",
       "2  spam  Free entry in 2 a wkly comp to win FA Cup fina...\n",
       "3   ham  U dun say so early hor... U c already then say...\n",
       "4   ham  Nah I don't think he goes to usf, he lives aro..."
      ]
     },
     "execution_count": 3,
     "metadata": {},
     "output_type": "execute_result"
    }
   ],
   "source": [
    "sms_raw.head()"
   ]
  },
  {
   "cell_type": "code",
   "execution_count": 4,
   "metadata": {},
   "outputs": [],
   "source": [
    "# Basic feature engineering using potential spam keywords\n",
    "\n",
    "keywords = ['click', 'offer', 'winner', 'buy', 'free', 'cash', 'urgent']\n",
    "\n",
    "for key in keywords:\n",
    "    # Adding spaces around each word to eliminate pattern matching insine\n",
    "    # other words.\n",
    "    sms_raw[str(key)] = sms_raw['message'].str.contains(\n",
    "        ' ' + str(key) + ' ',\n",
    "        case=False\n",
    "    )"
   ]
  },
  {
   "cell_type": "code",
   "execution_count": 5,
   "metadata": {},
   "outputs": [],
   "source": [
    "# Feature for detecting all caps messages.\n",
    "\n",
    "sms_raw['allcaps'] = sms_raw['message'].str.isupper()"
   ]
  },
  {
   "cell_type": "code",
   "execution_count": 6,
   "metadata": {},
   "outputs": [],
   "source": [
    "# Turning spam column into a boolean\n",
    "\n",
    "sms_raw['spam'] = (sms_raw['spam'] == 'spam')"
   ]
  },
  {
   "cell_type": "code",
   "execution_count": 7,
   "metadata": {},
   "outputs": [
    {
     "data": {
      "text/plain": [
       "<matplotlib.axes._subplots.AxesSubplot at 0x1a20fcde80>"
      ]
     },
     "execution_count": 7,
     "metadata": {},
     "output_type": "execute_result"
    },
    {
     "data": {
      "image/png": "[encoded data removed]",
      "text/plain": [
       "<Figure size 432x288 with 2 Axes>"
      ]
     },
     "metadata": {
      "needs_background": "light"
     },
     "output_type": "display_data"
    }
   ],
   "source": [
    "sns.heatmap(sms_raw.corr(), center=0, cmap='bwr', vmax=1, vmin=-1)"
   ]
  },
  {
   "cell_type": "markdown",
   "metadata": {},
   "source": [
    "Using heatmap to check the independence of the variables. Most words look to be independent from each other, except for free:offer and cash:winner.  Going to keep everything in the model right now."
   ]
  },
  {
   "cell_type": "code",
   "execution_count": 8,
   "metadata": {},
   "outputs": [],
   "source": [
    "# Building out the training data\n",
    "data = sms_raw[keywords + ['allcaps']]\n",
    "target = sms_raw['spam']"
   ]
  },
  {
   "cell_type": "code",
   "execution_count": 9,
   "metadata": {},
   "outputs": [
    {
     "name": "stdout",
     "output_type": "stream",
     "text": [
      "Number of mislabeled points out of 5572 points: 604\n"
     ]
    }
   ],
   "source": [
    "# The data is binary, so importing the Bernoulli version\n",
    "from sklearn.naive_bayes import BernoulliNB\n",
    "\n",
    "# Instantiate the model\n",
    "bnb = BernoulliNB()\n",
    "\n",
    "# Fit the model to the data\n",
    "bnb.fit(data, target)\n",
    "\n",
    "# Classifying and storing the result\n",
    "y_pred = bnb.predict(data)\n",
    "\n",
    "print(\"Number of mislabeled points out of {} points: {}\".format(\n",
    "    data.shape[0],\n",
    "    (target != y_pred).sum()\n",
    "))"
   ]
  },
  {
   "cell_type": "markdown",
   "metadata": {},
   "source": [
    "## Messing around with additional feature engineering to improve the model performance."
   ]
  },
  {
   "cell_type": "code",
   "execution_count": 10,
   "metadata": {},
   "outputs": [],
   "source": [
    "spam_messages = sms_raw.loc[sms_raw['spam'] == True]"
   ]
  },
  {
   "cell_type": "code",
   "execution_count": 11,
   "metadata": {},
   "outputs": [],
   "source": [
    "# Setting pandas display option to show full length fields\n",
    "pd.set_option('display.max_colwidth', -1)"
   ]
  },
  {
   "cell_type": "code",
   "execution_count": 12,
   "metadata": {},
   "outputs": [
    {
     "data": {
      "text/plain": [
       "4060    Moby Pub Quiz.Win a £100 High Street prize if u know who the new Duchess of Cornwall will be? Txt her first name to 82277.unsub STOP £1.50 008704050406 SP                     \n",
       "3942    Free Msg: get Gnarls Barkleys \"Crazy\" ringtone TOTALLY FREE just reply GO to this message right now!                                                                           \n",
       "4759    URGENT! Your Mobile number has been awarded with a £2000 prize GUARANTEED. Call 09061790121 from land line. Claim 3030. Valid 12hrs only 150ppm                                \n",
       "1691    Sunshine Quiz Wkly Q! Win a top Sony DVD player if u know which country the Algarve is in? Txt ansr to 82277. £1.50 SP:Tyrone                                                  \n",
       "2367    Tone Club: Your subs has now expired 2 re-sub reply MONOC 4 monos or POLYC 4 polys 1 weekly @ 150p per week Txt STOP 2 stop This msg free Stream 0871212025016                 \n",
       "1741    UR GOING 2 BAHAMAS! CallFREEFONE 08081560665 and speak to a live operator to claim either Bahamas cruise of£2000 CASH 18+only. To opt out txt X to 07786200117                 \n",
       "2145    FreeMsg: Hey - I'm Buffy. 25 and love to satisfy men. Home alone feeling randy. Reply 2 C my PIX! QlynnBV Help08700621170150p a msg Send stop to stop txts                     \n",
       "5547    Had your contract mobile 11 Mnths? Latest Motorola, Nokia etc. all FREE! Double Mins & Text on Orange tariffs. TEXT YES for callback, no to remove from records.               \n",
       "763     Urgent Ur £500 guaranteed award is still unclaimed! Call 09066368327 NOW closingdate04/09/02 claimcode M39M51 £1.50pmmorefrommobile2Bremoved-MobyPOBox734LS27YF                \n",
       "1594    PRIVATE! Your 2003 Account Statement for shows 800 un-redeemed S. I. M. points. Call 08719899230 Identifier Code: 41685 Expires 07/11/04                                       \n",
       "1022    Guess what! Somebody you know secretly fancies you! Wanna find out who it is? Give us a call on 09065394514 From Landline DATEBox1282EssexCM61XN 150p/min 18                   \n",
       "4991    Phony £350 award - Todays Voda numbers ending XXXX are selected to receive a £350 award. If you have a match please call 08712300220 quoting claim code 3100 standard rates app\n",
       "2261    SplashMobile: Choose from 1000s of gr8 tones each wk! This is a subscrition service with weekly tones costing 300p. U have one credit - kick back and ENJOY                    \n",
       "358     Ur cash-balance is currently 500 pounds - to maximize ur cash-in now send CASH to 86688 only 150p/msg. CC: 08708800282 HG/Suite342/2Lands Row/W1J6HL                           \n",
       "401     FREE RINGTONE text FIRST to 87131 for a poly or text GET to 87131 for a true tone! Help? 0845 2814032 16 after 1st free, tones are 3x£150pw to e£nd txt stop                   \n",
       "3409    Do you want a New Nokia 3510i colour phone DeliveredTomorrow? With 300 free minutes to any mobile + 100 free texts + Free Camcorder reply or call 08000930705                  \n",
       "135     Want 2 get laid tonight? Want real Dogging locations sent direct 2 ur mob? Join the UK's largest Dogging Network bt Txting GRAVEL to 69888! Nt. ec2a. 31p.msg@150p             \n",
       "1194    Sex up ur mobile with a FREE sexy pic of Jordan! Just text BABE to 88600. Then every wk get a sexy celeb! PocketBabe.co.uk 4 more pics. 16 £3/wk 087016248                     \n",
       "2791    U’ve Bin Awarded £50 to Play 4 Instant Cash. Call 08715203028 To Claim. EVERY 9th Player Wins Min £50-£500. OptOut 08718727870                                                 \n",
       "3698    You are a winner you have been specially selected to receive £1000 cash or a £2000 award. Speak to a live operator to claim call 087147123779am-7pm. Cost 10p                  \n",
       "Name: message, dtype: object"
      ]
     },
     "execution_count": 12,
     "metadata": {},
     "output_type": "execute_result"
    }
   ],
   "source": [
    "spam_messages['message'].sample(20)"
   ]
  },
  {
   "cell_type": "code",
   "execution_count": 13,
   "metadata": {},
   "outputs": [],
   "source": [
    "# Adding additional keywords\n",
    "\n",
    "sms_raw['call'] = sms_raw['message'].str.contains(\n",
    "    ' ' + 'call' + ' ', \n",
    "    case=False\n",
    ")\n",
    "\n",
    "sms_raw['sex'] = sms_raw['message'].str.contains(\n",
    "    ' ' + 'sex' + ' ', \n",
    "    case=False\n",
    ")\n",
    "\n",
    "sms_raw['.co'] = sms_raw['message'].str.contains(\n",
    "    ' ' + '.co' + ' ', \n",
    "    case=False\n",
    ")\n",
    "\n",
    "\n",
    "sms_raw['£'] = sms_raw['message'].str.contains(\n",
    "    ' ' + '£' + ' ', \n",
    "    case=False\n",
    ")\n",
    "\n",
    "sms_raw['congrats!'] = sms_raw['message'].str.contains(\n",
    "    ' ' + 'congrats!' + ' ', \n",
    "    case=False\n",
    ")\n",
    "\n",
    "sms_raw['urgent!'] = sms_raw['message'].str.contains(\n",
    "    ' ' + 'urgent!' + ' ', \n",
    "    case=False\n",
    ")"
   ]
  },
  {
   "cell_type": "code",
   "execution_count": 14,
   "metadata": {},
   "outputs": [
    {
     "name": "stdout",
     "output_type": "stream",
     "text": [
      "Number of mislabeled points out of a total 5572 points : 558\n",
      "Model 2 performed better by 46 samples\n"
     ]
    }
   ],
   "source": [
    "# Testing model with the new keywords\n",
    "data_2 = sms_raw.iloc[:, 2:]\n",
    "target_2 = sms_raw['spam']\n",
    "\n",
    "bnb_2 = BernoulliNB()\n",
    "\n",
    "bnb_2.fit(data_2, target_2)\n",
    "\n",
    "y_pred_2 = bnb_2.predict(data_2)\n",
    "\n",
    "print(\"Number of mislabeled points out of a total {} points : {}\".format(\n",
    "    data_2.shape[0],\n",
    "    (target_2 != y_pred_2).sum()\n",
    "))\n",
    "\n",
    "model1_misclass = (target != y_pred).sum()\n",
    "model2_misclass = (target_2 != y_pred_2).sum()\n",
    "\n",
    "print(\"Model 2 performed better by {} samples\".format(\n",
    "    (model1_misclass-model2_misclass)\n",
    "))"
   ]
  },
  {
   "cell_type": "markdown",
   "metadata": {},
   "source": [
    "# Start of new model iterations\n",
    "\n",
    "Will begin by visualizing the confusion matrix for the previous two Bernoulli model runs."
   ]
  },
  {
   "cell_type": "code",
   "execution_count": 31,
   "metadata": {},
   "outputs": [],
   "source": [
    "def precision(p,t):\n",
    "    true_positive = ((p == True) & (t == True)).sum()\n",
    "    true_negative = ((p == False) & (t == False)).sum()\n",
    "    false_positive = ((p == True) & (t == False)).sum()\n",
    "    false_negative = ((p == False) & (t == True)).sum()\n",
    "    \n",
    "    precision = true_positive / (true_positive + false_positive)\n",
    "    recall = true_positive / (true_positive + false_negative)\n",
    "    \n",
    "    return precision, recall"
   ]
  },
  {
   "cell_type": "code",
   "execution_count": 32,
   "metadata": {},
   "outputs": [
    {
     "name": "stdout",
     "output_type": "stream",
     "text": [
      "Initial model:\n",
      " [[4770   55]\n",
      " [ 549  198]] \n",
      "\n",
      "Model 1 precision: 0.782608695652174 \n",
      "Model 1 recall: 0.26506024096385544\n",
      "\n",
      "\n",
      "Second model with additional spam keywords:\n",
      " [[4595  230]\n",
      " [ 328  419]] \n",
      "\n",
      "Model 2 precision: 0.6456086286594761 \n",
      "Model 2 recall: 0.5609103078982597\n",
      "\n",
      "\n"
     ]
    }
   ],
   "source": [
    "from sklearn.metrics import confusion_matrix\n",
    "\n",
    "print('Initial model:\\n', confusion_matrix(target, y_pred), '\\n')\n",
    "print('Model 1 precision: {} \\nModel 1 recall: {}\\n\\n'.format(\n",
    "    precision(y_pred, target)[0], precision(y_pred, target)[1]))\n",
    "\n",
    "print('Second model with additional spam keywords:\\n', confusion_matrix(target_2, y_pred_2), '\\n')\n",
    "print('Model 2 precision: {} \\nModel 2 recall: {}\\n\\n'.format(\n",
    "    precision(y_pred_2, target_2)[0], precision(y_pred_2, target_2)[1]))"
   ]
  },
  {
   "cell_type": "markdown",
   "metadata": {},
   "source": [
    "The second model correctly identified far more spam messages than Model 1, however, it also misidentified more real messages as spam."
   ]
  },
  {
   "cell_type": "code",
   "execution_count": 33,
   "metadata": {},
   "outputs": [
    {
     "name": "stdout",
     "output_type": "stream",
     "text": [
      "Model 1:\n",
      "[1. 1. 1. 1. 1.] \n",
      "\n",
      "Model 2:\n",
      "[1.         0.99641256 0.99820628 0.99281867 0.99910153]\n"
     ]
    }
   ],
   "source": [
    "# Running the models through cross validation\n",
    "\n",
    "from sklearn.model_selection import cross_val_score\n",
    "print('Model 1:')\n",
    "print(cross_val_score(bnb, data, y_pred, cv=5), '\\n')\n",
    "print('Model 2:')\n",
    "print(cross_val_score(bnb_2, data_2, y_pred_2, cv=5))"
   ]
  },
  {
   "cell_type": "markdown",
   "metadata": {},
   "source": [
    "## Model 3"
   ]
  },
  {
   "cell_type": "code",
   "execution_count": 34,
   "metadata": {},
   "outputs": [],
   "source": [
    "# Using regex to find messages with 11 digit phone numbers\n",
    "\n",
    "import re\n",
    "\n",
    "def phone(x):\n",
    "    return re.findall(r\"[^0-9][0-9]{11}[^0-9]\", x) != []\n",
    "\n",
    "sms_raw['PhoneNumber'] = sms_raw['message'].apply(phone)"
   ]
  },
  {
   "cell_type": "code",
   "execution_count": 36,
   "metadata": {},
   "outputs": [
    {
     "name": "stdout",
     "output_type": "stream",
     "text": [
      "Model 3 with phone number:\n",
      " [[4810   15]\n",
      " [ 385  362]] \n",
      "\n",
      "Model 3 precision: 0.9602122015915119 \n",
      "Model 3 recall: 0.48460508701472554\n"
     ]
    }
   ],
   "source": [
    "# Instatiating Model 3 with phone number\n",
    "\n",
    "data_3 = sms_raw.iloc[:, 2:]\n",
    "target_3 = sms_raw['spam']\n",
    "\n",
    "bnb_3 = BernoulliNB()\n",
    "bnb_3.fit(data_3, target_3)\n",
    "y_pred_3 = bnb_3.predict(data_3)\n",
    "\n",
    "print('Model 3 with phone number:\\n', confusion_matrix(target_3, y_pred_3), '\\n')\n",
    "print('Model 3 precision: {} \\nModel 3 recall: {}'.format(\n",
    "    precision(y_pred_3, target_3)[0], precision(y_pred_3, target_3)[1]))"
   ]
  },
  {
   "cell_type": "markdown",
   "metadata": {},
   "source": [
    "#### Model 3 performance\n",
    "\n",
    "This model had worse recall than Model 2, but it did classify the real messages excellently."
   ]
  },
  {
   "cell_type": "markdown",
   "metadata": {},
   "source": [
    "## Model 4"
   ]
  },
  {
   "cell_type": "code",
   "execution_count": 49,
   "metadata": {},
   "outputs": [],
   "source": [
    "# Identifying messages with more than one work in ALLCAPS.\n",
    "\n",
    "def multcaps(x):\n",
    "    return len(re.findall(r\"[A-Z]+\", x)) >= 2\n",
    "\n",
    "sms_raw['MultCAPS'] = sms_raw['message'].apply(multcaps)"
   ]
  },
  {
   "cell_type": "code",
   "execution_count": 51,
   "metadata": {},
   "outputs": [
    {
     "name": "stdout",
     "output_type": "stream",
     "text": [
      "Model 4 with phone number:\n",
      " [[4655  170]\n",
      " [ 281  466]] \n",
      "\n",
      "Model 4 precision: 0.7327044025157232 \n",
      "Model 4 recall: 0.6238286479250335\n"
     ]
    }
   ],
   "source": [
    "# Instantiating Model 4 with the MultCAPS field.\n",
    "\n",
    "data_4 = sms_raw.iloc[:, 2:]\n",
    "target_4 = sms_raw['spam']\n",
    "\n",
    "bnb_4 = BernoulliNB()\n",
    "bnb_4.fit(data_4, target_4)\n",
    "y_pred_4 = bnb_4.predict(data_4)\n",
    "\n",
    "print('Model 4 with phone number:\\n', confusion_matrix(target_4, y_pred_4), '\\n')\n",
    "print('Model 4 precision: {} \\nModel 4 recall: {}'.format(\n",
    "    precision(y_pred_4, target_4)[0], precision(y_pred_4, target_4)[1]))"
   ]
  },
  {
   "cell_type": "markdown",
   "metadata": {},
   "source": [
    "**Model 4 performance**\n",
    "\n",
    "Model 4 has the highest recall of all the models, but has also sent a high number of real messages to the spam box (2nd most of all models)."
   ]
  },
  {
   "cell_type": "markdown",
   "metadata": {},
   "source": [
    "# Model 5\n",
    "\n",
    "Before running Model 5 we will run another correlation matrix to visualize any potential variable dependence."
   ]
  },
  {
   "cell_type": "code",
   "execution_count": 59,
   "metadata": {},
   "outputs": [
    {
     "data": {
      "image/png": "[encoded data removed]",
      "text/plain": [
       "<Figure size 432x288 with 2 Axes>"
      ]
     },
     "metadata": {
      "needs_background": "light"
     },
     "output_type": "display_data"
    }
   ],
   "source": [
    "sns.heatmap(sms_raw.corr(), cmap='bwr', center=0, vmin=-1, vmax=1)\n",
    "plt.show()"
   ]
  },
  {
   "cell_type": "markdown",
   "metadata": {},
   "source": [
    "A couple of things immediately jump out from this correlation heatmap.\n",
    "\n",
    "1. \"£\" and \"congrats!\" have no correlation - not even to themselves\n",
    "    - These need to be investigated and fixed\n",
    "2. \"PhoneNumber\" has the strongest correlation to spam messages and a fairly strong one with \"call\"\n",
    "    - While the underlying assumption of the Naive Bayes model is that the variables should all be independent, I will keep both variables in the model for now.\n",
    "3. 'buy', 'allcaps', and '.co' all have extremely low correlations to spam\n",
    "    - I will remove 'buy' and 'allcaps' from the model\n",
    "    - I think the implementation of '.co' is currently incorrect so I will attempt to fix it and keep the feature in the model"
   ]
  },
  {
   "cell_type": "code",
   "execution_count": 68,
   "metadata": {},
   "outputs": [
    {
     "data": {
      "text/html": [
       "<div>\n",
       "<style scoped>\n",
       "    .dataframe tbody tr th:only-of-type {\n",
       "        vertical-align: middle;\n",
       "    }\n",
       "\n",
       "    .dataframe tbody tr th {\n",
       "        vertical-align: top;\n",
       "    }\n",
       "\n",
       "    .dataframe thead th {\n",
       "        text-align: right;\n",
       "    }\n",
       "</style>\n",
       "<table border=\"1\" class=\"dataframe\">\n",
       "  <thead>\n",
       "    <tr style=\"text-align: right;\">\n",
       "      <th></th>\n",
       "      <th>spam</th>\n",
       "      <th>message</th>\n",
       "      <th>click</th>\n",
       "      <th>offer</th>\n",
       "      <th>winner</th>\n",
       "      <th>buy</th>\n",
       "      <th>free</th>\n",
       "      <th>cash</th>\n",
       "      <th>urgent</th>\n",
       "      <th>allcaps</th>\n",
       "      <th>call</th>\n",
       "      <th>sex</th>\n",
       "      <th>.co</th>\n",
       "      <th>£</th>\n",
       "      <th>congrats!</th>\n",
       "      <th>urgent!</th>\n",
       "      <th>PhoneNumber</th>\n",
       "      <th>MultCAPS</th>\n",
       "    </tr>\n",
       "  </thead>\n",
       "  <tbody>\n",
       "    <tr>\n",
       "      <th>0</th>\n",
       "      <td>False</td>\n",
       "      <td>Go until jurong point, crazy.. Available only in bugis n great world la e buffet... Cine there got amore wat...</td>\n",
       "      <td>False</td>\n",
       "      <td>False</td>\n",
       "      <td>False</td>\n",
       "      <td>False</td>\n",
       "      <td>False</td>\n",
       "      <td>False</td>\n",
       "      <td>False</td>\n",
       "      <td>False</td>\n",
       "      <td>False</td>\n",
       "      <td>False</td>\n",
       "      <td>False</td>\n",
       "      <td>False</td>\n",
       "      <td>False</td>\n",
       "      <td>False</td>\n",
       "      <td>False</td>\n",
       "      <td>True</td>\n",
       "    </tr>\n",
       "    <tr>\n",
       "      <th>1</th>\n",
       "      <td>False</td>\n",
       "      <td>Ok lar... Joking wif u oni...</td>\n",
       "      <td>False</td>\n",
       "      <td>False</td>\n",
       "      <td>False</td>\n",
       "      <td>False</td>\n",
       "      <td>False</td>\n",
       "      <td>False</td>\n",
       "      <td>False</td>\n",
       "      <td>False</td>\n",
       "      <td>False</td>\n",
       "      <td>False</td>\n",
       "      <td>False</td>\n",
       "      <td>False</td>\n",
       "      <td>False</td>\n",
       "      <td>False</td>\n",
       "      <td>False</td>\n",
       "      <td>True</td>\n",
       "    </tr>\n",
       "    <tr>\n",
       "      <th>2</th>\n",
       "      <td>True</td>\n",
       "      <td>Free entry in 2 a wkly comp to win FA Cup final tkts 21st May 2005. Text FA to 87121 to receive entry question(std txt rate)T&amp;C's apply 08452810075over18's</td>\n",
       "      <td>False</td>\n",
       "      <td>False</td>\n",
       "      <td>False</td>\n",
       "      <td>False</td>\n",
       "      <td>False</td>\n",
       "      <td>False</td>\n",
       "      <td>False</td>\n",
       "      <td>False</td>\n",
       "      <td>False</td>\n",
       "      <td>False</td>\n",
       "      <td>False</td>\n",
       "      <td>False</td>\n",
       "      <td>False</td>\n",
       "      <td>False</td>\n",
       "      <td>True</td>\n",
       "      <td>True</td>\n",
       "    </tr>\n",
       "    <tr>\n",
       "      <th>3</th>\n",
       "      <td>False</td>\n",
       "      <td>U dun say so early hor... U c already then say...</td>\n",
       "      <td>False</td>\n",
       "      <td>False</td>\n",
       "      <td>False</td>\n",
       "      <td>False</td>\n",
       "      <td>False</td>\n",
       "      <td>False</td>\n",
       "      <td>False</td>\n",
       "      <td>False</td>\n",
       "      <td>False</td>\n",
       "      <td>False</td>\n",
       "      <td>False</td>\n",
       "      <td>False</td>\n",
       "      <td>False</td>\n",
       "      <td>False</td>\n",
       "      <td>False</td>\n",
       "      <td>True</td>\n",
       "    </tr>\n",
       "    <tr>\n",
       "      <th>4</th>\n",
       "      <td>False</td>\n",
       "      <td>Nah I don't think he goes to usf, he lives around here though</td>\n",
       "      <td>False</td>\n",
       "      <td>False</td>\n",
       "      <td>False</td>\n",
       "      <td>False</td>\n",
       "      <td>False</td>\n",
       "      <td>False</td>\n",
       "      <td>False</td>\n",
       "      <td>False</td>\n",
       "      <td>False</td>\n",
       "      <td>False</td>\n",
       "      <td>False</td>\n",
       "      <td>False</td>\n",
       "      <td>False</td>\n",
       "      <td>False</td>\n",
       "      <td>False</td>\n",
       "      <td>True</td>\n",
       "    </tr>\n",
       "  </tbody>\n",
       "</table>\n",
       "</div>"
      ],
      "text/plain": [
       "    spam  \\\n",
       "0  False   \n",
       "1  False   \n",
       "2  True    \n",
       "3  False   \n",
       "4  False   \n",
       "\n",
       "                                                                                                                                                       message  \\\n",
       "0  Go until jurong point, crazy.. Available only in bugis n great world la e buffet... Cine there got amore wat...                                               \n",
       "1  Ok lar... Joking wif u oni...                                                                                                                                 \n",
       "2  Free entry in 2 a wkly comp to win FA Cup final tkts 21st May 2005. Text FA to 87121 to receive entry question(std txt rate)T&C's apply 08452810075over18's   \n",
       "3  U dun say so early hor... U c already then say...                                                                                                             \n",
       "4  Nah I don't think he goes to usf, he lives around here though                                                                                                 \n",
       "\n",
       "   click  offer  winner    buy   free   cash  urgent  allcaps   call    sex  \\\n",
       "0  False  False  False   False  False  False  False   False    False  False   \n",
       "1  False  False  False   False  False  False  False   False    False  False   \n",
       "2  False  False  False   False  False  False  False   False    False  False   \n",
       "3  False  False  False   False  False  False  False   False    False  False   \n",
       "4  False  False  False   False  False  False  False   False    False  False   \n",
       "\n",
       "     .co      £  congrats!  urgent!  PhoneNumber  MultCAPS  \n",
       "0  False  False  False      False    False        True      \n",
       "1  False  False  False      False    False        True      \n",
       "2  False  False  False      False    True         True      \n",
       "3  False  False  False      False    False        True      \n",
       "4  False  False  False      False    False        True      "
      ]
     },
     "execution_count": 68,
     "metadata": {},
     "output_type": "execute_result"
    }
   ],
   "source": [
    "sms_raw.head()"
   ]
  },
  {
   "cell_type": "code",
   "execution_count": 69,
   "metadata": {},
   "outputs": [
    {
     "name": "stderr",
     "output_type": "stream",
     "text": [
      "/Users/mkfrancsis/anaconda3/lib/python3.7/site-packages/ipykernel_launcher.py:5: SettingWithCopyWarning: \n",
      "A value is trying to be set on a copy of a slice from a DataFrame.\n",
      "Try using .loc[row_indexer,col_indexer] = value instead\n",
      "\n",
      "See the caveats in the documentation: http://pandas.pydata.org/pandas-docs/stable/indexing.html#indexing-view-versus-copy\n",
      "  \"\"\"\n",
      "/Users/mkfrancsis/anaconda3/lib/python3.7/site-packages/ipykernel_launcher.py:6: SettingWithCopyWarning: \n",
      "A value is trying to be set on a copy of a slice from a DataFrame.\n",
      "Try using .loc[row_indexer,col_indexer] = value instead\n",
      "\n",
      "See the caveats in the documentation: http://pandas.pydata.org/pandas-docs/stable/indexing.html#indexing-view-versus-copy\n",
      "  \n",
      "/Users/mkfrancsis/anaconda3/lib/python3.7/site-packages/ipykernel_launcher.py:7: SettingWithCopyWarning: \n",
      "A value is trying to be set on a copy of a slice from a DataFrame.\n",
      "Try using .loc[row_indexer,col_indexer] = value instead\n",
      "\n",
      "See the caveats in the documentation: http://pandas.pydata.org/pandas-docs/stable/indexing.html#indexing-view-versus-copy\n",
      "  import sys\n",
      "/Users/mkfrancsis/anaconda3/lib/python3.7/site-packages/ipykernel_launcher.py:8: SettingWithCopyWarning: \n",
      "A value is trying to be set on a copy of a slice from a DataFrame.\n",
      "Try using .loc[row_indexer,col_indexer] = value instead\n",
      "\n",
      "See the caveats in the documentation: http://pandas.pydata.org/pandas-docs/stable/indexing.html#indexing-view-versus-copy\n",
      "  \n"
     ]
    }
   ],
   "source": [
    "# Creating a new DataFrame for this model\n",
    "sms_model5 = sms_raw.iloc[:, [0,1,2,4,6,7,8,10,11,16,17]]\n",
    "\n",
    "# Removing the padding spaces from these keywords\n",
    "sms_model5['.co'] = sms_raw['message'].str.contains('.co', case=False)\n",
    "sms_model5['£'] = sms_raw['message'].str.contains('£')\n",
    "sms_model5['congrats!'] = sms_raw['message'].str.contains('congrats!', case=False)\n",
    "sms_model5['urgent!'] = sms_raw['message'].str.contains('urgent!', case=False)"
   ]
  },
  {
   "cell_type": "code",
   "execution_count": 70,
   "metadata": {},
   "outputs": [
    {
     "data": {
      "text/html": [
       "<div>\n",
       "<style scoped>\n",
       "    .dataframe tbody tr th:only-of-type {\n",
       "        vertical-align: middle;\n",
       "    }\n",
       "\n",
       "    .dataframe tbody tr th {\n",
       "        vertical-align: top;\n",
       "    }\n",
       "\n",
       "    .dataframe thead th {\n",
       "        text-align: right;\n",
       "    }\n",
       "</style>\n",
       "<table border=\"1\" class=\"dataframe\">\n",
       "  <thead>\n",
       "    <tr style=\"text-align: right;\">\n",
       "      <th></th>\n",
       "      <th>spam</th>\n",
       "      <th>message</th>\n",
       "      <th>click</th>\n",
       "      <th>winner</th>\n",
       "      <th>free</th>\n",
       "      <th>cash</th>\n",
       "      <th>urgent</th>\n",
       "      <th>call</th>\n",
       "      <th>sex</th>\n",
       "      <th>PhoneNumber</th>\n",
       "      <th>MultCAPS</th>\n",
       "      <th>.co</th>\n",
       "      <th>£</th>\n",
       "      <th>congrats!</th>\n",
       "      <th>urgent!</th>\n",
       "    </tr>\n",
       "  </thead>\n",
       "  <tbody>\n",
       "    <tr>\n",
       "      <th>0</th>\n",
       "      <td>False</td>\n",
       "      <td>Go until jurong point, crazy.. Available only in bugis n great world la e buffet... Cine there got amore wat...</td>\n",
       "      <td>False</td>\n",
       "      <td>False</td>\n",
       "      <td>False</td>\n",
       "      <td>False</td>\n",
       "      <td>False</td>\n",
       "      <td>False</td>\n",
       "      <td>False</td>\n",
       "      <td>False</td>\n",
       "      <td>True</td>\n",
       "      <td>False</td>\n",
       "      <td>False</td>\n",
       "      <td>False</td>\n",
       "      <td>False</td>\n",
       "    </tr>\n",
       "    <tr>\n",
       "      <th>1</th>\n",
       "      <td>False</td>\n",
       "      <td>Ok lar... Joking wif u oni...</td>\n",
       "      <td>False</td>\n",
       "      <td>False</td>\n",
       "      <td>False</td>\n",
       "      <td>False</td>\n",
       "      <td>False</td>\n",
       "      <td>False</td>\n",
       "      <td>False</td>\n",
       "      <td>False</td>\n",
       "      <td>True</td>\n",
       "      <td>False</td>\n",
       "      <td>False</td>\n",
       "      <td>False</td>\n",
       "      <td>False</td>\n",
       "    </tr>\n",
       "    <tr>\n",
       "      <th>2</th>\n",
       "      <td>True</td>\n",
       "      <td>Free entry in 2 a wkly comp to win FA Cup final tkts 21st May 2005. Text FA to 87121 to receive entry question(std txt rate)T&amp;C's apply 08452810075over18's</td>\n",
       "      <td>False</td>\n",
       "      <td>False</td>\n",
       "      <td>False</td>\n",
       "      <td>False</td>\n",
       "      <td>False</td>\n",
       "      <td>False</td>\n",
       "      <td>False</td>\n",
       "      <td>True</td>\n",
       "      <td>True</td>\n",
       "      <td>True</td>\n",
       "      <td>False</td>\n",
       "      <td>False</td>\n",
       "      <td>False</td>\n",
       "    </tr>\n",
       "    <tr>\n",
       "      <th>3</th>\n",
       "      <td>False</td>\n",
       "      <td>U dun say so early hor... U c already then say...</td>\n",
       "      <td>False</td>\n",
       "      <td>False</td>\n",
       "      <td>False</td>\n",
       "      <td>False</td>\n",
       "      <td>False</td>\n",
       "      <td>False</td>\n",
       "      <td>False</td>\n",
       "      <td>False</td>\n",
       "      <td>True</td>\n",
       "      <td>False</td>\n",
       "      <td>False</td>\n",
       "      <td>False</td>\n",
       "      <td>False</td>\n",
       "    </tr>\n",
       "    <tr>\n",
       "      <th>4</th>\n",
       "      <td>False</td>\n",
       "      <td>Nah I don't think he goes to usf, he lives around here though</td>\n",
       "      <td>False</td>\n",
       "      <td>False</td>\n",
       "      <td>False</td>\n",
       "      <td>False</td>\n",
       "      <td>False</td>\n",
       "      <td>False</td>\n",
       "      <td>False</td>\n",
       "      <td>False</td>\n",
       "      <td>True</td>\n",
       "      <td>False</td>\n",
       "      <td>False</td>\n",
       "      <td>False</td>\n",
       "      <td>False</td>\n",
       "    </tr>\n",
       "  </tbody>\n",
       "</table>\n",
       "</div>"
      ],
      "text/plain": [
       "    spam  \\\n",
       "0  False   \n",
       "1  False   \n",
       "2  True    \n",
       "3  False   \n",
       "4  False   \n",
       "\n",
       "                                                                                                                                                       message  \\\n",
       "0  Go until jurong point, crazy.. Available only in bugis n great world la e buffet... Cine there got amore wat...                                               \n",
       "1  Ok lar... Joking wif u oni...                                                                                                                                 \n",
       "2  Free entry in 2 a wkly comp to win FA Cup final tkts 21st May 2005. Text FA to 87121 to receive entry question(std txt rate)T&C's apply 08452810075over18's   \n",
       "3  U dun say so early hor... U c already then say...                                                                                                             \n",
       "4  Nah I don't think he goes to usf, he lives around here though                                                                                                 \n",
       "\n",
       "   click  winner   free   cash  urgent   call    sex  PhoneNumber  MultCAPS  \\\n",
       "0  False  False   False  False  False   False  False  False        True       \n",
       "1  False  False   False  False  False   False  False  False        True       \n",
       "2  False  False   False  False  False   False  False  True         True       \n",
       "3  False  False   False  False  False   False  False  False        True       \n",
       "4  False  False   False  False  False   False  False  False        True       \n",
       "\n",
       "     .co      £  congrats!  urgent!  \n",
       "0  False  False  False      False    \n",
       "1  False  False  False      False    \n",
       "2  True   False  False      False    \n",
       "3  False  False  False      False    \n",
       "4  False  False  False      False    "
      ]
     },
     "execution_count": 70,
     "metadata": {},
     "output_type": "execute_result"
    }
   ],
   "source": [
    "sms_model5.head()"
   ]
  },
  {
   "cell_type": "code",
   "execution_count": 71,
   "metadata": {},
   "outputs": [
    {
     "data": {
      "image/png": "[encoded data removed]",
      "text/plain": [
       "<Figure size 432x288 with 2 Axes>"
      ]
     },
     "metadata": {
      "needs_background": "light"
     },
     "output_type": "display_data"
    }
   ],
   "source": [
    "sns.heatmap(sms_model5.corr(), center=0, vmin=-1, vmax=1, cmap='bwr')\n",
    "plt.show()"
   ]
  },
  {
   "cell_type": "markdown",
   "metadata": {},
   "source": [
    "All the problem variables have been fixed now. And we see much stronger correlations to the spam messages.  One downside to these new features is that there are more dependent relations between variables. We'll spin up a new NB model for this dataset now."
   ]
  },
  {
   "cell_type": "code",
   "execution_count": 72,
   "metadata": {},
   "outputs": [
    {
     "name": "stdout",
     "output_type": "stream",
     "text": [
      "Model 5:\n",
      " [[4782   43]\n",
      " [ 249  498]] \n",
      "\n",
      "Model 5 precision: 0.9205175600739371 \n",
      "Model 5 recall: 0.6666666666666666\n"
     ]
    }
   ],
   "source": [
    "# Instantiating Model 5\n",
    "bnb_5 = BernoulliNB()\n",
    "\n",
    "data_5 = sms_model5.iloc[:, 2:]\n",
    "target_5 = sms_model5['spam']\n",
    "\n",
    "bnb_5.fit(data_5, target_5)\n",
    "y_pred_5 = bnb_5.predict(data_5)\n",
    "\n",
    "print('Model 5:\\n', confusion_matrix(target_5, y_pred_5), '\\n')\n",
    "print('Model 5 precision: {} \\nModel 5 recall: {}'.format(\n",
    "    precision(y_pred_5, target_5)[0], precision(y_pred_5, target_5)[1]))"
   ]
  },
  {
   "cell_type": "code",
   "execution_count": 74,
   "metadata": {},
   "outputs": [
    {
     "data": {
      "text/plain": [
       "array([0.98747764, 0.99640934, 0.98922801, 0.99640934, 0.98743268,\n",
       "       0.98922801, 0.99820467, 0.99281867, 0.99102334, 0.994614  ])"
      ]
     },
     "execution_count": 74,
     "metadata": {},
     "output_type": "execute_result"
    }
   ],
   "source": [
    "cross_val_score(bnb_5, data_5, y_pred_5, cv=10)"
   ]
  },
  {
   "cell_type": "markdown",
   "metadata": {},
   "source": [
    "# Comparing all the model results"
   ]
  },
  {
   "cell_type": "code",
   "execution_count": 73,
   "metadata": {},
   "outputs": [
    {
     "name": "stdout",
     "output_type": "stream",
     "text": [
      "Model 1:\n",
      " [[4770   55]\n",
      " [ 549  198]] \n",
      "\n",
      "Model 2:\n",
      " [[4595  230]\n",
      " [ 328  419]] \n",
      "\n",
      "Model 3:\n",
      " [[4810   15]\n",
      " [ 385  362]] \n",
      "\n",
      "Model 4:\n",
      " [[4655  170]\n",
      " [ 281  466]] \n",
      "\n",
      "Model 5:\n",
      " [[4782   43]\n",
      " [ 249  498]] \n",
      "\n"
     ]
    }
   ],
   "source": [
    "print('Model 1:\\n', confusion_matrix(target, y_pred), '\\n')\n",
    "print('Model 2:\\n', confusion_matrix(target_2, y_pred_2), '\\n')\n",
    "print('Model 3:\\n', confusion_matrix(target_3, y_pred_3), '\\n')\n",
    "print('Model 4:\\n', confusion_matrix(target_4, y_pred_4), '\\n')\n",
    "print('Model 5:\\n', confusion_matrix(target_5, y_pred_5), '\\n')\n"
   ]
  },
  {
   "cell_type": "markdown",
   "metadata": {},
   "source": [
    "Model 5 caught the most spam and sent the second least number of real messages to the spam box. Based on a 10 fold cross validation, the model is not overfit to the data.  All in all, its a fairly robust model."
   ]
  },
  {
   "cell_type": "code",
   "execution_count": null,
   "metadata": {},
   "outputs": [],
   "source": []
  }
 ],
 "metadata": {
  "kernelspec": {
   "display_name": "Python 3",
   "language": "python",
   "name": "python3"
  },
  "language_info": {
   "codemirror_mode": {
    "name": "ipython",
    "version": 3
   },
   "file_extension": ".py",
   "mimetype": "text/x-python",
   "name": "python",
   "nbconvert_exporter": "python",
   "pygments_lexer": "ipython3",
   "version": "3.7.1"
  }
 },
 "nbformat": 4,
 "nbformat_minor": 2
}
