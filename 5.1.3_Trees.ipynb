{
 "cells": [
  {
   "cell_type": "markdown",
   "metadata": {},
   "source": [
    "# Trees\n",
    "\n",
    "Trees are a hierarchical data structure that provides a useful way for storing information and is rapidly searchable.  They are very flexible.\n",
    "\n",
    "![tree](https://tf-curricula-prod.s3.amazonaws.com/curricula/c3a4efdddb2b3127d6f003a66bbf8c24/DATA-201/v1/assets2/resources/binary_tree_basic.jpeg)\n",
    "\n",
    "This is a binary tree, where each split has no more than 2 resulting categories.  Specifically, it is a perfect binary tree since it is complete with the terminating classes at the same level.  The terminology of a tree is similar to that of a decision tree.  Here, $A$ is our _root_ and it is the _parent_ of $B$ and $C$ .  $B$ and $C$ are _children_ of $A$ . Because they have no children, $D$, $E$, $F$, and $G$ are _leaves_.\n",
    "\n",
    "\n",
    "## Flexibility\n",
    "\n",
    "Lists and linked lists have a clear order which means they are rigid data structures.  Trees can assume essentially any shape and therefore are much more flexible data structures.  Trees are especially good at handling hierarchical data.  \n",
    "\n",
    "\n",
    "## Traversing \n",
    "\n",
    "Traversing a tree, or seeing the value of all nodes and discerning the overall structure, can be done in several ways, whereas traversing a list-like structure can only be performed in one direction.  \n",
    "\n",
    "The simplest way is **breadth-first**.  Starting at the root you look at the breadth of a layer before moving down to the next child layer.  Usually this is done from right to left.  For the tree given above, this would yield $A$, $B$, $C$, $D$, $E$, $F$, $G$.\n",
    "\n",
    "The other potential way to traverse is **depth-first**.  Here you move down the entire left side of the tree, sequentially step up one level and move to right before interrogating the entire depth of that tree.  For the tree above this would look like: $A$, $B$, $D$, $E$, $C$, $F$, $G$.\n",
    "\n",
    "\n",
    "## Binary Heaps\n",
    "\n",
    "Binary heaps are a specific type of binary tree.  These have two defining characteristics: 1) They must be complete binary trees, and 2) The values must always increase or decrease as you move from layer to layer.  This means that a parent must be greater or less than all of it's children.  A maximum binary heap sees the parent as always greater than the children and a minimum binary heap has the opposite composition.  Here is an example of a maximum binary heap.\n",
    "\n",
    "![image](https://tf-curricula-prod.s3.amazonaws.com/curricula/c3a4efdddb2b3127d6f003a66bbf8c24/DATA-201/v1/assets2/resources/binary_heap.jpeg)\n",
    "\n",
    "This data structure has advantages for searching for data.  For instance, when we look at the second layer of the binary heap above, the only place an 8 could be is as the child of the 9.  This gives us much more efficiency in the search process.  \n",
    "\n",
    "\n",
    "## Implementation\n",
    "\n",
    "Let's implement a binary tree with 15 random values and traverse it."
   ]
  },
  {
   "cell_type": "code",
   "execution_count": 8,
   "metadata": {},
   "outputs": [],
   "source": [
    "import random\n",
    "import math"
   ]
  },
  {
   "cell_type": "code",
   "execution_count": 1,
   "metadata": {},
   "outputs": [],
   "source": [
    "# Simplest implementation of a tree but relies on manual additions\n",
    "class Node:\n",
    "    def __init__(self, val, left=None, right=None):\n",
    "        self.val = val\n",
    "        self.left = left\n",
    "        self.right = right\n"
   ]
  },
  {
   "cell_type": "code",
   "execution_count": 11,
   "metadata": {},
   "outputs": [],
   "source": [
    "root = Node(10, left=7, right=9)\n",
    "root.left = Node(7, left=1, right=5)\n",
    "root.right = Node(9, left=3, right=8)"
   ]
  },
  {
   "cell_type": "code",
   "execution_count": 12,
   "metadata": {},
   "outputs": [
    {
     "data": {
      "text/plain": [
       "10"
      ]
     },
     "execution_count": 12,
     "metadata": {},
     "output_type": "execute_result"
    }
   ],
   "source": [
    "root.val"
   ]
  },
  {
   "cell_type": "code",
   "execution_count": 13,
   "metadata": {},
   "outputs": [
    {
     "data": {
      "text/plain": [
       "1"
      ]
     },
     "execution_count": 13,
     "metadata": {},
     "output_type": "execute_result"
    }
   ],
   "source": [
    "root.left.left"
   ]
  },
  {
   "cell_type": "code",
   "execution_count": 81,
   "metadata": {},
   "outputs": [],
   "source": [
    "# More general way to implement a binary heap\n",
    "class BinHeap:\n",
    "    def __init__(self):\n",
    "        self.heapList = [0]\n",
    "        self.currentSize = 0\n",
    "        \n",
    "    def buildHeap(self, lst):\n",
    "        i = len(lst) // 2\n",
    "        self.currentSize = len(lst)\n",
    "        self.heapList = [0] + lst[:]\n",
    "        while (i > 0):\n",
    "            self.percDown(i)\n",
    "            i = i - 1\n",
    "            \n",
    "    def percDown(self, i):\n",
    "        while (i * 2) <= self.currentSize:\n",
    "            mc = self.minChild(i)\n",
    "            if self.heapList[i] > self.heapList[mc]:\n",
    "                tmp = self.heapList[i]\n",
    "                self.heapList[i] = self.heapList[mc]\n",
    "                self.heapList[mc] = tmp\n",
    "            i = mc\n",
    "            \n",
    "    def minChild(self, i):\n",
    "        '''returns the minimum child'''\n",
    "        if i * 2 + 1 > self.currentSize:\n",
    "            return i * 2\n",
    "        else:\n",
    "            if self.heapList[i*2] < self.heapList[i*2+1]:\n",
    "                return i * 2 \n",
    "            else:\n",
    "                return i * 2 + 1\n",
    "            \n",
    "    def printHeap(self):\n",
    "        '''print Heap in breadth first traverse'''\n",
    "        out = []\n",
    "        for i in range(self.currentSize):\n",
    "            out.append(self.heapList[i])\n",
    "        return out"
   ]
  },
  {
   "cell_type": "code",
   "execution_count": 82,
   "metadata": {},
   "outputs": [],
   "source": [
    "rand = [random.randint(0, 100) for i in range(15)]\n",
    "\n",
    "heap = BinHeap()"
   ]
  },
  {
   "cell_type": "code",
   "execution_count": 83,
   "metadata": {},
   "outputs": [
    {
     "data": {
      "text/plain": [
       "[2, 9, 71, 7, 56, 82, 88, 17, 12, 72, 1, 25, 46, 78, 54]"
      ]
     },
     "execution_count": 83,
     "metadata": {},
     "output_type": "execute_result"
    }
   ],
   "source": [
    "rand "
   ]
  },
  {
   "cell_type": "code",
   "execution_count": 84,
   "metadata": {},
   "outputs": [],
   "source": [
    "heap.buildHeap(rand)"
   ]
  },
  {
   "cell_type": "code",
   "execution_count": 85,
   "metadata": {},
   "outputs": [
    {
     "data": {
      "text/plain": [
       "[0, 1, 2, 25, 7, 9, 46, 54, 17, 12, 72, 56, 82, 71, 78]"
      ]
     },
     "execution_count": 85,
     "metadata": {},
     "output_type": "execute_result"
    }
   ],
   "source": [
    "heap.printHeap()"
   ]
  },
  {
   "cell_type": "code",
   "execution_count": null,
   "metadata": {},
   "outputs": [],
   "source": []
  },
  {
   "cell_type": "code",
   "execution_count": null,
   "metadata": {},
   "outputs": [],
   "source": []
  },
  {
   "cell_type": "code",
   "execution_count": null,
   "metadata": {},
   "outputs": [],
   "source": []
  }
 ],
 "metadata": {
  "kernelspec": {
   "display_name": "Python 3",
   "language": "python",
   "name": "python3"
  },
  "language_info": {
   "codemirror_mode": {
    "name": "ipython",
    "version": 3
   },
   "file_extension": ".py",
   "mimetype": "text/x-python",
   "name": "python",
   "nbconvert_exporter": "python",
   "pygments_lexer": "ipython3",
   "version": "3.7.1"
  },
  "toc": {
   "base_numbering": 1,
   "nav_menu": {},
   "number_sections": true,
   "sideBar": true,
   "skip_h1_title": false,
   "title_cell": "Table of Contents",
   "title_sidebar": "Contents",
   "toc_cell": false,
   "toc_position": {},
   "toc_section_display": true,
   "toc_window_display": false
  }
 },
 "nbformat": 4,
 "nbformat_minor": 2
}
